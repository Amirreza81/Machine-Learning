{
  "nbformat": 4,
  "nbformat_minor": 0,
  "metadata": {
    "colab": {
      "provenance": [],
      "gpuType": "T4"
    },
    "kernelspec": {
      "name": "python3",
      "display_name": "Python 3"
    },
    "language_info": {
      "name": "python"
    }
  },
  "cells": [
    {
      "cell_type": "markdown",
      "source": [
        "## AmirReza Azari\n",
        "## 99101087"
      ],
      "metadata": {
        "id": "9MeZoPFS9UWH"
      }
    },
    {
      "cell_type": "markdown",
      "source": [
        "# **Introduction**"
      ],
      "metadata": {
        "id": "6Y2oAz-bELlu"
      }
    },
    {
      "cell_type": "markdown",
      "source": [
        "In this assignment, you will work with a dataset that includes The Boston housing data was collected in 1978 and each of the 506 entries represent aggregated data about 14 features for homes from various suburbs in Boston, Massachusetts. The target variable of interest in this dataset is the median value of owner-occupied homes (MEDV), which serves as a proxy for the house prices.\n",
        "First, you will start by fitting a basic regression model using scikit-learn (sklearn) to establish a baseline for comparison. This basic regression model will serve as a reference point for evaluating the performance of more sophisticated models incorporating regularization techniques.\n",
        "\n",
        "Furthermore, you will apply L1 (Lasso) and L2 (Ridge) regularization techniques to refine your predictions and evaluate the impact of these methods on the accuracy of your results. Regularization is a technique used to prevent overfitting by adding a penalty term to the loss function, encouraging simpler models with smaller coefficients. L1 regularization (Lasso) encourages sparsity by penalizing the absolute values of coefficients, while L2 regularization (Ridge) penalizes the square of coefficients. By incorporating these regularization techniques, you aim to improve the generalization performance of your regression models and obtain more robust predictions of house prices in the Boston area."
      ],
      "metadata": {
        "id": "333JCswHnbQp"
      }
    },
    {
      "cell_type": "markdown",
      "source": [
        "## Imports"
      ],
      "metadata": {
        "id": "sDDdf9AAoYXt"
      }
    },
    {
      "cell_type": "code",
      "source": [
        "import os\n",
        "import pandas\n",
        "from sklearn.linear_model import LinearRegression, Lasso, Ridge\n",
        "from sklearn.metrics import mean_squared_error, r2_score\n",
        "from sklearn.model_selection import train_test_split\n",
        "from sklearn.preprocessing import StandardScaler, PolynomialFeatures\n",
        "import numpy as np\n",
        "import pandas as pd\n",
        "import seaborn as sns\n",
        "from joblib import dump, load\n",
        "from matplotlib import pyplot as plt\n",
        "\n",
        "#!wget -O /HousingData.csv \"https://www.dropbox.com/scl/fi/j3rxgrd8l7fgczzhiedlp/new.csv?rlkey=yngaf57gumhtmm3hxffk20qll&dl=0\""
      ],
      "metadata": {
        "id": "kkjrbInyoRyN"
      },
      "execution_count": 34,
      "outputs": []
    },
    {
      "cell_type": "markdown",
      "source": [
        "# Load and Explore"
      ],
      "metadata": {
        "id": "jBpa9AGHEtD7"
      }
    },
    {
      "cell_type": "markdown",
      "source": [
        "Load the dataset (as a dataframe) using pandas and display the top 5 rows of the dataframe and then check for missing values and impute missing values with mean"
      ],
      "metadata": {
        "id": "MFzJZLOxoZDJ"
      }
    },
    {
      "cell_type": "code",
      "source": [
        "file_path = '/HousingData.csv'\n",
        "# TODO: Load the Dataset and Check for mising values and then impute them with the mean value\n",
        "df = pd.read_csv(file_path)\n",
        "print(df.head())\n",
        "\n",
        "num_of_zero = df.isnull().sum()\n",
        "print(num_of_zero)\n",
        "if num_of_zero.any() == 0:\n",
        "  print(\"We do not have missing values here!\")\n",
        "else:\n",
        "  print(\"Missing values:\")\n",
        "  print(num_of_zero)\n",
        "  df.fillna(df.mean(), inplace=True)\n"
      ],
      "metadata": {
        "id": "lqhABVd2oZYV",
        "colab": {
          "base_uri": "https://localhost:8080/"
        },
        "outputId": "f2cb52c7-f431-4230-8e30-56d13c743963"
      },
      "execution_count": 35,
      "outputs": [
        {
          "output_type": "stream",
          "name": "stdout",
          "text": [
            "      CRIM    ZN  INDUS  CHAS    NOX     RM   AGE     DIS  TAX  PTRATIO  \\\n",
            "0  0.00632  18.0   2.31   0.0  0.538  6.575  65.2  4.0900  296     15.3   \n",
            "1  0.02731   0.0   7.07   0.0  0.469  6.421  78.9  4.9671  242     17.8   \n",
            "2  0.02729   0.0   7.07   0.0  0.469  7.185  61.1  4.9671  242     17.8   \n",
            "3  0.03237   0.0   2.18   0.0  0.458  6.998  45.8  6.0622  222     18.7   \n",
            "4  0.06905   0.0   2.18   0.0  0.458  7.147  54.2  6.0622  222     18.7   \n",
            "\n",
            "        B      LSTAT  MEDV  \n",
            "0  396.90   4.980000  24.0  \n",
            "1  396.90   9.140000  21.6  \n",
            "2  392.83   4.030000  34.7  \n",
            "3  394.63   2.940000  33.4  \n",
            "4  396.90  12.715432  36.2  \n",
            "CRIM       0\n",
            "ZN         0\n",
            "INDUS      0\n",
            "CHAS       0\n",
            "NOX        0\n",
            "RM         0\n",
            "AGE        0\n",
            "DIS        0\n",
            "TAX        0\n",
            "PTRATIO    0\n",
            "B          0\n",
            "LSTAT      0\n",
            "MEDV       0\n",
            "dtype: int64\n",
            "We do not have missing values here!\n"
          ]
        }
      ]
    },
    {
      "cell_type": "markdown",
      "source": [
        "Get a brief description of the dataset"
      ],
      "metadata": {
        "id": "5-Py3iuJoZwi"
      }
    },
    {
      "cell_type": "code",
      "source": [
        "# TODO: you can use .info() and .description()\n",
        "print(df.info())\n",
        "print(df.describe())"
      ],
      "metadata": {
        "id": "zThHHTAcoZ_h",
        "colab": {
          "base_uri": "https://localhost:8080/"
        },
        "outputId": "73592cee-6cee-44c9-945e-b4f619dca5b1"
      },
      "execution_count": 36,
      "outputs": [
        {
          "output_type": "stream",
          "name": "stdout",
          "text": [
            "<class 'pandas.core.frame.DataFrame'>\n",
            "RangeIndex: 506 entries, 0 to 505\n",
            "Data columns (total 13 columns):\n",
            " #   Column   Non-Null Count  Dtype  \n",
            "---  ------   --------------  -----  \n",
            " 0   CRIM     506 non-null    float64\n",
            " 1   ZN       506 non-null    float64\n",
            " 2   INDUS    506 non-null    float64\n",
            " 3   CHAS     506 non-null    float64\n",
            " 4   NOX      506 non-null    float64\n",
            " 5   RM       506 non-null    float64\n",
            " 6   AGE      506 non-null    float64\n",
            " 7   DIS      506 non-null    float64\n",
            " 8   TAX      506 non-null    int64  \n",
            " 9   PTRATIO  506 non-null    float64\n",
            " 10  B        506 non-null    float64\n",
            " 11  LSTAT    506 non-null    float64\n",
            " 12  MEDV     506 non-null    float64\n",
            "dtypes: float64(12), int64(1)\n",
            "memory usage: 51.5 KB\n",
            "None\n",
            "             CRIM          ZN       INDUS        CHAS         NOX          RM  \\\n",
            "count  506.000000  506.000000  506.000000  506.000000  506.000000  506.000000   \n",
            "mean     3.611874   11.211934   11.083992    0.069959    0.554695    6.284634   \n",
            "std      8.545770   22.921051    6.699165    0.250233    0.115878    0.702617   \n",
            "min      0.006320    0.000000    0.460000    0.000000    0.385000    3.561000   \n",
            "25%      0.083235    0.000000    5.190000    0.000000    0.449000    5.885500   \n",
            "50%      0.290250    0.000000    9.900000    0.000000    0.538000    6.208500   \n",
            "75%      3.611874   11.211934   18.100000    0.000000    0.624000    6.623500   \n",
            "max     88.976200  100.000000   27.740000    1.000000    0.871000    8.780000   \n",
            "\n",
            "              AGE         DIS         TAX     PTRATIO           B       LSTAT  \\\n",
            "count  506.000000  506.000000  506.000000  506.000000  506.000000  506.000000   \n",
            "mean    68.518519    3.795043  408.237154   18.455534  356.674032   12.715432   \n",
            "std     27.439466    2.105710  168.537116    2.164946   91.294864    7.012739   \n",
            "min      2.900000    1.129600  187.000000   12.600000    0.320000    1.730000   \n",
            "25%     45.925000    2.100175  279.000000   17.400000  375.377500    7.230000   \n",
            "50%     74.450000    3.207450  330.000000   19.050000  391.440000   11.995000   \n",
            "75%     93.575000    5.188425  666.000000   20.200000  396.225000   16.570000   \n",
            "max    100.000000   12.126500  711.000000   22.000000  396.900000   37.970000   \n",
            "\n",
            "             MEDV  \n",
            "count  506.000000  \n",
            "mean    22.532806  \n",
            "std      9.197104  \n",
            "min      5.000000  \n",
            "25%     17.025000  \n",
            "50%     21.200000  \n",
            "75%     25.000000  \n",
            "max     50.000000  \n"
          ]
        }
      ]
    },
    {
      "cell_type": "markdown",
      "source": [
        "Extract only the features from the dataframe by removing the target column and then Convert the new dataframe into a numpy array\n",
        "</br>\n",
        "Note: **Do not remove the previous dataframe.**\n"
      ],
      "metadata": {
        "id": "gHcKVT_4oabK"
      }
    },
    {
      "cell_type": "markdown",
      "source": [
        "# Preprocessing"
      ],
      "metadata": {
        "id": "VkDUEmURE-Sx"
      }
    },
    {
      "cell_type": "code",
      "source": [
        "# TODO: drop MEDV and convert to numpy array\n",
        "dropped_df = df.drop(columns=['MEDV'])\n",
        "dropped_np = np.array(dropped_df.values)\n",
        "print(type(dropped_np))\n",
        "print(dropped_np)\n",
        "print(\"#########################################################################\")\n",
        "print(dropped_np[:5])\n",
        "print(dropped_np.shape)"
      ],
      "metadata": {
        "id": "FtT8kFoBoajv",
        "colab": {
          "base_uri": "https://localhost:8080/"
        },
        "outputId": "82b6324f-3865-4bfe-8d42-be4ba76b4d6f"
      },
      "execution_count": 37,
      "outputs": [
        {
          "output_type": "stream",
          "name": "stdout",
          "text": [
            "<class 'numpy.ndarray'>\n",
            "[[6.3200e-03 1.8000e+01 2.3100e+00 ... 1.5300e+01 3.9690e+02 4.9800e+00]\n",
            " [2.7310e-02 0.0000e+00 7.0700e+00 ... 1.7800e+01 3.9690e+02 9.1400e+00]\n",
            " [2.7290e-02 0.0000e+00 7.0700e+00 ... 1.7800e+01 3.9283e+02 4.0300e+00]\n",
            " ...\n",
            " [6.0760e-02 0.0000e+00 1.1930e+01 ... 2.1000e+01 3.9690e+02 5.6400e+00]\n",
            " [1.0959e-01 0.0000e+00 1.1930e+01 ... 2.1000e+01 3.9345e+02 6.4800e+00]\n",
            " [4.7410e-02 0.0000e+00 1.1930e+01 ... 2.1000e+01 3.9690e+02 7.8800e+00]]\n",
            "#########################################################################\n",
            "[[6.32000000e-03 1.80000000e+01 2.31000000e+00 0.00000000e+00\n",
            "  5.38000000e-01 6.57500000e+00 6.52000000e+01 4.09000000e+00\n",
            "  2.96000000e+02 1.53000000e+01 3.96900000e+02 4.98000000e+00]\n",
            " [2.73100000e-02 0.00000000e+00 7.07000000e+00 0.00000000e+00\n",
            "  4.69000000e-01 6.42100000e+00 7.89000000e+01 4.96710000e+00\n",
            "  2.42000000e+02 1.78000000e+01 3.96900000e+02 9.14000000e+00]\n",
            " [2.72900000e-02 0.00000000e+00 7.07000000e+00 0.00000000e+00\n",
            "  4.69000000e-01 7.18500000e+00 6.11000000e+01 4.96710000e+00\n",
            "  2.42000000e+02 1.78000000e+01 3.92830000e+02 4.03000000e+00]\n",
            " [3.23700000e-02 0.00000000e+00 2.18000000e+00 0.00000000e+00\n",
            "  4.58000000e-01 6.99800000e+00 4.58000000e+01 6.06220000e+00\n",
            "  2.22000000e+02 1.87000000e+01 3.94630000e+02 2.94000000e+00]\n",
            " [6.90500000e-02 0.00000000e+00 2.18000000e+00 0.00000000e+00\n",
            "  4.58000000e-01 7.14700000e+00 5.42000000e+01 6.06220000e+00\n",
            "  2.22000000e+02 1.87000000e+01 3.96900000e+02 1.27154321e+01]]\n",
            "(506, 12)\n"
          ]
        }
      ]
    },
    {
      "cell_type": "markdown",
      "source": [
        "look for outliers using box plot and if There are some outliers in data, use StandardScaler can help in scaling data."
      ],
      "metadata": {
        "id": "forjBjgQHDz0"
      }
    },
    {
      "cell_type": "code",
      "source": [
        "# df.boxplot(figsize=(8, 4))\n",
        "# plt.title(\"first data\")\n",
        "# plt.show()\n",
        "\n",
        "dropped_df.boxplot(figsize=(8, 4))\n",
        "plt.show()\n",
        "\n",
        "dropped_MEDV_scalar = StandardScaler().fit_transform(dropped_df)"
      ],
      "metadata": {
        "id": "fJVP9gGnFHbM",
        "colab": {
          "base_uri": "https://localhost:8080/",
          "height": 368
        },
        "outputId": "8ce02d78-f5ab-4574-f437-c688ce7fb8cd"
      },
      "execution_count": 38,
      "outputs": [
        {
          "output_type": "display_data",
          "data": {
            "text/plain": [
              "<Figure size 800x400 with 1 Axes>"
            ],
            "image/png": "[encoded data removed]"
          },
          "metadata": {}
        }
      ]
    },
    {
      "cell_type": "markdown",
      "source": [
        "add polynomial features to increase model complexity!\n",
        "\n"
      ],
      "metadata": {
        "id": "mLfX6ugX3fNM"
      }
    },
    {
      "cell_type": "code",
      "source": [
        "poly_features = PolynomialFeatures(degree=2)\n",
        "dropped_MEDV_scalar = poly_features.fit_transform(dropped_MEDV_scalar)\n",
        "print(dropped_MEDV_scalar)\n",
        "print(dropped_MEDV_scalar.shape)\n",
        "print(df.shape)\n",
        "print(dropped_df.shape)"
      ],
      "metadata": {
        "id": "rkEQ02jU3fXj",
        "colab": {
          "base_uri": "https://localhost:8080/"
        },
        "outputId": "b4b321ea-54fa-448f-a79d-e36497eb9a0d"
      },
      "execution_count": 39,
      "outputs": [
        {
          "output_type": "stream",
          "name": "stdout",
          "text": [
            "[[ 1.         -0.42232846  0.29644292 ...  0.19452681 -0.4869857\n",
            "   1.21913823]\n",
            " [ 1.         -0.41986984 -0.48963852 ...  0.19452681 -0.22509205\n",
            "   0.2604599 ]\n",
            " [ 1.         -0.41987219 -0.48963852 ...  0.15715436 -0.49146947\n",
            "   1.53697447]\n",
            " ...\n",
            " [ 1.         -0.41595175 -0.48963852 ...  0.19452681 -0.44543526\n",
            "   1.01997548]\n",
            " [ 1.         -0.41023216 -0.48963852 ...  0.16259032 -0.3588854\n",
            "   0.79216729]\n",
            " [ 1.         -0.41751548 -0.48963852 ...  0.19452681 -0.30441561\n",
            "   0.47638094]]\n",
            "(506, 91)\n",
            "(506, 13)\n",
            "(506, 12)\n"
          ]
        }
      ]
    },
    {
      "cell_type": "markdown",
      "source": [
        "Extract the target column from the previously mentioned DataFrame and transform it into a new NumPy array, named y."
      ],
      "metadata": {
        "id": "8_TZ52zNoatM"
      }
    },
    {
      "cell_type": "code",
      "source": [
        "# TODO: extract the MEDV\n",
        "y = df['MEDV'].values\n",
        "print(type(y))\n",
        "print(y[:5])\n",
        "print(y.shape)"
      ],
      "metadata": {
        "id": "lzDxTUBFoa4I",
        "colab": {
          "base_uri": "https://localhost:8080/"
        },
        "outputId": "64313230-e3e7-4d17-d362-a05f552dffd7"
      },
      "execution_count": 40,
      "outputs": [
        {
          "output_type": "stream",
          "name": "stdout",
          "text": [
            "<class 'numpy.ndarray'>\n",
            "[24.  21.6 34.7 33.4 36.2]\n",
            "(506,)\n"
          ]
        }
      ]
    },
    {
      "cell_type": "markdown",
      "source": [
        "\n",
        "\n",
        "Split the dataset into two parts such that the training set contains 80% of the samples."
      ],
      "metadata": {
        "id": "6zVgga7tobBP"
      }
    },
    {
      "cell_type": "code",
      "source": [
        "# TODO: Split the dataset into two parts such that the training set contains 80% of the samples.\n",
        "X_train, X_test, y_train, y_test = train_test_split(dropped_MEDV_scalar, y, test_size=0.2, random_state=42)\n",
        "\n",
        "print(\"Shape of X_train:\", X_train.shape)\n",
        "print(\"Shape of X_test:\", X_test.shape)\n",
        "print(\"Shape of y_train:\", y_train.shape)\n",
        "print(\"Shape of y_test:\", y_test.shape)"
      ],
      "metadata": {
        "id": "2LGiy-8LobKh",
        "colab": {
          "base_uri": "https://localhost:8080/"
        },
        "outputId": "3cb3ab4a-3c1f-4283-e8a6-ce57b72da775"
      },
      "execution_count": 41,
      "outputs": [
        {
          "output_type": "stream",
          "name": "stdout",
          "text": [
            "Shape of X_train: (404, 91)\n",
            "Shape of X_test: (102, 91)\n",
            "Shape of y_train: (404,)\n",
            "Shape of y_test: (102,)\n"
          ]
        }
      ]
    },
    {
      "cell_type": "markdown",
      "source": [
        "# Training"
      ],
      "metadata": {
        "id": "s-rejkt9FHTj"
      }
    },
    {
      "cell_type": "markdown",
      "source": [
        "\n",
        "Fit a linear regressor to the data. (Use sklearn)\n"
      ],
      "metadata": {
        "id": "_qoiRXLOv25z"
      }
    },
    {
      "cell_type": "code",
      "source": [
        "# TODO: Use sklearn\n",
        "regressor = LinearRegression()\n",
        "regressor.fit(X_train, y_train)\n",
        "print(\"Coefficients:\", regressor.coef_)\n",
        "print(\"Intercept:\", regressor.intercept_)"
      ],
      "metadata": {
        "id": "jWvwdl-Iv3FF",
        "colab": {
          "base_uri": "https://localhost:8080/"
        },
        "outputId": "70424766-3826-4df2-e7bd-0dbe8280feef"
      },
      "execution_count": 42,
      "outputs": [
        {
          "output_type": "stream",
          "name": "stdout",
          "text": [
            "Coefficients: [ 6.71326437e-15  2.61543210e+00  8.23937159e-01  2.71362629e-01\n",
            " -3.48211983e+00 -1.29409137e+00  3.44585661e+00 -1.21943076e+00\n",
            " -1.81707978e+00 -1.35705037e+00 -7.62724086e-01  9.41284776e-02\n",
            " -3.26790109e+00  1.88815533e-01 -2.12293611e+00  3.27201664e+00\n",
            "  2.99592944e+00 -2.33583776e+00  3.47631370e-01  2.08741825e-01\n",
            "  2.21883471e+00 -2.33322440e+00 -2.04447912e+00  7.41756805e-03\n",
            "  1.19322150e+00 -8.41126027e-02  1.01385910e-01  2.74709658e-01\n",
            " -2.78021092e+00 -1.52798130e-01  7.61588328e-01 -1.08630659e+00\n",
            "  2.97124880e+00 -2.68640233e-01 -3.02213841e+00 -1.60704564e+00\n",
            "  1.31321171e+00 -3.11014224e-01 -5.10197825e-01  1.28252455e+00\n",
            "  1.32809034e+00  1.38205448e+00 -6.50905063e-01 -1.06080996e+00\n",
            "  7.72225398e-01 -5.06351131e-01  1.37177961e+00 -1.08949576e+00\n",
            " -9.50138209e-01 -4.45437289e-01 -1.69626905e+00  5.47158139e-01\n",
            " -1.88581634e-01  6.91851939e-03 -4.71226094e-01 -3.79170284e-01\n",
            " -1.24093403e+00  3.76740641e-01  3.63408849e+00  1.95669949e+00\n",
            " -2.07628197e+00 -4.87583740e-01  5.33153600e-01  7.34804882e-01\n",
            " -4.76720613e-01  1.44799894e-01 -2.03085847e+00 -1.18219970e+00\n",
            " -4.62944660e-01  6.96661663e-01  6.21445264e-02  4.35302992e-01\n",
            " -6.72892447e-01  3.72240181e-01 -1.12519132e+00 -1.17650773e+00\n",
            "  2.24180978e+00 -2.15987726e+00 -5.33156830e-01  4.42541174e-01\n",
            "  7.40739848e-01 -1.18015450e-01  4.20887909e+00 -1.01095438e+00\n",
            " -2.48662060e+00 -4.86518994e-01  1.04890851e-01  7.61631914e-02\n",
            " -3.29742779e-01  1.63160538e-01  1.40255420e+00]\n",
            "Intercept: 20.072122691785793\n"
          ]
        }
      ]
    },
    {
      "cell_type": "markdown",
      "source": [
        "Get the coefficients of the variables and visualize it"
      ],
      "metadata": {
        "id": "8ytvTJ60v3Oq"
      }
    },
    {
      "cell_type": "code",
      "source": [
        "coefficients =  regressor.coef_\n",
        "print(\"Coefficients:\\n\",coefficients)\n",
        "\n",
        "plt.figure(figsize=(12, 8))\n",
        "plt.bar(range(len(coefficients)), coefficients, color='pink')\n",
        "plt.show()"
      ],
      "metadata": {
        "id": "Lh9C3xihv3X3",
        "colab": {
          "base_uri": "https://localhost:8080/",
          "height": 1000
        },
        "outputId": "8da96a30-fad4-4f11-9290-f61d2eec4552"
      },
      "execution_count": 43,
      "outputs": [
        {
          "output_type": "stream",
          "name": "stdout",
          "text": [
            "Coefficients:\n",
            " [ 6.71326437e-15  2.61543210e+00  8.23937159e-01  2.71362629e-01\n",
            " -3.48211983e+00 -1.29409137e+00  3.44585661e+00 -1.21943076e+00\n",
            " -1.81707978e+00 -1.35705037e+00 -7.62724086e-01  9.41284776e-02\n",
            " -3.26790109e+00  1.88815533e-01 -2.12293611e+00  3.27201664e+00\n",
            "  2.99592944e+00 -2.33583776e+00  3.47631370e-01  2.08741825e-01\n",
            "  2.21883471e+00 -2.33322440e+00 -2.04447912e+00  7.41756805e-03\n",
            "  1.19322150e+00 -8.41126027e-02  1.01385910e-01  2.74709658e-01\n",
            " -2.78021092e+00 -1.52798130e-01  7.61588328e-01 -1.08630659e+00\n",
            "  2.97124880e+00 -2.68640233e-01 -3.02213841e+00 -1.60704564e+00\n",
            "  1.31321171e+00 -3.11014224e-01 -5.10197825e-01  1.28252455e+00\n",
            "  1.32809034e+00  1.38205448e+00 -6.50905063e-01 -1.06080996e+00\n",
            "  7.72225398e-01 -5.06351131e-01  1.37177961e+00 -1.08949576e+00\n",
            " -9.50138209e-01 -4.45437289e-01 -1.69626905e+00  5.47158139e-01\n",
            " -1.88581634e-01  6.91851939e-03 -4.71226094e-01 -3.79170284e-01\n",
            " -1.24093403e+00  3.76740641e-01  3.63408849e+00  1.95669949e+00\n",
            " -2.07628197e+00 -4.87583740e-01  5.33153600e-01  7.34804882e-01\n",
            " -4.76720613e-01  1.44799894e-01 -2.03085847e+00 -1.18219970e+00\n",
            " -4.62944660e-01  6.96661663e-01  6.21445264e-02  4.35302992e-01\n",
            " -6.72892447e-01  3.72240181e-01 -1.12519132e+00 -1.17650773e+00\n",
            "  2.24180978e+00 -2.15987726e+00 -5.33156830e-01  4.42541174e-01\n",
            "  7.40739848e-01 -1.18015450e-01  4.20887909e+00 -1.01095438e+00\n",
            " -2.48662060e+00 -4.86518994e-01  1.04890851e-01  7.61631914e-02\n",
            " -3.29742779e-01  1.63160538e-01  1.40255420e+00]\n"
          ]
        },
        {
          "output_type": "display_data",
          "data": {
            "text/plain": [
              "<Figure size 1200x800 with 1 Axes>"
            ],
            "image/png": "[encoded data removed]"
          },
          "metadata": {}
        }
      ]
    },
    {
      "cell_type": "markdown",
      "source": [
        "Get the score value of sklearn regressor on train dataset</br>\n",
        "if you are not familiar with R-squared concept see the link below:\n",
        "[R-squared](https://statisticsbyjim.com/regression/interpret-r-squared-regression/)\n",
        "\n"
      ],
      "metadata": {
        "id": "eTCcA4W8v3f4"
      }
    },
    {
      "cell_type": "code",
      "source": [
        "# TODO: Calculate R² score and MSE on the training dataset\n",
        "y_train_pred1 = regressor.predict(X_train)\n",
        "\n",
        "r2_train = r2_score(y_train, y_train_pred1)\n",
        "\n",
        "mse_train = mean_squared_error(y_train, y_train_pred1)\n",
        "\n",
        "print(\"R² score on the training dataset:\", r2_train)\n",
        "print(\"MSE on the training dataset:\", mse_train)"
      ],
      "metadata": {
        "id": "onAXRIl7v3qJ",
        "colab": {
          "base_uri": "https://localhost:8080/"
        },
        "outputId": "e1fc1d40-e0d2-4879-b0f1-3d3852261ea2"
      },
      "execution_count": 44,
      "outputs": [
        {
          "output_type": "stream",
          "name": "stdout",
          "text": [
            "R² score on the training dataset: 0.9233615957926449\n",
            "MSE on the training dataset: 6.65783903781899\n"
          ]
        }
      ]
    },
    {
      "cell_type": "markdown",
      "source": [
        "Predict the value of \"y\" for each \"x\" belonging to the \"testing\" set"
      ],
      "metadata": {
        "id": "RXBvLGMcwpbT"
      }
    },
    {
      "cell_type": "code",
      "source": [
        "y_test_pred1 = regressor.predict(X_test)\n",
        "r2_test_linear = r2_score(y_test, y_test_pred1)\n",
        "print(y_test_pred1)"
      ],
      "metadata": {
        "id": "bA_DNqeKwprp",
        "colab": {
          "base_uri": "https://localhost:8080/"
        },
        "outputId": "1595a1c0-79dd-4f37-f6ba-384cd9287a34"
      },
      "execution_count": 45,
      "outputs": [
        {
          "output_type": "stream",
          "name": "stdout",
          "text": [
            "[26.60760472 39.62214268 18.71401934 21.00627478 15.36932115 18.14967249\n",
            " 19.2680689  14.04520907 20.41411804 19.68358046 19.34721612 17.80080883\n",
            "  9.52923494 17.56130221 17.61765281 23.1886407  19.83784911  9.82571722\n",
            " 48.00938013 13.01200313 24.67113881 28.75366122 15.14797668 19.48768303\n",
            " 16.8711114  16.54597743 17.07120558 13.34377675 16.66485127 19.34855953\n",
            " 18.50229727 23.95889069 15.48239335 25.70102382 13.69224402 17.48588361\n",
            " 33.1589375  20.10130817 20.24277819 21.68697931 16.91569466 31.33039866\n",
            " 53.78155342 15.35787882 27.30502419 15.90970181 14.76748839 23.49841731\n",
            " 17.57527936 29.19894908 19.95253249 33.61207695 17.02933983 26.86934524\n",
            " 44.01327048 23.0722288  13.43102214 32.42020215 25.15187612 12.20309801\n",
            " 25.03914004 29.01333968 31.99975955 14.25741358 27.2478974  13.81980117\n",
            " 14.35877776 24.56841459 29.12596225 12.07120755 21.52505912 27.39851469\n",
            "  9.60239834 22.99803726 19.8464662   7.55139317 22.13069349 49.95089019\n",
            " 11.35178549 11.98183645 18.34848076 12.31262512 15.91992994 11.17875652\n",
            " 20.05758709 28.21017905 17.52432039 24.64183624 25.95216955 18.86643395\n",
            " 24.91833318  7.26540165 20.04649013 17.38110339 44.76506329 20.87525411\n",
            " 25.80390969  5.75854824 11.00494177 15.63482602 23.13270522 20.58824762]\n"
          ]
        }
      ]
    },
    {
      "cell_type": "markdown",
      "source": [
        "# Lasso Regularization(L1)"
      ],
      "metadata": {
        "id": "z_aF3pNEFP79"
      }
    },
    {
      "cell_type": "markdown",
      "source": [
        "L1 regularization, also known as Lasso (Least Absolute Shrinkage and Selection Operator) regularization, is a technique used in regression models that encourages simplicity and sparsity in the model coefficients. This is achieved by adding a penalty equal to the absolute value of the magnitude of coefficients to the loss function.\\\n",
        "</br>\n",
        "Train a regression model using L1 regularization."
      ],
      "metadata": {
        "id": "PPMTy_D_wp-X"
      }
    },
    {
      "cell_type": "code",
      "source": [
        "# TODO: Use Lasso from sklearn library\n",
        "lasso = Lasso(alpha=0.5)\n",
        "lasso.fit(X_train, y_train)"
      ],
      "metadata": {
        "id": "SHr5JR4fwqHO",
        "colab": {
          "base_uri": "https://localhost:8080/",
          "height": 74
        },
        "outputId": "184b4111-1180-4d2b-8431-5a3374da7697"
      },
      "execution_count": 46,
      "outputs": [
        {
          "output_type": "execute_result",
          "data": {
            "text/plain": [
              "Lasso(alpha=0.5)"
            ],
            "text/html": [
              "<style>#sk-container-id-4 {color: black;background-color: white;}#sk-container-id-4 pre{padding: 0;}#sk-container-id-4 div.sk-toggleable {background-color: white;}#sk-container-id-4 label.sk-toggleable__label {cursor: pointer;display: block;width: 100%;margin-bottom: 0;padding: 0.3em;box-sizing: border-box;text-align: center;}#sk-container-id-4 label.sk-toggleable__label-arrow:before {content: \"▸\";float: left;margin-right: 0.25em;color: #696969;}#sk-container-id-4 label.sk-toggleable__label-arrow:hover:before {color: black;}#sk-container-id-4 div.sk-estimator:hover label.sk-toggleable__label-arrow:before {color: black;}#sk-container-id-4 div.sk-toggleable__content {max-height: 0;max-width: 0;overflow: hidden;text-align: left;background-color: #f0f8ff;}#sk-container-id-4 div.sk-toggleable__content pre {margin: 0.2em;color: black;border-radius: 0.25em;background-color: #f0f8ff;}#sk-container-id-4 input.sk-toggleable__control:checked~div.sk-toggleable__content {max-height: 200px;max-width: 100%;overflow: auto;}#sk-container-id-4 input.sk-toggleable__control:checked~label.sk-toggleable__label-arrow:before {content: \"▾\";}#sk-container-id-4 div.sk-estimator input.sk-toggleable__control:checked~label.sk-toggleable__label {background-color: #d4ebff;}#sk-container-id-4 div.sk-label input.sk-toggleable__control:checked~label.sk-toggleable__label {background-color: #d4ebff;}#sk-container-id-4 input.sk-hidden--visually {border: 0;clip: rect(1px 1px 1px 1px);clip: rect(1px, 1px, 1px, 1px);height: 1px;margin: -1px;overflow: hidden;padding: 0;position: absolute;width: 1px;}#sk-container-id-4 div.sk-estimator {font-family: monospace;background-color: #f0f8ff;border: 1px dotted black;border-radius: 0.25em;box-sizing: border-box;margin-bottom: 0.5em;}#sk-container-id-4 div.sk-estimator:hover {background-color: #d4ebff;}#sk-container-id-4 div.sk-parallel-item::after {content: \"\";width: 100%;border-bottom: 1px solid gray;flex-grow: 1;}#sk-container-id-4 div.sk-label:hover label.sk-toggleable__label {background-color: #d4ebff;}#sk-container-id-4 div.sk-serial::before {content: \"\";position: absolute;border-left: 1px solid gray;box-sizing: border-box;top: 0;bottom: 0;left: 50%;z-index: 0;}#sk-container-id-4 div.sk-serial {display: flex;flex-direction: column;align-items: center;background-color: white;padding-right: 0.2em;padding-left: 0.2em;position: relative;}#sk-container-id-4 div.sk-item {position: relative;z-index: 1;}#sk-container-id-4 div.sk-parallel {display: flex;align-items: stretch;justify-content: center;background-color: white;position: relative;}#sk-container-id-4 div.sk-item::before, #sk-container-id-4 div.sk-parallel-item::before {content: \"\";position: absolute;border-left: 1px solid gray;box-sizing: border-box;top: 0;bottom: 0;left: 50%;z-index: -1;}#sk-container-id-4 div.sk-parallel-item {display: flex;flex-direction: column;z-index: 1;position: relative;background-color: white;}#sk-container-id-4 div.sk-parallel-item:first-child::after {align-self: flex-end;width: 50%;}#sk-container-id-4 div.sk-parallel-item:last-child::after {align-self: flex-start;width: 50%;}#sk-container-id-4 div.sk-parallel-item:only-child::after {width: 0;}#sk-container-id-4 div.sk-dashed-wrapped {border: 1px dashed gray;margin: 0 0.4em 0.5em 0.4em;box-sizing: border-box;padding-bottom: 0.4em;background-color: white;}#sk-container-id-4 div.sk-label label {font-family: monospace;font-weight: bold;display: inline-block;line-height: 1.2em;}#sk-container-id-4 div.sk-label-container {text-align: center;}#sk-container-id-4 div.sk-container {/* jupyter's `normalize.less` sets `[hidden] { display: none; }` but bootstrap.min.css set `[hidden] { display: none !important; }` so we also need the `!important` here to be able to override the default hidden behavior on the sphinx rendered scikit-learn.org. See: https://github.com/scikit-learn/scikit-learn/issues/21755 */display: inline-block !important;position: relative;}#sk-container-id-4 div.sk-text-repr-fallback {display: none;}</style><div id=\"sk-container-id-4\" class=\"sk-top-container\"><div class=\"sk-text-repr-fallback\"><pre>Lasso(alpha=0.5)</pre><b>In a Jupyter environment, please rerun this cell to show the HTML representation or trust the notebook. <br />On GitHub, the HTML representation is unable to render, please try loading this page with nbviewer.org.</b></div><div class=\"sk-container\" hidden><div class=\"sk-item\"><div class=\"sk-estimator sk-toggleable\"><input class=\"sk-toggleable__control sk-hidden--visually\" id=\"sk-estimator-id-4\" type=\"checkbox\" checked><label for=\"sk-estimator-id-4\" class=\"sk-toggleable__label sk-toggleable__label-arrow\">Lasso</label><div class=\"sk-toggleable__content\"><pre>Lasso(alpha=0.5)</pre></div></div></div></div></div>"
            ]
          },
          "metadata": {},
          "execution_count": 46
        }
      ]
    },
    {
      "cell_type": "markdown",
      "source": [
        "Get the coefficients of the variables and visualize it."
      ],
      "metadata": {
        "id": "du892nvjwqPi"
      }
    },
    {
      "cell_type": "code",
      "source": [
        "coefficients = lasso.coef_\n",
        "print(\"Coefficients: \\n\", coefficients)\n",
        "\n",
        "# Visualize the coefficients\n",
        "plt.figure(figsize=(12, 8))\n",
        "plt.bar(range(len(coefficients)), coefficients, color='green')\n",
        "plt.grid(True)\n",
        "plt.show()"
      ],
      "metadata": {
        "id": "W-yiCdq1wqcn",
        "colab": {
          "base_uri": "https://localhost:8080/",
          "height": 989
        },
        "outputId": "3b9a80ca-c7dd-479e-b542-f2a7fe53aa92"
      },
      "execution_count": 47,
      "outputs": [
        {
          "output_type": "stream",
          "name": "stdout",
          "text": [
            "Coefficients: \n",
            " [ 0.         -0.          0.         -0.          0.         -0.\n",
            "  2.71044561 -0.         -0.         -0.17551806 -0.87919831  0.\n",
            " -3.61571562 -0.09172222  0.         -0.          0.         -0.\n",
            "  0.         -0.          0.         -0.         -0.         -0.\n",
            " -0.          0.          0.          0.          0.          0.\n",
            " -0.         -0.          0.          0.         -0.         -0.\n",
            "  0.          0.         -0.         -0.          0.          0.\n",
            "  0.         -0.          0.         -0.          0.21657471 -0.\n",
            " -0.          0.         -0.          0.09712834  0.          0.\n",
            " -0.         -0.20798319 -0.1485112  -0.          0.         -0.\n",
            " -0.          0.         -0.          0.7562266  -0.          0.\n",
            " -0.85199921 -0.59720675  0.         -0.          0.          0.\n",
            " -0.         -0.         -0.         -0.         -0.          0.\n",
            "  0.         -0.          0.26961623  0.          0.         -0.\n",
            " -0.8353172   0.         -0.         -0.         -0.24304235 -0.\n",
            "  0.46962857]\n"
          ]
        },
        {
          "output_type": "display_data",
          "data": {
            "text/plain": [
              "<Figure size 1200x800 with 1 Axes>"
            ],
            "image/png": "[encoded data removed]"
          },
          "metadata": {}
        }
      ]
    },
    {
      "cell_type": "markdown",
      "source": [
        "1- What observations can you make about the weight distribution when applying L1 regularization?\n",
        "\n",
        "2- How do different values of the regularization parameter (alpha) affect the sparsity of the model coefficients?"
      ],
      "metadata": {
        "id": "mI3QuD8Wydqc"
      }
    },
    {
      "cell_type": "markdown",
      "source": [
        "    Your Answer Goes here.\n",
        "\n",
        "1. Upon implementing L1 regularization, commonly referred to as Lasso regularization, it becomes apparent that numerous coefficients in the model tend to converge precisely to zero (generally decrease). Consequently, a sparse model emerges, wherein only select features are deemed significant for predicting the target variable. The distribution of weights tends to centralize more around zero in comparison to models devoid of regularization. This phenomenon arises due to L1 regularization augmenting the loss function with a penalty term proportional to the absolute value of the coefficients, thereby promoting sparsity by diminishing less consequential coefficients to zero.\n",
        "Summerizely, when we apply L1 regularization, also known as Lasso regularization, we notice that it tends to encourage sparsity in the weight distribution. Essentially, L1 regularization helps in feature selection by shrinking less important feature coefficients towards zero.\n",
        "\n",
        "2. Controls the strength of regularization applied to the model.\n",
        " Increasing the value of alpha strengthens the regularization penalty. As a result, the model becomes more regularized, leading to more sparsity in the weights. Lower values of alpha result in weaker regularization, allowing more coefficients to retain non-zero values.\n"
      ],
      "metadata": {
        "id": "RREHXw6dydzd"
      }
    },
    {
      "cell_type": "markdown",
      "source": [
        "Get the score value on train *dataset*\n"
      ],
      "metadata": {
        "id": "VWHqbCktz2OD"
      }
    },
    {
      "cell_type": "code",
      "source": [
        "# TODO: Calculate R² score and MSE on the training dataset\n",
        "y_train_pred2 = lasso.predict(X_train)\n",
        "\n",
        "r2_train_lasso = r2_score(y_train, y_train_pred2)\n",
        "\n",
        "mse_train_lasso = mean_squared_error(y_train, y_train_pred2)\n",
        "\n",
        "print(\"R² score on the training dataset:\", r2_train_lasso)\n",
        "print(\"MSE on the training dataset:\", mse_train_lasso)"
      ],
      "metadata": {
        "id": "RbHNlgfTz2WI",
        "colab": {
          "base_uri": "https://localhost:8080/"
        },
        "outputId": "c4bc5988-039f-47a1-bf18-0d12fdd8ec85"
      },
      "execution_count": 48,
      "outputs": [
        {
          "output_type": "stream",
          "name": "stdout",
          "text": [
            "R² score on the training dataset: 0.8171286694481938\n",
            "MSE on the training dataset: 15.88665494849732\n"
          ]
        }
      ]
    },
    {
      "cell_type": "markdown",
      "source": [
        "Predict the value of \"y\" for each \"x\" belonging to the \"testing\" set"
      ],
      "metadata": {
        "id": "hjI1nMXVz2f2"
      }
    },
    {
      "cell_type": "code",
      "source": [
        "y_train_pred2 = lasso.predict(X_test)\n",
        "print(y_train_pred2)\n",
        "r2_test_lasso = r2_score(y_test, y_train_pred2)"
      ],
      "metadata": {
        "id": "KfOWH0oQz2mY",
        "colab": {
          "base_uri": "https://localhost:8080/"
        },
        "outputId": "7c59db00-82f9-49c1-fc68-2b9780748273"
      },
      "execution_count": 49,
      "outputs": [
        {
          "output_type": "stream",
          "name": "stdout",
          "text": [
            "[25.01553605 32.02170508 16.56431707 23.67545781 17.13464034 21.69118954\n",
            " 18.08272601 14.79576716 20.40693987 19.6387817  21.53217387 19.92343501\n",
            "  6.64235117 21.28994714 19.61841959 22.15653103 18.10047426 11.57157362\n",
            " 42.41465504 16.42067495 21.39943226 25.60136064 15.78693485 22.04815612\n",
            " 17.9021186  17.00238679 19.88982538 13.39822411 21.17351703 19.18396855\n",
            " 18.45930572 24.45954182 22.28497567 22.26103013 14.87175003 17.51351063\n",
            " 32.12600448 20.57590791 22.56516819 20.96313305 15.55620789 27.56743981\n",
            " 44.34319575 18.69292057 24.52131935 17.12080258 16.94276939 24.60012608\n",
            " 18.02835641 28.77188928 21.29219328 31.99034286 17.89886858 25.3993675\n",
            " 39.45589001 22.16073425 17.33354312 28.94005254 23.43768009 17.00480941\n",
            " 24.78746672 31.5308728  28.44268606 19.11754198 26.06453555 17.74025689\n",
            " 17.46661041 24.07595784 27.21904407 12.41794401 18.96854429 25.30678507\n",
            " 12.52088818 21.93187535 22.04846018  8.76834845 20.47808211 41.66158441\n",
            " 15.06191799 13.48259615 21.44899084 12.04377305 21.41888025 13.33517454\n",
            " 21.09970534 29.74964082 18.10571831 24.96133183 24.51130599 19.7996216\n",
            " 22.33310177 10.22300224 20.74225997 19.942328   33.26834975 21.54646686\n",
            " 22.90863042  7.80871909 13.38402503 12.52417522 20.25376137 23.3348229 ]\n"
          ]
        }
      ]
    },
    {
      "cell_type": "markdown",
      "source": [
        "# Ridge Regularization(L2)"
      ],
      "metadata": {
        "id": "XHpNCGELFZsu"
      }
    },
    {
      "cell_type": "markdown",
      "source": [
        "L2 regularization, also known as Ridge regularization, is a technique used in regression models to prevent overfitting by adding a penalty equivalent to the square of the magnitude of coefficients to the loss function.\n",
        "</br>\n",
        "Train a regression model using L2 regularization."
      ],
      "metadata": {
        "id": "qsVvbx5vy3LP"
      }
    },
    {
      "cell_type": "code",
      "source": [
        "# TODO: Use Ridge from sklearn library\n",
        "ridge = Ridge(alpha=10)\n",
        "ridge.fit(X_train, y_train)"
      ],
      "metadata": {
        "id": "ww93tqpWwq99",
        "colab": {
          "base_uri": "https://localhost:8080/",
          "height": 74
        },
        "outputId": "6e98fc9f-80cb-44dc-d302-be06d7b4173f"
      },
      "execution_count": 50,
      "outputs": [
        {
          "output_type": "execute_result",
          "data": {
            "text/plain": [
              "Ridge(alpha=10)"
            ],
            "text/html": [
              "<style>#sk-container-id-5 {color: black;background-color: white;}#sk-container-id-5 pre{padding: 0;}#sk-container-id-5 div.sk-toggleable {background-color: white;}#sk-container-id-5 label.sk-toggleable__label {cursor: pointer;display: block;width: 100%;margin-bottom: 0;padding: 0.3em;box-sizing: border-box;text-align: center;}#sk-container-id-5 label.sk-toggleable__label-arrow:before {content: \"▸\";float: left;margin-right: 0.25em;color: #696969;}#sk-container-id-5 label.sk-toggleable__label-arrow:hover:before {color: black;}#sk-container-id-5 div.sk-estimator:hover label.sk-toggleable__label-arrow:before {color: black;}#sk-container-id-5 div.sk-toggleable__content {max-height: 0;max-width: 0;overflow: hidden;text-align: left;background-color: #f0f8ff;}#sk-container-id-5 div.sk-toggleable__content pre {margin: 0.2em;color: black;border-radius: 0.25em;background-color: #f0f8ff;}#sk-container-id-5 input.sk-toggleable__control:checked~div.sk-toggleable__content {max-height: 200px;max-width: 100%;overflow: auto;}#sk-container-id-5 input.sk-toggleable__control:checked~label.sk-toggleable__label-arrow:before {content: \"▾\";}#sk-container-id-5 div.sk-estimator input.sk-toggleable__control:checked~label.sk-toggleable__label {background-color: #d4ebff;}#sk-container-id-5 div.sk-label input.sk-toggleable__control:checked~label.sk-toggleable__label {background-color: #d4ebff;}#sk-container-id-5 input.sk-hidden--visually {border: 0;clip: rect(1px 1px 1px 1px);clip: rect(1px, 1px, 1px, 1px);height: 1px;margin: -1px;overflow: hidden;padding: 0;position: absolute;width: 1px;}#sk-container-id-5 div.sk-estimator {font-family: monospace;background-color: #f0f8ff;border: 1px dotted black;border-radius: 0.25em;box-sizing: border-box;margin-bottom: 0.5em;}#sk-container-id-5 div.sk-estimator:hover {background-color: #d4ebff;}#sk-container-id-5 div.sk-parallel-item::after {content: \"\";width: 100%;border-bottom: 1px solid gray;flex-grow: 1;}#sk-container-id-5 div.sk-label:hover label.sk-toggleable__label {background-color: #d4ebff;}#sk-container-id-5 div.sk-serial::before {content: \"\";position: absolute;border-left: 1px solid gray;box-sizing: border-box;top: 0;bottom: 0;left: 50%;z-index: 0;}#sk-container-id-5 div.sk-serial {display: flex;flex-direction: column;align-items: center;background-color: white;padding-right: 0.2em;padding-left: 0.2em;position: relative;}#sk-container-id-5 div.sk-item {position: relative;z-index: 1;}#sk-container-id-5 div.sk-parallel {display: flex;align-items: stretch;justify-content: center;background-color: white;position: relative;}#sk-container-id-5 div.sk-item::before, #sk-container-id-5 div.sk-parallel-item::before {content: \"\";position: absolute;border-left: 1px solid gray;box-sizing: border-box;top: 0;bottom: 0;left: 50%;z-index: -1;}#sk-container-id-5 div.sk-parallel-item {display: flex;flex-direction: column;z-index: 1;position: relative;background-color: white;}#sk-container-id-5 div.sk-parallel-item:first-child::after {align-self: flex-end;width: 50%;}#sk-container-id-5 div.sk-parallel-item:last-child::after {align-self: flex-start;width: 50%;}#sk-container-id-5 div.sk-parallel-item:only-child::after {width: 0;}#sk-container-id-5 div.sk-dashed-wrapped {border: 1px dashed gray;margin: 0 0.4em 0.5em 0.4em;box-sizing: border-box;padding-bottom: 0.4em;background-color: white;}#sk-container-id-5 div.sk-label label {font-family: monospace;font-weight: bold;display: inline-block;line-height: 1.2em;}#sk-container-id-5 div.sk-label-container {text-align: center;}#sk-container-id-5 div.sk-container {/* jupyter's `normalize.less` sets `[hidden] { display: none; }` but bootstrap.min.css set `[hidden] { display: none !important; }` so we also need the `!important` here to be able to override the default hidden behavior on the sphinx rendered scikit-learn.org. See: https://github.com/scikit-learn/scikit-learn/issues/21755 */display: inline-block !important;position: relative;}#sk-container-id-5 div.sk-text-repr-fallback {display: none;}</style><div id=\"sk-container-id-5\" class=\"sk-top-container\"><div class=\"sk-text-repr-fallback\"><pre>Ridge(alpha=10)</pre><b>In a Jupyter environment, please rerun this cell to show the HTML representation or trust the notebook. <br />On GitHub, the HTML representation is unable to render, please try loading this page with nbviewer.org.</b></div><div class=\"sk-container\" hidden><div class=\"sk-item\"><div class=\"sk-estimator sk-toggleable\"><input class=\"sk-toggleable__control sk-hidden--visually\" id=\"sk-estimator-id-5\" type=\"checkbox\" checked><label for=\"sk-estimator-id-5\" class=\"sk-toggleable__label sk-toggleable__label-arrow\">Ridge</label><div class=\"sk-toggleable__content\"><pre>Ridge(alpha=10)</pre></div></div></div></div></div>"
            ]
          },
          "metadata": {},
          "execution_count": 50
        }
      ]
    },
    {
      "cell_type": "markdown",
      "source": [
        "Get the coefficients of the variables and visualize it."
      ],
      "metadata": {
        "id": "EwXQdOdQ0c4y"
      }
    },
    {
      "cell_type": "code",
      "source": [
        "coefficients = ridge.coef_\n",
        "print(\"Coefficients: \\n\", coefficients)\n",
        "\n",
        "plt.figure(figsize=(12, 8))\n",
        "plt.bar(range(len(coefficients)), coefficients, color='greenyellow')\n",
        "plt.show()"
      ],
      "metadata": {
        "id": "CmVqcA6r0dEe",
        "colab": {
          "base_uri": "https://localhost:8080/",
          "height": 986
        },
        "outputId": "33c7cc27-c8bc-4db8-d02c-582a5aa3be3b"
      },
      "execution_count": 51,
      "outputs": [
        {
          "output_type": "stream",
          "name": "stdout",
          "text": [
            "Coefficients: \n",
            " [ 0.          0.05912156  0.51116396 -0.28467561 -0.32455353 -0.85827735\n",
            "  3.30888276 -1.15903729 -1.59593251 -0.53180157 -0.91042787  0.42828162\n",
            " -2.94077889  0.16087076 -0.2517118   0.62754054  1.60530016 -1.09008989\n",
            "  0.19857273 -0.21466179  0.91315274 -0.33329639 -0.37069977 -0.0685445\n",
            "  0.53227529  0.13451302  0.04174477  0.21402759 -0.19753069 -0.13818418\n",
            "  0.11128147 -0.41118718  0.69356948 -0.05349153 -0.33153368 -0.6523907\n",
            "  0.65774546  0.00626011  0.17510478  0.56882038  0.84405893  0.75253857\n",
            " -0.01735362 -0.74138428  0.38541275 -0.84892644  0.44774634 -0.95605317\n",
            " -0.87633987 -0.11780543 -0.84245313  0.77371237 -0.05986682 -0.05282303\n",
            " -0.5612907  -0.35054369 -1.10824908 -0.28920456  0.95796985  0.161939\n",
            " -0.72743981 -0.23024552  0.59678367  0.61007814 -0.35547651  0.25507285\n",
            " -1.39082276 -1.30777268 -0.34506817  0.43935663  0.18768566  0.33640313\n",
            "  0.12071674  0.17082987 -0.88889616 -0.93434533  1.1011708  -0.55229718\n",
            " -0.01954442 -0.25679014  0.78714857  0.62433033  1.95275298 -0.76210143\n",
            " -1.82196645 -0.39640046  0.20411156 -0.0280015  -0.3462849   0.03535942\n",
            "  1.27443078]\n"
          ]
        },
        {
          "output_type": "display_data",
          "data": {
            "text/plain": [
              "<Figure size 1200x800 with 1 Axes>"
            ],
            "image/png": "[encoded data removed]"
          },
          "metadata": {}
        }
      ]
    },
    {
      "cell_type": "markdown",
      "source": [
        "Compare the effect on coefficients between L1 and L2 regularization. What are the key differences?\n",
        "\n",
        " How does the regularization parameter influence the magnitude of the coefficients in Ridge Regression?"
      ],
      "metadata": {
        "id": "uc_LYcVZ0dOQ"
      }
    },
    {
      "cell_type": "markdown",
      "source": [
        "        Your answer goes here\n",
        "        \n",
        "        **L1 Regularization** =>\n",
        "          Encourages sparsity in the coefficient weights by setting many of them exactly to zero.\n",
        "          Useful for feature selection and building simpler, more interpretable models.\n",
        "        **L2 Regularization** =>\n",
        "          Shrinks the coefficient weights towards zero but rarely sets them exactly to zero.\n",
        "          Generally more stable and less sensitive to correlated features compared to L1 regularization.\n",
        "        =>\n",
        "        The sparsity of weights in L2 regularization is notably lower compared to L1 regularization.\n",
        "        Ridge regularization typically yields models with non-zero coefficients\n",
        "        for all features, albeit some coefficients may approach zero.\n",
        "        Conversely, L1 regularization results in a model with only a subset of\n",
        "        non-zero coefficients. Moreover, there is less variation in the\n",
        "        magnitudes of weights in L2 regularization, whereas in L1\n",
        "        regularization, magnitudes exhibit higher variance.\n",
        "        In high-dimensional datasets with numerous irrelevant features,\n",
        "        L1 regularization aids in preventing overfitting by effectively\n",
        "        disregarding less significant features and setting their weights to\n",
        "        zero. On the other hand, L2 regularization, while also addressing\n",
        "        overfitting by penalizing large coefficients, does not perform feature\n",
        "        selection. This characteristic can be advantageous when all features\n",
        "        are potentially relevant, as it strives to evenly shrink coefficients\n",
        "        toward zero across all features. Additionally, L2 regularization\n",
        "        distributes coefficient values more uniformly among correlated\n",
        "        features, rendering it more robust than L1 regularization.\n",
        "        The latter tends to arbitrarily select one of the correlated\n",
        "        features and nullify the other coefficients.\n",
        "\n",
        "        **Influence of Regularization Parameter on Ridge Regression**\n",
        "        =>\n",
        "        - The regularization parameter, controls the strength of regularization applied in Ridge Regression.\n",
        "        - As the regularization parameter becomes larger,\n",
        "        the coefficients are shrunk more aggressively towards zero, leading to smaller overall magnitudes.\n",
        "        - Decreasing the regularization parameter reduces the regularization effect,\n",
        "        allowing the coefficients to retain larger magnitudes.\n",
        "        Totally ==>\n",
        "        Elevating the regularization parameter typically leads to the\n",
        "        contraction of coefficients toward zero, whereas reducing it\n",
        "        permits coefficients to amplify in magnitude. The magnitude of this\n",
        "        parameter influences the balance between model\n",
        "        complexity and generalization."
      ],
      "metadata": {
        "id": "vz3VZj1H1E5D"
      }
    },
    {
      "cell_type": "markdown",
      "source": [
        "Get the score value on train *dataset*"
      ],
      "metadata": {
        "id": "8-vwV52g1KaB"
      }
    },
    {
      "cell_type": "code",
      "source": [
        "# TODO: Calculate R² score and MSE on the training dataset\n",
        "y_train_pred3 = ridge.predict(X_train)\n",
        "\n",
        "r2_train_ridge = r2_score(y_train, y_train_pred3)\n",
        "\n",
        "mse_train_ridge = mean_squared_error(y_train, y_train_pred3)\n",
        "\n",
        "print(\"R² score on the training dataset:\", r2_train_ridge)\n",
        "print(\"MSE on the training dataset:\", mse_train_ridge)"
      ],
      "metadata": {
        "id": "WgrPqaBF0dlc",
        "colab": {
          "base_uri": "https://localhost:8080/"
        },
        "outputId": "8ebee8b0-655d-4aaa-e025-c34f87d69424"
      },
      "execution_count": 52,
      "outputs": [
        {
          "output_type": "stream",
          "name": "stdout",
          "text": [
            "R² score on the training dataset: 0.9143940529441623\n",
            "MSE on the training dataset: 7.4368800090845655\n"
          ]
        }
      ]
    },
    {
      "cell_type": "markdown",
      "source": [
        "Predict the value of \"y\" for each \"x\" belonging to the \"testing\" set\n",
        "\n"
      ],
      "metadata": {
        "id": "94nftWCR0dtC"
      }
    },
    {
      "cell_type": "code",
      "source": [
        "y_train_pred3 = ridge.predict(X_test)\n",
        "print(y_train_pred3)"
      ],
      "metadata": {
        "id": "ivsbD08X0d1E",
        "colab": {
          "base_uri": "https://localhost:8080/"
        },
        "outputId": "dba42d07-17fa-4170-89fe-ae3423355eeb"
      },
      "execution_count": 53,
      "outputs": [
        {
          "output_type": "stream",
          "name": "stdout",
          "text": [
            "[26.64874045 37.58387034 19.27657644 21.94197185 15.3028101  20.12028532\n",
            " 19.06550135 13.09220054 21.53629599 19.59853597 19.98066811 17.71773856\n",
            "  7.45618135 19.4698435  17.83085991 22.41342776 19.03460611 10.83733093\n",
            " 47.87734976 13.23733086 25.94978663 28.67626209 15.62739061 20.87266644\n",
            " 16.88618107 16.70243714 18.15202381 12.99400863 19.06044753 19.1619615\n",
            " 18.49185044 23.96483655 16.81029968 24.22140047 14.71608764 17.14764076\n",
            " 33.00621736 20.36005585 21.56765845 22.00579786 16.87716829 30.83029389\n",
            " 52.86535583 16.40416721 26.70438602 16.00962769 15.37456958 24.22203195\n",
            " 18.0413712  28.35774744 18.65466298 33.07812494 17.01116837 25.34703163\n",
            " 43.22198358 23.00525594 14.66623572 32.34427145 25.00498764 14.21572885\n",
            " 24.95594853 33.4162596  30.78344757 16.16942493 25.19231399 16.02456508\n",
            " 14.58662856 24.41159615 30.32473275 12.3838725  20.94435871 27.5999913\n",
            " 10.37505112 21.25995733 20.86051995  5.76335445 20.67914828 49.65506758\n",
            " 11.15867412 13.79119622 19.12026295 12.02135127 17.93987097 11.65923594\n",
            " 20.4384127  28.76781807 17.1877647  24.60422767 25.97635678 17.98141095\n",
            " 24.09206253  7.78768441 19.1087218  18.44960327 40.68183317 20.20242572\n",
            " 24.78475146  5.72169792 11.11141082 13.76203915 22.7065681  21.98512667]\n"
          ]
        }
      ]
    },
    {
      "cell_type": "markdown",
      "source": [
        "# Summarization"
      ],
      "metadata": {
        "id": "u6iKDyiwF-2q"
      }
    },
    {
      "cell_type": "markdown",
      "source": [
        "Summarize the performance metrics (e.g., RMSE, R² score) of the basic regression model, Lasso regression, and Ridge regression in a table for easy comparison.(On both test and train data)</br>\n",
        "if you are not familiar with R-squared concept see the link below:\n",
        "[R-squared](https://statisticsbyjim.com/regression/interpret-r-squared-regression/)\n"
      ],
      "metadata": {
        "id": "gY7NOCfB0d9K"
      }
    },
    {
      "cell_type": "code",
      "source": [
        "# HINT: Use DataFrame tools\n",
        "mse_test1 = mean_squared_error(y_test, y_test_pred1)\n",
        "r2_test1 = r2_score(y_test, y_test_pred1)\n",
        "\n",
        "mse_test2 = mean_squared_error(y_test, y_train_pred2)\n",
        "r2_test2 = r2_score(y_test, y_train_pred2)\n",
        "\n",
        "mse_test3 = mean_squared_error(y_test, y_train_pred3)\n",
        "r2_test3 = r2_score(y_test, y_train_pred3)\n",
        "\n",
        "\n",
        "data = {\n",
        "    'Model': ['Linear Regression', 'Lasso Regression', 'Ridge Regression'],\n",
        "    'MSE(Test)': [mse_test1, mse_test2, mse_test3],\n",
        "    'MSE(Train)': [mse_train, mse_train_lasso, mse_train_ridge],\n",
        "    'R² Score (Test)': [r2_test1, r2_test2, r2_test3],\n",
        "    'R² Score (Train)': [r2_train, r2_train_lasso, r2_train_ridge]\n",
        "}\n",
        "\n",
        "df = pd.DataFrame(data)\n",
        "print(df)"
      ],
      "metadata": {
        "id": "3gI-6r2r0eEx",
        "colab": {
          "base_uri": "https://localhost:8080/"
        },
        "outputId": "6d76f6c5-ace9-4d9a-e432-733ad8b781eb"
      },
      "execution_count": 54,
      "outputs": [
        {
          "output_type": "stream",
          "name": "stdout",
          "text": [
            "               Model  MSE(Test)  MSE(Train)  R² Score (Test)  R² Score (Train)\n",
            "0  Linear Regression  18.122077    6.657839         0.752882          0.923362\n",
            "1   Lasso Regression  16.227427   15.886655         0.778718          0.817129\n",
            "2   Ridge Regression  15.110037    7.436880         0.793955          0.914394\n"
          ]
        }
      ]
    },
    {
      "cell_type": "markdown",
      "source": [
        " *Which model performed best on the test data?</br>\n",
        "Why the results on train data are different? </br>\n",
        "Discuss why this might be the case.*"
      ],
      "metadata": {
        "id": "dB2x-l231Soo"
      }
    },
    {
      "cell_type": "markdown",
      "source": [
        "          your answer goes here.\n",
        "\n",
        "          =>\n",
        "          1. Ridge Regression model has the lowest MSE on the test data and it performed best on the test data.\n",
        "\n",
        "          =>\n",
        "          2. Because each regression technique imposes distinct constraints on the model parameters during training.\n",
        "\n",
        "          Differences in training performance among models are primarily\n",
        "          influenced by the regularization techniques they employ. Linear\n",
        "          Regression, devoid of any regularization, exhibits lower bias but\n",
        "          higher variance compared to regularized models. It seeks to minimize\n",
        "          the mean squared error (MSE) between observed and predicted values\n",
        "          without penalizing coefficients. Consequently, it may yield lower\n",
        "          MSE on training data but is susceptible to overfitting.\n",
        "\n",
        "          \n",
        "          In contrast, Lasso Regression employs L1 regularization, introducing\n",
        "          a penalty term based on the absolute values of coefficients. This\n",
        "          promotes sparsity in coefficient values, yielding simpler models with\n",
        "          fewer non-zero coefficients. Despite potentially leading to higher\n",
        "          training error compared to Linear Regression, Lasso Regression may\n",
        "          generalize better to unseen data.\n",
        "\n",
        "          \n",
        "          Ridge Regression utilizes L2 regularization, penalizing the squared\n",
        "          magnitudes of coefficients. While it tends to achieve lower training\n",
        "          error compared to Lasso Regression, it may exhibit slightly higher\n",
        "          training error compared to Linear Regression due to the\n",
        "          regularization penalty. Unlike Lasso Regression, Ridge Regression\n",
        "          does not enforce sparsity as aggressively.\n",
        "\n",
        "          So, Basic Regression might have the lowest error when looking at the\n",
        "          data it was trained on, but it tends to memorize the training data\n",
        "          too much and doesn't do well with new data. Lasso Regression can\n",
        "          ignore less important things and might not be as accurate with the\n",
        "          training data, but it could do better with new data. Ridge Regression\n",
        "          finds a middle ground by being careful not to memorize too much of\n",
        "          the training data, and it usually performs the best when faced with\n",
        "          new data.\n"
      ],
      "metadata": {
        "id": "dRIs24F91SsH"
      }
    }
  ]
}