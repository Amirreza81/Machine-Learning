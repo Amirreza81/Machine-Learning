{
 "cells": [
  {
   "cell_type": "markdown",
   "id": "1da6d538",
   "metadata": {},
   "source": [
    "## AmirReza Azari\n",
    "## 99101087"
   ]
  },
  {
   "cell_type": "markdown",
   "id": "06d08c3d",
   "metadata": {},
   "source": [
    "## Introduction\n",
    "This exercise explores polynomial regression, a form of regression analysis where the relationship between the independent variable \\( X \\) and the dependent variable \\( y \\) is modeled as an \\( n \\)th degree polynomial. We will create a synthetic dataset, train models with varying degrees of polynomials, and evaluate their performance on different test sets.\n",
    "\n",
    "## Task\n",
    "We want to use polynomial regression to model the relationship between the independent variable \\( X \\) and the dependent variable \\( y \\).\n",
    "\n",
    "## Dataset\n",
    "We will create a synthetic dataset using the given equation. We will use this dataset to train polynomial regression models with varying degrees of polynomials. \n",
    "We will also create different test sets to evaluate the models' performance.\n",
    "\n",
    "## Objective\n",
    "We want to find the degree of the polynomial that best fits the relationship between the independent variable \\( X \\) and the dependent variable \\( y \\). We will use the mean squared error (MSE) to evaluate the models' performance on different test sets.\n",
    "\n",
    "## Plan\n",
    "1. Create a synthetic dataset using the given equation.\n",
    "2. Split the dataset into training and testing sets.\n",
    "3. Train polynomial regression models with varying degrees of polynomials.\n",
    "4. Evaluate the models' performance on different test sets using the mean squared error (MSE).\n",
    "5. Find the degree of the polynomial that best fits the relationship between the independent variable \\( X \\) and the dependent variable \\( y \\).\n"
   ]
  },
  {
   "cell_type": "markdown",
   "id": "cf4e12d3",
   "metadata": {},
   "source": [
    "\n",
    "# Implementation (100 Points)\n",
    "We will start by creating a synthetic dataset using the given equation."
   ]
  },
  {
   "cell_type": "markdown",
   "id": "9b713c09",
   "metadata": {},
   "source": [
    "## 1. Create a synthetic dataset (20 Points)\n",
    "First, define a function to generate a dataset with 1000 samples in the range of **-4 to -1** from a polynomial with added noise. Assume that the noise is from a normal distribution and has a mean of 0 and std of 5. \n",
    "\n",
    "The relationship between the independent variable \\( X \\) and the dependent variable \\( y \\) is given by the following equation:\n",
    "\n",
    "\\[ y = 0.1X^5 + X^4 - 2X^3 + 7X^2 - 9X + 3 \\]\n",
    "\n",
    "Generate the independent variable \\( X \\) using the `numpy` library and then calculate the dependent variable \\( y \\) using the given equation."
   ]
  },
  {
   "cell_type": "code",
   "execution_count": 1,
   "id": "47c1ad20",
   "metadata": {},
   "outputs": [],
   "source": [
    "import numpy as np\n",
    "\n",
    "def generate_dataset(range_start, range_end, num_samples, noise_std=5.0):\n",
    "    X = np.random.uniform(range_start, range_end, num_samples)\n",
    "    y = 0.1 * X**5 + X**4 - 2 * X**3 + 7 * X**2 - 9 * X + 3\n",
    "    y += np.random.normal(0, noise_std, num_samples)\n",
    "    return X, y"
   ]
  },
  {
   "cell_type": "code",
   "execution_count": 2,
   "id": "42372c5b",
   "metadata": {},
   "outputs": [
    {
     "name": "stdout",
     "output_type": "stream",
     "text": [
      "1000\n",
      "1000\n"
     ]
    },
    {
     "data": {
      "image/png": "[encoded data removed]",
      "text/plain": [
       "<Figure size 576x288 with 1 Axes>"
      ]
     },
     "metadata": {
      "needs_background": "light"
     },
     "output_type": "display_data"
    }
   ],
   "source": [
    "import matplotlib.pyplot as plt\n",
    "\n",
    "X, y = generate_dataset(-4, -1, 1000)\n",
    "print(len(X))\n",
    "print(len(y))\n",
    "\n",
    "# Plot the data\n",
    "plt.figure(figsize=(8, 4))\n",
    "plt.scatter(X, y, color='green', label='Data Points')\n",
    "plt.legend()\n",
    "plt.grid(True)\n",
    "plt.show()"
   ]
  },
  {
   "cell_type": "markdown",
   "id": "b45715c1",
   "metadata": {},
   "source": [
    "## 2. Splitting the Dataset (5 Points)\n",
    "Split the dataset into training and two test sets with the same length, ensuring one test set is in the range of the training data and the other is in the **range of 5 to 7.**"
   ]
  },
  {
   "cell_type": "code",
   "execution_count": 3,
   "id": "b75d5ee7",
   "metadata": {},
   "outputs": [
    {
     "name": "stdout",
     "output_type": "stream",
     "text": [
      "200 200\n",
      "200 200\n"
     ]
    }
   ],
   "source": [
    "from sklearn.model_selection import train_test_split\n",
    "\n",
    "degree = 5\n",
    "X_train, X_test_in_range, y_train, y_test_in_range = train_test_split(X, y, test_size=0.2, random_state=42)\n",
    "X_test_out_of_range, y_test_out_of_range = generate_dataset(5, 7, 200)\n",
    "print(len(X_test_in_range), len(X_test_out_of_range))\n",
    "print(len(y_test_in_range), len(y_test_out_of_range))"
   ]
  },
  {
   "cell_type": "markdown",
   "id": "7b803aeb",
   "metadata": {},
   "source": [
    "## 3. Polynomial Regression Training (30 Points)\n",
    "Train polynomial regression models of varying degrees from degree = 2 to degree = 7. You can use the `preprocessing`, `linear_model`, and `pipeline` classes of the `sklearn` library."
   ]
  },
  {
   "cell_type": "code",
   "execution_count": 4,
   "id": "af3d0a08",
   "metadata": {},
   "outputs": [],
   "source": [
    "from sklearn.preprocessing import PolynomialFeatures\n",
    "from sklearn.linear_model import LinearRegression\n",
    "from sklearn.pipeline import make_pipeline\n",
    "\n",
    "def train_polynomial_regression(X, y, degree):\n",
    "    polynomial_features = PolynomialFeatures(degree=degree)\n",
    "    linear_regression = LinearRegression()\n",
    "    model = make_pipeline(polynomial_features, linear_regression)\n",
    "    model.fit(X.reshape(-1, 1), y)\n",
    "    \n",
    "    return model"
   ]
  },
  {
   "cell_type": "code",
   "execution_count": 5,
   "id": "66085bd7",
   "metadata": {},
   "outputs": [],
   "source": [
    "models = {}\n",
    "# TODO: Put the models with different degrees in the models dict\n",
    "for d in range(2, degree + 3):\n",
    "    models[d] = train_polynomial_regression(X_train, y_train, d)"
   ]
  },
  {
   "cell_type": "markdown",
   "id": "bc7a79d7",
   "metadata": {},
   "source": [
    "## 4. Model Evaluation (15 Points)\n",
    "Evaluate the models on both test sets using MSE. You can use the `mean_squared_error` from `sklearn.metrics`.\n"
   ]
  },
  {
   "cell_type": "code",
   "execution_count": 6,
   "id": "6880b6f1",
   "metadata": {},
   "outputs": [],
   "source": [
    "from sklearn.metrics import mean_squared_error\n",
    "\n",
    "def evaluate_models(models, X_test, y_test):\n",
    "    losses = {}\n",
    "    for d, model in models.items():\n",
    "        y_pred = model.predict(X_test.reshape(-1, 1))\n",
    "        losses[d] = mean_squared_error(y_test, y_pred)\n",
    "    return losses"
   ]
  },
  {
   "cell_type": "code",
   "execution_count": 7,
   "id": "ceaab42f",
   "metadata": {},
   "outputs": [],
   "source": [
    "losses_train = evaluate_models(models, X_train, y_train)\n",
    "losses_in_range = evaluate_models(models, X_test_in_range, y_test_in_range)\n",
    "losses_out_of_range = evaluate_models(models, X_test_out_of_range, y_test_out_of_range)"
   ]
  },
  {
   "cell_type": "markdown",
   "id": "9691fb1d",
   "metadata": {},
   "source": [
    "## 5. Plotting Model Scores (20 Points)\n",
    "\n",
    "Now to evaluate the performance of the polynomial regression models, plot the **logarithm** of losses of the training and two test sets based on the model degree varying from 3 to 7. Train the model a few times to get a sense of how the results can change. \n"
   ]
  },
  {
   "cell_type": "code",
   "execution_count": 8,
   "id": "b24c1078",
   "metadata": {},
   "outputs": [
    {
     "data": {
      "image/png": "[encoded data removed]",
      "text/plain": [
       "<Figure size 1296x432 with 3 Axes>"
      ]
     },
     "metadata": {
      "needs_background": "light"
     },
     "output_type": "display_data"
    }
   ],
   "source": [
    "degrees = range(3, 8)\n",
    "\n",
    "losses_train_avg = {degree: 0 for degree in degrees}\n",
    "losses_in_range_avg = {degree: 0 for degree in degrees}\n",
    "losses_out_of_range_avg = {degree: 0 for degree in degrees}\n",
    "\n",
    "for degree in degrees:\n",
    "    losses_train_avg[degree] = np.log(losses_train[degree])\n",
    "    losses_in_range_avg[degree] = np.log(losses_in_range[degree])\n",
    "    losses_out_of_range_avg[degree] = np.log(losses_out_of_range[degree])\n",
    "\n",
    "fig, (ax1, ax2, ax3) = plt.subplots(1, 3, figsize=(18, 6))\n",
    "\n",
    "ax1.plot(degrees, [losses_train_avg[d] for d in degrees], marker='o')\n",
    "ax1.set_title('Training Set')\n",
    "ax1.grid(True)\n",
    "\n",
    "ax2.plot(degrees, [losses_in_range_avg[d] for d in degrees], marker='o')\n",
    "ax2.set_title('In-range Test Set')\n",
    "ax2.grid(True)\n",
    "\n",
    "ax3.plot(degrees, [losses_out_of_range_avg[d] for d in degrees], marker='o')\n",
    "ax3.set_title('Out-of-range Test Set')\n",
    "ax3.grid(True)\n",
    "\n",
    "plt.tight_layout()\n",
    "plt.show()\n"
   ]
  },
  {
   "cell_type": "markdown",
   "id": "36eb1c60",
   "metadata": {},
   "source": [
    "## Conclusion (10 Points)"
   ]
  },
  {
   "cell_type": "markdown",
   "id": "a0f48498",
   "metadata": {},
   "source": [
    "Now print out the losses on each set here. "
   ]
  },
  {
   "cell_type": "code",
   "execution_count": 9,
   "id": "a7819c95",
   "metadata": {},
   "outputs": [
    {
     "name": "stdout",
     "output_type": "stream",
     "text": [
      "Training:\n",
      "2: 31.66532977418629\n",
      "3: 24.01972146501156\n",
      "4: 24.01539988773059\n",
      "5: 24.013297424189304\n",
      "6: 24.013294241389985\n",
      "7: 24.001392234296976\n",
      "\n",
      "In-range:\n",
      "2: 28.01460201124373\n",
      "3: 19.42691160909528\n",
      "4: 19.400382002255327\n",
      "5: 19.42221417258877\n",
      "6: 19.422800769222896\n",
      "7: 19.494095739013623\n",
      "\n",
      "Out-of-range:\n",
      "2: 244025.61047296942\n",
      "3: 11427951.476113642\n",
      "4: 18961147.590279646\n",
      "5: 145904469.18775713\n",
      "6: 73111465.80727085\n",
      "7: 6429397244593.315\n"
     ]
    }
   ],
   "source": [
    "print(\"Training:\")\n",
    "for degree, loss in losses_train.items():\n",
    "    print(f\"{degree}: {loss}\")\n",
    "\n",
    "print(\"\\nIn-range:\")\n",
    "for degree, loss in losses_in_range.items():\n",
    "    print(f\"{degree}: {loss}\")\n",
    "\n",
    "print(\"\\nOut-of-range:\")\n",
    "for degree, loss in losses_out_of_range.items():\n",
    "    print(f\"{degree}: {loss}\")"
   ]
  },
  {
   "cell_type": "markdown",
   "id": "8522d946",
   "metadata": {},
   "source": [
    "With comparing the loss of **training set and the in-range test set** and also **in-range test set and the out-of-range test set**, specially in higher degrees, what we can conclude about the bias - variance trade off?"
   ]
  },
  {
   "cell_type": "markdown",
   "id": "68948cb0",
   "metadata": {},
   "source": [
    "**Answer:**\n",
    "<br _> \n",
    "```\n",
    "=>\n",
    "When we look at how the model performs on different sets of data, we see some interesting things. First, when we compare how well it does on the data it was trained on versus new similar data, it's a little worse with the new data. This suggests it might be trying too hard to fit the training data perfectly, which isn't great for handling new stuff.\n",
    "\n",
    "Then, when we test it on data that's really different from what it was trained on, especially with more complex models, it does much worse. This means it's not good at adapting to totally new situations. It's like when you study hard for a math test but then get surprised by a question that's completely different from what you practiced.\n",
    "\n",
    "So, while the model is okay at balancing these problems, it's not perfect. It's like trying to walk a tightrope—too much leaning in one direction, and you might fall off. This tells us we need to find a balance between making the model good at what it's trained on and making sure it can handle new things too.\n",
    "\n",
    "In another way:\n",
    "=> \n",
    "\n",
    "The loss function exhibits an upward trend as the degree increases in cases of out-of-range data. As anticipated, the disparity in loss between the training set and the in-range test set remains minimal. This observation highlights that lower degrees exhibit high bias and low variance for out-of-range test sets, while higher degrees manifest both high bias and high variance. Overfitting on the training set results in reduced generalization to unseen data, as evidenced by the significant disparity in losses between the out-of-range test set and both the training set and the in-range test set, attributable to overfitting.\n",
    "```\n"
   ]
  },
  {
   "cell_type": "markdown",
   "id": "34af1a91",
   "metadata": {},
   "source": [
    "Expected to explain overfitiing on the training set and also the face that model has less generalization to unseen data."
   ]
  }
 ],
 "metadata": {
  "kernelspec": {
   "display_name": "Python 3 (ipykernel)",
   "language": "python",
   "name": "python3"
  },
  "language_info": {
   "codemirror_mode": {
    "name": "ipython",
    "version": 3
   },
   "file_extension": ".py",
   "mimetype": "text/x-python",
   "name": "python",
   "nbconvert_exporter": "python",
   "pygments_lexer": "ipython3",
   "version": "3.9.7"
  }
 },
 "nbformat": 4,
 "nbformat_minor": 5
}
