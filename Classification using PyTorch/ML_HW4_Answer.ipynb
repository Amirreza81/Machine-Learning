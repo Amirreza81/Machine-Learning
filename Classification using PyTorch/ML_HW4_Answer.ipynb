{
 "cells": [
  {
   "cell_type": "markdown",
   "metadata": {
    "id": "MT-ucU8DVPt8"
   },
   "source": [
    "# Bank Marketing Classification\n",
    "\n",
    "In this part of the assignment we want to do a classification task using PyTorch on bank marketing dataset."
   ]
  },
  {
   "cell_type": "markdown",
   "metadata": {
    "id": "rZlNNmgqYkV4"
   },
   "source": [
    "#Import Library"
   ]
  },
  {
   "cell_type": "code",
   "execution_count": 1,
   "metadata": {
    "id": "NOh9eJ4pYnu2"
   },
   "outputs": [],
   "source": [
    "import torch\n",
    "import torch.nn as nn\n",
    "import torch.optim as optim\n",
    "import pandas as pd\n",
    "import tqdm\n",
    "import numpy as np\n",
    "import matplotlib.pyplot as plt\n",
    "from sklearn.model_selection import train_test_split\n",
    "from sklearn.preprocessing import StandardScaler, LabelEncoder\n",
    "from torch.utils.data import DataLoader, TensorDataset"
   ]
  },
  {
   "cell_type": "markdown",
   "metadata": {
    "id": "EJaMVgX1XcZm"
   },
   "source": [
    "#Load Dataset\n",
    "Here, you should download and load the dataset. After that, you should split train dataset to train and validation sets. Finally, define the dataloaders for `train`, `validation` and `test`"
   ]
  },
  {
   "cell_type": "code",
   "execution_count": 2,
   "metadata": {
    "id": "9YSstSPUXwu2"
   },
   "outputs": [
    {
     "data": {
      "text/html": [
       "<div>\n",
       "<style scoped>\n",
       "    .dataframe tbody tr th:only-of-type {\n",
       "        vertical-align: middle;\n",
       "    }\n",
       "\n",
       "    .dataframe tbody tr th {\n",
       "        vertical-align: top;\n",
       "    }\n",
       "\n",
       "    .dataframe thead th {\n",
       "        text-align: right;\n",
       "    }\n",
       "</style>\n",
       "<table border=\"1\" class=\"dataframe\">\n",
       "  <thead>\n",
       "    <tr style=\"text-align: right;\">\n",
       "      <th></th>\n",
       "      <th>age</th>\n",
       "      <th>job</th>\n",
       "      <th>marital</th>\n",
       "      <th>education</th>\n",
       "      <th>default</th>\n",
       "      <th>balance</th>\n",
       "      <th>housing</th>\n",
       "      <th>loan</th>\n",
       "      <th>contact</th>\n",
       "      <th>day</th>\n",
       "      <th>month</th>\n",
       "      <th>duration</th>\n",
       "      <th>campaign</th>\n",
       "      <th>pdays</th>\n",
       "      <th>previous</th>\n",
       "      <th>poutcome</th>\n",
       "      <th>y</th>\n",
       "    </tr>\n",
       "  </thead>\n",
       "  <tbody>\n",
       "    <tr>\n",
       "      <th>0</th>\n",
       "      <td>58</td>\n",
       "      <td>management</td>\n",
       "      <td>married</td>\n",
       "      <td>tertiary</td>\n",
       "      <td>no</td>\n",
       "      <td>2143</td>\n",
       "      <td>yes</td>\n",
       "      <td>no</td>\n",
       "      <td>unknown</td>\n",
       "      <td>5</td>\n",
       "      <td>may</td>\n",
       "      <td>261</td>\n",
       "      <td>1</td>\n",
       "      <td>-1</td>\n",
       "      <td>0</td>\n",
       "      <td>unknown</td>\n",
       "      <td>no</td>\n",
       "    </tr>\n",
       "    <tr>\n",
       "      <th>1</th>\n",
       "      <td>44</td>\n",
       "      <td>technician</td>\n",
       "      <td>single</td>\n",
       "      <td>secondary</td>\n",
       "      <td>no</td>\n",
       "      <td>29</td>\n",
       "      <td>yes</td>\n",
       "      <td>no</td>\n",
       "      <td>unknown</td>\n",
       "      <td>5</td>\n",
       "      <td>may</td>\n",
       "      <td>151</td>\n",
       "      <td>1</td>\n",
       "      <td>-1</td>\n",
       "      <td>0</td>\n",
       "      <td>unknown</td>\n",
       "      <td>no</td>\n",
       "    </tr>\n",
       "    <tr>\n",
       "      <th>2</th>\n",
       "      <td>33</td>\n",
       "      <td>entrepreneur</td>\n",
       "      <td>married</td>\n",
       "      <td>secondary</td>\n",
       "      <td>no</td>\n",
       "      <td>2</td>\n",
       "      <td>yes</td>\n",
       "      <td>yes</td>\n",
       "      <td>unknown</td>\n",
       "      <td>5</td>\n",
       "      <td>may</td>\n",
       "      <td>76</td>\n",
       "      <td>1</td>\n",
       "      <td>-1</td>\n",
       "      <td>0</td>\n",
       "      <td>unknown</td>\n",
       "      <td>no</td>\n",
       "    </tr>\n",
       "    <tr>\n",
       "      <th>3</th>\n",
       "      <td>47</td>\n",
       "      <td>blue-collar</td>\n",
       "      <td>married</td>\n",
       "      <td>unknown</td>\n",
       "      <td>no</td>\n",
       "      <td>1506</td>\n",
       "      <td>yes</td>\n",
       "      <td>no</td>\n",
       "      <td>unknown</td>\n",
       "      <td>5</td>\n",
       "      <td>may</td>\n",
       "      <td>92</td>\n",
       "      <td>1</td>\n",
       "      <td>-1</td>\n",
       "      <td>0</td>\n",
       "      <td>unknown</td>\n",
       "      <td>no</td>\n",
       "    </tr>\n",
       "    <tr>\n",
       "      <th>4</th>\n",
       "      <td>33</td>\n",
       "      <td>unknown</td>\n",
       "      <td>single</td>\n",
       "      <td>unknown</td>\n",
       "      <td>no</td>\n",
       "      <td>1</td>\n",
       "      <td>no</td>\n",
       "      <td>no</td>\n",
       "      <td>unknown</td>\n",
       "      <td>5</td>\n",
       "      <td>may</td>\n",
       "      <td>198</td>\n",
       "      <td>1</td>\n",
       "      <td>-1</td>\n",
       "      <td>0</td>\n",
       "      <td>unknown</td>\n",
       "      <td>no</td>\n",
       "    </tr>\n",
       "  </tbody>\n",
       "</table>\n",
       "</div>"
      ],
      "text/plain": [
       "   age           job  marital  education default  balance housing loan  \\\n",
       "0   58    management  married   tertiary      no     2143     yes   no   \n",
       "1   44    technician   single  secondary      no       29     yes   no   \n",
       "2   33  entrepreneur  married  secondary      no        2     yes  yes   \n",
       "3   47   blue-collar  married    unknown      no     1506     yes   no   \n",
       "4   33       unknown   single    unknown      no        1      no   no   \n",
       "\n",
       "   contact  day month  duration  campaign  pdays  previous poutcome   y  \n",
       "0  unknown    5   may       261         1     -1         0  unknown  no  \n",
       "1  unknown    5   may       151         1     -1         0  unknown  no  \n",
       "2  unknown    5   may        76         1     -1         0  unknown  no  \n",
       "3  unknown    5   may        92         1     -1         0  unknown  no  \n",
       "4  unknown    5   may       198         1     -1         0  unknown  no  "
      ]
     },
     "execution_count": 2,
     "metadata": {},
     "output_type": "execute_result"
    }
   ],
   "source": [
    "df = pd.read_csv(\"./bank-full.csv\", sep=\";\")\n",
    "df.head()"
   ]
  },
  {
   "cell_type": "markdown",
   "metadata": {
    "id": "Keip2OUFX8qk"
   },
   "source": [
    "#Normalize data\n",
    "normalize numerical data."
   ]
  },
  {
   "cell_type": "code",
   "execution_count": 3,
   "metadata": {
    "id": "e-Wk_AoiYfo4"
   },
   "outputs": [],
   "source": [
    "scaler = StandardScaler()\n",
    "encoder = LabelEncoder()\n",
    "\n",
    "conts_cols = ['age', 'balance', 'day', 'duration', 'campaign', 'pdays', 'previous']\n",
    "df[conts_cols] = scaler.fit_transform(df[conts_cols])\n",
    "\n",
    "categories = ['job', 'marital', 'education', 'default', 'housing', 'loan', 'contact', 'month', 'poutcome']\n",
    "df = pd.get_dummies(df, columns=categories)\n",
    "\n",
    "df['y'] = encoder.fit_transform(df['y'])\n",
    "\n",
    "X = df.drop('y', axis=1)\n",
    "y = df['y']\n",
    "X = X.astype(np.float32)\n",
    "y = y.astype(np.float32)\n",
    "\n",
    "X_train, X_test, y_train, y_test = train_test_split(X, y, test_size=0.2, random_state=42)\n",
    "X_train, X_val, y_train, y_val = train_test_split(X_train, y_train, test_size=0.25, random_state=42)"
   ]
  },
  {
   "cell_type": "markdown",
   "metadata": {
    "id": "8TnDg_OtYrWl"
   },
   "source": [
    "# Create Data Loader\n",
    "create data loader for pytorch"
   ]
  },
  {
   "cell_type": "code",
   "execution_count": 4,
   "metadata": {
    "id": "yIdgxZMUYqzE"
   },
   "outputs": [
    {
     "name": "stdout",
     "output_type": "stream",
     "text": [
      "Number of batches in train loader:  335\n",
      "Number of batches in val loader:  112\n",
      "Number of batches in test loader:  112\n"
     ]
    }
   ],
   "source": [
    "X_train = torch.tensor(X_train.values, dtype=torch.float32)\n",
    "y_train = torch.tensor(y_train.values, dtype=torch.float32)\n",
    "X_val = torch.tensor(X_val.values, dtype=torch.float32)\n",
    "y_val = torch.tensor(y_val.values, dtype=torch.float32)\n",
    "X_test = torch.tensor(X_test.values, dtype=torch.float32)\n",
    "y_test = torch.tensor(y_test.values, dtype=torch.float32)\n",
    "\n",
    "y_train = y_train.reshape(-1, 1)\n",
    "y_val = y_val.reshape(-1, 1)\n",
    "y_test = y_test.reshape(-1, 1)\n",
    "\n",
    "train_dataset = TensorDataset(X_train, y_train)\n",
    "val_dataset = TensorDataset(X_val, y_val)\n",
    "test_dataset = TensorDataset(X_test, y_test)\n",
    "\n",
    "train_loader = DataLoader(train_dataset, batch_size=81, shuffle=True)\n",
    "val_loader = DataLoader(val_dataset, batch_size=81, shuffle=False)\n",
    "test_loader = DataLoader(test_dataset, batch_size=81, shuffle=False)\n",
    "\n",
    "print(\"Number of batches in train loader: \", len(train_loader))\n",
    "print(\"Number of batches in val loader: \", len(val_loader))\n",
    "print(\"Number of batches in test loader: \", len(test_loader))"
   ]
  },
  {
   "cell_type": "markdown",
   "metadata": {
    "id": "GBtQo2PBY9zS"
   },
   "source": [
    "#Model\n",
    "define your model in here"
   ]
  },
  {
   "cell_type": "code",
   "execution_count": 5,
   "metadata": {
    "id": "C5k1GGexZCGD"
   },
   "outputs": [],
   "source": [
    "class BankMarketingNet(nn.Module):\n",
    "    def __init__(self, in_dim):\n",
    "        super().__init__()\n",
    "        self.relu = nn.ReLU()\n",
    "        self.sigmoid = nn.Sigmoid()\n",
    "        self.fc1 = nn.Linear(in_dim, 128)\n",
    "        self.fc2 = nn.Linear(128, 32)\n",
    "        self.fc3 = nn.Linear(32, 4)\n",
    "        self.fc4 = nn.Linear(4, 1)\n",
    "        \n",
    "    def forward(self, x):\n",
    "        x = self.relu(self.fc1(x))\n",
    "        x = self.relu(self.fc2(x))\n",
    "        x = self.relu(self.fc3(x))\n",
    "        x = self.sigmoid(self.fc4(x))\n",
    "        return x"
   ]
  },
  {
   "cell_type": "markdown",
   "metadata": {
    "id": "P_ef2VVkZHpj"
   },
   "source": [
    "#Train your model\n",
    "Define `criterion` and `optimizer`.\n",
    "Train your model\n",
    "\n",
    "Tasks:\n",
    "- [ ] Things that are needed to be printed in each epoch:\n",
    "  - Number of epoch\n",
    "  - Train loss\n",
    "  - Validation loss\n",
    "- [ ] save train/validation loss (of each epoch) in an array for later usage"
   ]
  },
  {
   "cell_type": "code",
   "execution_count": 6,
   "metadata": {
    "colab": {
     "base_uri": "https://localhost:8080/"
    },
    "id": "7BC2acuYZH0j",
    "outputId": "813dc792-19f9-47ea-f65d-ceb1553aef10",
    "scrolled": false
   },
   "outputs": [
    {
     "name": "stdout",
     "output_type": "stream",
     "text": [
      "Epoch: 1/25,\n",
      "Training Loss:\t 0.29162491505252419177,\n",
      "Validation Loss: 0.22682770429390428091\n",
      "#####################################################################################################\n",
      "Epoch: 2/25,\n",
      "Training Loss:\t 0.22150089788759236287,\n",
      "Validation Loss: 0.22074102361172970310\n",
      "#####################################################################################################\n",
      "Epoch: 3/25,\n",
      "Training Loss:\t 0.21570953433837569690,\n",
      "Validation Loss: 0.21379126458074687589\n",
      "#####################################################################################################\n",
      "Epoch: 4/25,\n",
      "Training Loss:\t 0.21091715633799956731,\n",
      "Validation Loss: 0.21231421534844638344\n",
      "#####################################################################################################\n",
      "Epoch: 5/25,\n",
      "Training Loss:\t 0.20654355185804734729,\n",
      "Validation Loss: 0.21032048167330821831\n",
      "#####################################################################################################\n",
      "Epoch: 6/25,\n",
      "Training Loss:\t 0.20355562234140422984,\n",
      "Validation Loss: 0.20735398608283958644\n",
      "#####################################################################################################\n",
      "Epoch: 7/25,\n",
      "Training Loss:\t 0.19941466152371359333,\n",
      "Validation Loss: 0.20575050070051253970\n",
      "#####################################################################################################\n",
      "Epoch: 8/25,\n",
      "Training Loss:\t 0.19610508368922213718,\n",
      "Validation Loss: 0.20885506620866697847\n",
      "#####################################################################################################\n",
      "Epoch: 9/25,\n",
      "Training Loss:\t 0.19508753292752009645,\n",
      "Validation Loss: 0.20500052703004367771\n",
      "#####################################################################################################\n",
      "Epoch: 10/25,\n",
      "Training Loss:\t 0.19160779326160418123,\n",
      "Validation Loss: 0.20518924086277423591\n",
      "#####################################################################################################\n",
      "Epoch: 11/25,\n",
      "Training Loss:\t 0.18971726743784975144,\n",
      "Validation Loss: 0.20512062179662568506\n",
      "#####################################################################################################\n",
      "Epoch: 12/25,\n",
      "Training Loss:\t 0.18739475922160933608,\n",
      "Validation Loss: 0.20505033579532008781\n",
      "#####################################################################################################\n",
      "Epoch: 13/25,\n",
      "Training Loss:\t 0.18648784366258938650,\n",
      "Validation Loss: 0.20644089090128014963\n",
      "#####################################################################################################\n",
      "Epoch: 14/25,\n",
      "Training Loss:\t 0.18380775187453768371,\n",
      "Validation Loss: 0.20594358979152699307\n",
      "#####################################################################################################\n",
      "Epoch: 15/25,\n",
      "Training Loss:\t 0.18286593000675838150,\n",
      "Validation Loss: 0.20449370033074942832\n",
      "#####################################################################################################\n",
      "Epoch: 16/25,\n",
      "Training Loss:\t 0.18153180199654866955,\n",
      "Validation Loss: 0.20975007028544509491\n",
      "#####################################################################################################\n",
      "Epoch: 17/25,\n",
      "Training Loss:\t 0.17989298789289193126,\n",
      "Validation Loss: 0.20605335437013522215\n",
      "#####################################################################################################\n",
      "Epoch: 18/25,\n",
      "Training Loss:\t 0.17823953479380108544,\n",
      "Validation Loss: 0.20799838483343474627\n",
      "#####################################################################################################\n",
      "Epoch: 19/25,\n",
      "Training Loss:\t 0.17692467458570881877,\n",
      "Validation Loss: 0.20821710724158640216\n",
      "#####################################################################################################\n",
      "Epoch: 20/25,\n",
      "Training Loss:\t 0.17528069379733901556,\n",
      "Validation Loss: 0.20873243026509535891\n",
      "#####################################################################################################\n",
      "Epoch: 21/25,\n",
      "Training Loss:\t 0.17429568610872822609,\n",
      "Validation Loss: 0.20916711715530225679\n",
      "#####################################################################################################\n",
      "Epoch: 22/25,\n",
      "Training Loss:\t 0.17208806315576627433,\n",
      "Validation Loss: 0.21500788695798778161\n",
      "#####################################################################################################\n",
      "Epoch: 23/25,\n",
      "Training Loss:\t 0.17147489143974273262,\n",
      "Validation Loss: 0.21479139533870331147\n",
      "#####################################################################################################\n",
      "Epoch: 24/25,\n",
      "Training Loss:\t 0.16986413559596430511,\n",
      "Validation Loss: 0.21316677198436928542\n",
      "#####################################################################################################\n",
      "Epoch: 25/25,\n",
      "Training Loss:\t 0.16794302896426541172,\n",
      "Validation Loss: 0.21418436622591943697\n",
      "#####################################################################################################\n"
     ]
    }
   ],
   "source": [
    "model = BankMarketingNet(X_train.shape[1])\n",
    "\n",
    "optimizer = optim.Adam(model.parameters(), lr=0.0005)\n",
    "criterion = nn.BCELoss()\n",
    "\n",
    "train_losses = []\n",
    "val_losses = []\n",
    "for epoch in range(25):\n",
    "    model.train()\n",
    "    train_loss = 0\n",
    "    for X_batch, y_batch in train_loader:\n",
    "        optimizer.zero_grad()\n",
    "        y_pred = model(X_batch)\n",
    "        loss = criterion(y_pred, y_batch)\n",
    "        loss.backward()\n",
    "        optimizer.step()\n",
    "        train_loss += loss.item() * len(X_batch)\n",
    "    train_loss /= len(train_loader.dataset)\n",
    "    train_losses.append(train_loss)\n",
    "\n",
    "    model.eval()\n",
    "    val_loss = 0\n",
    "    with torch.no_grad():\n",
    "        for X_batch, y_batch in val_loader:\n",
    "            y_pred = model(X_batch)\n",
    "            loss = criterion(y_pred, y_batch)\n",
    "            val_loss += loss.item() * len(X_batch)\n",
    "    val_loss /= len(val_loader.dataset)\n",
    "    val_losses.append(val_loss)\n",
    "    \n",
    "    if val_loss == min(val_losses):\n",
    "        torch.save(model.state_dict(), 'saving.pth')\n",
    "\n",
    "    print(f'Epoch: {epoch+1}/{25},\\nTraining Loss:\\t {train_loss:0.20f},\\nValidation Loss: {val_loss:0.20f}')\n",
    "    print(\"#####################################################################################################\")"
   ]
  },
  {
   "cell_type": "markdown",
   "metadata": {
    "id": "OIFKhbNweZzc"
   },
   "source": [
    "### Visualize Loss plot\n",
    "\n",
    "Using the arrays that you have (from previous task in the above section), visualize Loss plot (train and validation together)"
   ]
  },
  {
   "cell_type": "code",
   "execution_count": 7,
   "metadata": {
    "colab": {
     "base_uri": "https://localhost:8080/",
     "height": 452
    },
    "id": "-uTbAB5YemMp",
    "outputId": "c788e62e-3784-4882-c780-4fd58135eba1"
   },
   "outputs": [
    {
     "data": {
      "image/png": "[encoded data removed]",
      "text/plain": [
       "<Figure size 864x720 with 1 Axes>"
      ]
     },
     "metadata": {
      "needs_background": "light"
     },
     "output_type": "display_data"
    }
   ],
   "source": [
    "plt.figure(figsize=(12, 10))\n",
    "plt.plot(train_losses, label='train loss')\n",
    "plt.plot(val_losses, label='val loss')\n",
    "plt.show()"
   ]
  },
  {
   "cell_type": "markdown",
   "metadata": {
    "id": "MRo2s0wMakLe"
   },
   "source": [
    "## Evaluation\n",
    "\n",
    "Test your trained model (using the Test Dataloader that you have)."
   ]
  },
  {
   "cell_type": "code",
   "execution_count": 8,
   "metadata": {
    "colab": {
     "base_uri": "https://localhost:8080/"
    },
    "id": "6TplSeYPakTT",
    "outputId": "fee4dbf4-6a55-423f-d051-262cbbac427b"
   },
   "outputs": [
    {
     "name": "stdout",
     "output_type": "stream",
     "text": [
      "Accuracy: 90.95432931549264\n"
     ]
    }
   ],
   "source": [
    "#TODO\n",
    "model.load_state_dict(torch.load('saving.pth'))\n",
    "model.eval()\n",
    "test_loss = 0\n",
    "y_true = []\n",
    "y_pred = []\n",
    "with torch.no_grad():\n",
    "    for X_batch, y_batch in test_loader:\n",
    "        y_true.extend(y_batch.cpu().numpy())\n",
    "        y_pred.extend(model(X_batch).cpu().numpy())\n",
    "        loss = criterion(model(X_batch), y_batch)\n",
    "        test_loss += loss.item() * len(X_batch)\n",
    "test_loss /= len(test_loader.dataset)\n",
    "\n",
    "y_true = np.array(y_true).reshape(-1)\n",
    "y_pred = np.array(y_pred).reshape(-1)\n",
    "y_pred = np.where(y_pred > 0.5, 1, 0)\n",
    "\n",
    "accuracy = (y_true == y_pred).mean()\n",
    "\n",
    "print('Accuracy:', accuracy * 100)"
   ]
  }
 ],
 "metadata": {
  "accelerator": "GPU",
  "colab": {
   "gpuType": "T4",
   "provenance": []
  },
  "kernelspec": {
   "display_name": "Python 3 (ipykernel)",
   "language": "python",
   "name": "python3"
  },
  "language_info": {
   "codemirror_mode": {
    "name": "ipython",
    "version": 3
   },
   "file_extension": ".py",
   "mimetype": "text/x-python",
   "name": "python",
   "nbconvert_exporter": "python",
   "pygments_lexer": "ipython3",
   "version": "3.9.7"
  }
 },
 "nbformat": 4,
 "nbformat_minor": 1
}
