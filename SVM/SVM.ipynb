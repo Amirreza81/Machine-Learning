{
 "cells": [
  {
   "cell_type": "markdown",
   "metadata": {},
   "source": [
    "<img src=\"./sharif.png\" alt=\"SUT logo\" width=300 height=300 align=left class=\"saturate\">\n",
    "\n",
    "<br>\n",
    "<font>\n",
    "<div dir=ltr align=center>\n",
    "<font color=0F5298 size=7>\n",
    "    Machine Learning <br>\n",
    "<font color=2565AE size=5>\n",
    "    Computer Engineering Department <br>\n",
    "    Spring 2024<br>\n",
    "<font color=3C99D size=5>\n",
    "    Practical Assignment 3<br>\n",
    "<font color=696880 size=4>\n",
    "    Ashkan Majidi - Shayan Salehi - Amirhossein Alamdar\n",
    "\n",
    "____"
   ]
  },
  {
   "cell_type": "markdown",
   "metadata": {},
   "source": [
    "# Personal Data"
   ]
  },
  {
   "cell_type": "code",
   "execution_count": 1,
   "metadata": {},
   "outputs": [],
   "source": [
    "student_number = '99101087'\n",
    "first_name = 'AmirReza'\n",
    "last_name = 'Azari'"
   ]
  },
  {
   "cell_type": "markdown",
   "metadata": {},
   "source": [
    "# Introduction\n",
    "\n",
    "In this assignment, you will implement SVM (Support Vector Machines) for classification.\n"
   ]
  },
  {
   "cell_type": "markdown",
   "metadata": {},
   "source": [
    "# Data Prepfocessing"
   ]
  },
  {
   "cell_type": "markdown",
   "metadata": {},
   "source": [
    "Import your needed libraries in following cell."
   ]
  },
  {
   "cell_type": "code",
   "execution_count": 2,
   "metadata": {},
   "outputs": [
    {
     "name": "stdout",
     "output_type": "stream",
     "text": [
      "Requirement already satisfied: cvxopt in c:\\users\\amir reza 81\\anaconda3\\lib\\site-packages (1.3.2)\n"
     ]
    }
   ],
   "source": [
    "# TODO: Write your code here\n",
    "!pip install cvxopt\n",
    "import numpy as np\n",
    "import pandas as pd\n",
    "import seaborn as sns\n",
    "from sklearn.svm import SVC\n",
    "import matplotlib.pyplot as plt\n",
    "from cvxopt import matrix, solvers\n",
    "from sklearn.preprocessing import StandardScaler\n",
    "from sklearn.model_selection import GridSearchCV\n",
    "from sklearn.model_selection import train_test_split\n",
    "from sklearn.metrics import accuracy_score, balanced_accuracy_score, confusion_matrix"
   ]
  },
  {
   "cell_type": "markdown",
   "metadata": {},
   "source": [
    "Load data from ```satimage``` dataset and split data to features and labels. The ```label``` column is our target variable. "
   ]
  },
  {
   "cell_type": "code",
   "execution_count": 3,
   "metadata": {},
   "outputs": [],
   "source": [
    "data = pd.read_csv(\"Data/satimage.csv\") \n",
    "X = data.drop(columns=['label'])  \n",
    "y = data['label']"
   ]
  },
  {
   "cell_type": "markdown",
   "metadata": {},
   "source": [
    "Now split data to train, validation and test parts. 60% of data should be used for train, 15% for validation and 25% for test. After that scale the data to Standard Normal Distribution using ```StandardScaler``` class from ```scikit-learn``` library."
   ]
  },
  {
   "cell_type": "code",
   "execution_count": 4,
   "metadata": {},
   "outputs": [
    {
     "name": "stdout",
     "output_type": "stream",
     "text": [
      "6435 3861 965 1609\n"
     ]
    }
   ],
   "source": [
    "# X_temp, X_test, y_temp, y_test = train_test_split(X, y, test_size=0.25, random_state=42)\n",
    "# X_val, X_train, y_val, y_train = train_test_split(X_temp, y_temp, test_size=0.8, random_state=42)\n",
    "# or:\n",
    "X_train, X_temp, y_train, y_temp = train_test_split(X, y, test_size=0.4, random_state=42)\n",
    "X_val, X_test, y_val, y_test = train_test_split(X_temp, y_temp, test_size=0.625, random_state=42)\n",
    "scaler = StandardScaler()\n",
    "X_train = scaler.fit_transform(X_train)\n",
    "X_val = scaler.transform(X_val)\n",
    "X_test = scaler.transform(X_test)\n",
    "print(len(X), len(X_train), len(X_val), len(X_test))"
   ]
  },
  {
   "cell_type": "markdown",
   "metadata": {},
   "source": [
    "We want to train Binary SVM model for classification between labels 4 and 6. Choose corresponding datas and convert their lables to 1 and -1 respectively for 4 and 6."
   ]
  },
  {
   "cell_type": "code",
   "execution_count": 5,
   "metadata": {},
   "outputs": [],
   "source": [
    "mask_train = (y_train == 4) | (y_train == 6)\n",
    "mask_test = (y_test == 4) | (y_test == 6)\n",
    "mask_val = (y_val == 4) | (y_val == 6)\n",
    "\n",
    "X_train = X_train[mask_train]\n",
    "X_test = X_test[mask_test]\n",
    "X_val = X_val[mask_val]\n",
    "\n",
    "y_train = y_train[mask_train]\n",
    "y_test = y_test[mask_test]\n",
    "y_val = y_val[mask_val]\n",
    "\n",
    "\n",
    "y_train.loc[y_train == 6.0] = -1\n",
    "y_train.loc[y_train == 4.0] = 1\n",
    "y_test.loc[y_test == 6.0] = -1\n",
    "y_test.loc[y_test == 4.0] = 1\n",
    "y_val.loc[y_val == 6.0] = -1\n",
    "y_val.loc[y_val == 4.0] = 1"
   ]
  },
  {
   "cell_type": "markdown",
   "metadata": {},
   "source": [
    "# Model (50 points)"
   ]
  },
  {
   "cell_type": "markdown",
   "metadata": {},
   "source": [
    "Here is soft margin svm convex optimization formulation. \n",
    "$$\n",
    "\\begin{aligned}\n",
    "\\text { Minimize } & \\frac{1}{2}\\|\\mathbf{w}\\|^2+C \\sum_{i=1}^N \\xi_i \\\\\n",
    "\\text { Subject to } & y_i\\left(\\mathbf{w}^T \\mathbf{x}_i+b\\right) \\geq 1-\\xi_i, \\quad i=1,2, \\ldots, N \\\\\n",
    "& \\xi_i \\geq 0, \\quad i=1,2, \\ldots, N\n",
    "\\end{aligned}\n",
    "$$\n",
    "write dual of the soft margin svm optimization problem below:"
   ]
  },
  {
   "cell_type": "markdown",
   "metadata": {},
   "source": [
    "`TODO: Write Here`\n",
    "## Answer:\n",
    "$$Maximize \\ \n",
    " -\\frac{1}{2} \\sum_{i=1}^N \\sum_{j=1}^N \\alpha_i \\alpha_j y^i y^j \\mathbf{{x}^i}^T \\mathbf{x}^j + \\sum_{i=1}^N \\alpha_i\n",
    "$$\n",
    "$$\n",
    "0 \\leq \\alpha_i \\leq C, \\quad \\forall i = 1, 2, ..., N\n",
    "$$\n",
    "$$\n",
    "\\sum_{i=1}^N \\alpha_i y^i = 0\n",
    "$$\n"
   ]
  },
  {
   "cell_type": "markdown",
   "metadata": {},
   "source": [
    "Now you should write this optimization problem in standard Quadratic Program (QP) form and use a QP solver to find optimal answer. Here is General form of a QP:\n",
    "$$\n",
    "\\begin{aligned}\n",
    "\\text { Minimize } & \\frac{1}{2} x^TPx + q^Tx + r \\\\\n",
    "\\text { Subject to } & Gx \\leq h \\\\\n",
    "& Ax = b\n",
    "\\end{aligned}\n",
    "$$\n",
    "\n",
    "Complete functions below and use ```cvxopt``` library which is a common library for solving QPs. Note that you can't use ```scikit-learn``` library.\n"
   ]
  },
  {
   "cell_type": "code",
   "execution_count": 6,
   "metadata": {},
   "outputs": [],
   "source": [
    "def soft_margin_svm(X, y, C):\n",
    "    \"\"\"\n",
    "    input:\n",
    "        X: training data\n",
    "        y: training labels\n",
    "        C: errors weight\n",
    "    output:\n",
    "        support_vectros: data points which are SVs of our model.\n",
    "        support_vector_labels: labels of SVs\n",
    "        support_vector_alphas: alpha coefficient of corresponding SVs \n",
    "    \"\"\"\n",
    "    \n",
    "    n_samples, n_features = X.shape\n",
    "    y = np.array(y).reshape(-1, 1)\n",
    "\n",
    "    K = np.dot(X, X.T)\n",
    "    P = matrix((np.outer(y, y) * K).astype(float))\n",
    "    q = matrix((-np.ones((n_samples, 1))).astype(float))\n",
    "    G = matrix((np.vstack((np.eye(n_samples) * (-1), np.eye(n_samples)))).astype(float))\n",
    "    h = matrix((np.hstack((np.zeros(n_samples), np.ones(n_samples) * C))).astype(float))\n",
    "    A = matrix((y.reshape(1, -1)).astype(float))\n",
    "    b = matrix(np.array([0.0]))\n",
    "\n",
    "    solution = solvers.qp(P, q, G, h, A, b)\n",
    "    alphas = np.array(solution['x'])\n",
    "    sv = (alphas > 1e-4).flatten()\n",
    "\n",
    "    support_vectors = X[sv]\n",
    "    support_vector_labels = y[sv]\n",
    "    support_vector_alphas = alphas[sv]\n",
    "\n",
    "    return support_vectors, support_vector_labels, support_vector_alphas"
   ]
  },
  {
   "cell_type": "code",
   "execution_count": 7,
   "metadata": {},
   "outputs": [
    {
     "name": "stdout",
     "output_type": "stream",
     "text": [
      "     pcost       dcost       gap    pres   dres\n",
      " 0: -6.1265e+02 -3.3971e+03  2e+04  3e+00  2e-13\n",
      " 1: -4.1824e+02 -2.2816e+03  3e+03  3e-01  1e-13\n",
      " 2: -3.9732e+02 -7.6474e+02  4e+02  3e-02  8e-14\n",
      " 3: -4.4111e+02 -5.8227e+02  2e+02  9e-03  8e-14\n",
      " 4: -4.6125e+02 -5.3708e+02  8e+01  4e-03  8e-14\n",
      " 5: -4.7293e+02 -5.1305e+02  4e+01  2e-03  8e-14\n",
      " 6: -4.7763e+02 -5.0407e+02  3e+01  1e-03  8e-14\n",
      " 7: -4.8272e+02 -4.9477e+02  1e+01  4e-04  8e-14\n",
      " 8: -4.8534e+02 -4.9054e+02  5e+00  2e-04  9e-14\n",
      " 9: -4.8671e+02 -4.8840e+02  2e+00  4e-05  9e-14\n",
      "10: -4.8718e+02 -4.8773e+02  6e-01  7e-06  9e-14\n",
      "11: -4.8738e+02 -4.8747e+02  9e-02  4e-07  9e-14\n",
      "12: -4.8742e+02 -4.8743e+02  7e-03  3e-08  1e-13\n",
      "13: -4.8742e+02 -4.8742e+02  2e-04  6e-10  1e-13\n",
      "Optimal solution found.\n"
     ]
    }
   ],
   "source": [
    "C = 1.0\n",
    "support_vectors, support_vector_labels, support_vector_alphas = soft_margin_svm(X_train, y_train, C)"
   ]
  },
  {
   "cell_type": "code",
   "execution_count": 8,
   "metadata": {},
   "outputs": [],
   "source": [
    "def predict_labels(x_test, support_vectors, support_vector_labels, support_vector_alphas):\n",
    "    \"\"\"\n",
    "    input:\n",
    "        x_test: test data\n",
    "        support_vectros: data points which are SVs of our model.\n",
    "        support_vector_labels: labels of SVs\n",
    "        support_vector_alphas: alpha coefficient of corresponding SVs \n",
    "    output:\n",
    "        y_pred: predictoin labels\n",
    "    \"\"\"\n",
    "    \n",
    "    y_pred = []\n",
    "\n",
    "    for x in x_test:\n",
    "        prediction = 0\n",
    "        for sv, sv_lab, sv_alpha in zip(support_vectors, support_vector_labels, support_vector_alphas):\n",
    "            prediction += sv_alpha * sv_lab * np.dot(sv, x)\n",
    "        y_pred.append(np.sign(prediction))\n",
    "        \n",
    "    return y_pred"
   ]
  },
  {
   "cell_type": "code",
   "execution_count": 9,
   "metadata": {},
   "outputs": [
    {
     "name": "stdout",
     "output_type": "stream",
     "text": [
      "[array([-1.]), array([-1.]), array([1.]), array([-1.]), array([-1.]), array([-1.]), array([-1.]), array([-1.]), array([-1.]), array([-1.]), array([-1.]), array([-1.]), array([-1.]), array([-1.]), array([-1.]), array([-1.]), array([-1.]), array([-1.]), array([-1.]), array([1.]), array([1.]), array([1.]), array([-1.]), array([-1.]), array([1.]), array([1.]), array([-1.]), array([-1.]), array([-1.]), array([-1.]), array([1.]), array([-1.]), array([-1.]), array([1.]), array([-1.]), array([-1.]), array([-1.]), array([-1.]), array([1.]), array([-1.]), array([-1.]), array([-1.]), array([-1.]), array([-1.]), array([1.]), array([-1.]), array([-1.]), array([-1.]), array([-1.]), array([-1.]), array([1.]), array([1.]), array([-1.]), array([-1.]), array([1.]), array([-1.]), array([-1.]), array([-1.]), array([-1.]), array([-1.]), array([1.]), array([-1.]), array([-1.]), array([1.]), array([-1.]), array([-1.]), array([-1.]), array([-1.]), array([1.]), array([-1.]), array([-1.]), array([-1.]), array([-1.]), array([-1.]), array([-1.]), array([-1.]), array([1.]), array([-1.]), array([-1.]), array([-1.]), array([-1.]), array([-1.]), array([-1.]), array([1.]), array([1.]), array([1.]), array([-1.]), array([1.]), array([-1.]), array([-1.]), array([-1.]), array([1.]), array([1.]), array([-1.]), array([1.]), array([-1.]), array([-1.]), array([1.]), array([1.]), array([-1.]), array([1.]), array([-1.]), array([-1.]), array([-1.]), array([1.]), array([-1.]), array([-1.]), array([-1.]), array([-1.]), array([-1.]), array([-1.]), array([-1.]), array([-1.]), array([-1.]), array([-1.]), array([1.]), array([-1.]), array([-1.]), array([-1.]), array([-1.]), array([-1.]), array([-1.]), array([-1.]), array([-1.]), array([1.]), array([-1.]), array([-1.]), array([-1.]), array([-1.]), array([-1.]), array([-1.]), array([-1.]), array([1.]), array([-1.]), array([-1.]), array([-1.]), array([1.]), array([1.]), array([1.]), array([-1.]), array([1.]), array([-1.]), array([-1.]), array([-1.]), array([-1.]), array([-1.]), array([1.]), array([-1.]), array([-1.]), array([-1.]), array([-1.]), array([-1.]), array([-1.]), array([-1.]), array([-1.]), array([1.]), array([1.]), array([1.]), array([-1.]), array([-1.]), array([-1.]), array([1.]), array([-1.]), array([-1.]), array([-1.]), array([-1.]), array([-1.]), array([-1.]), array([-1.]), array([-1.]), array([-1.]), array([1.]), array([-1.]), array([1.]), array([1.]), array([-1.]), array([-1.]), array([-1.]), array([-1.]), array([-1.]), array([-1.]), array([-1.]), array([1.]), array([-1.]), array([-1.]), array([1.]), array([-1.]), array([1.]), array([1.]), array([-1.]), array([-1.]), array([-1.]), array([-1.]), array([-1.]), array([-1.]), array([-1.]), array([1.]), array([-1.]), array([-1.]), array([1.]), array([-1.]), array([-1.]), array([-1.]), array([1.]), array([-1.]), array([-1.]), array([1.]), array([-1.]), array([-1.]), array([-1.]), array([-1.]), array([-1.]), array([-1.]), array([1.]), array([-1.]), array([-1.]), array([1.]), array([1.]), array([1.]), array([-1.]), array([1.]), array([1.]), array([1.]), array([-1.]), array([1.]), array([-1.]), array([-1.]), array([1.]), array([1.]), array([-1.]), array([-1.]), array([-1.]), array([-1.]), array([-1.]), array([-1.]), array([1.]), array([-1.]), array([-1.]), array([-1.]), array([-1.]), array([-1.]), array([-1.]), array([-1.]), array([-1.]), array([-1.]), array([-1.]), array([1.]), array([-1.]), array([1.]), array([1.]), array([-1.]), array([-1.]), array([1.]), array([-1.]), array([-1.]), array([-1.]), array([-1.]), array([-1.]), array([-1.]), array([1.]), array([-1.]), array([-1.]), array([-1.]), array([-1.]), array([-1.]), array([1.]), array([-1.]), array([-1.]), array([-1.]), array([-1.]), array([-1.]), array([-1.]), array([1.]), array([-1.]), array([1.]), array([1.]), array([-1.]), array([-1.]), array([-1.]), array([1.]), array([1.]), array([-1.]), array([-1.]), array([-1.]), array([-1.]), array([-1.]), array([-1.]), array([1.]), array([-1.]), array([-1.]), array([-1.]), array([-1.]), array([-1.]), array([-1.]), array([-1.]), array([-1.]), array([-1.]), array([1.]), array([-1.]), array([-1.]), array([-1.]), array([-1.]), array([-1.]), array([1.]), array([-1.]), array([1.]), array([-1.]), array([-1.]), array([-1.]), array([-1.]), array([-1.]), array([1.]), array([1.]), array([-1.]), array([1.]), array([-1.]), array([-1.]), array([-1.]), array([1.]), array([-1.]), array([-1.]), array([-1.]), array([-1.]), array([-1.]), array([-1.]), array([-1.]), array([1.]), array([-1.]), array([-1.]), array([-1.]), array([-1.]), array([-1.]), array([-1.]), array([-1.]), array([1.]), array([-1.]), array([-1.]), array([-1.]), array([-1.]), array([-1.]), array([-1.]), array([1.]), array([-1.]), array([-1.]), array([-1.]), array([1.]), array([-1.]), array([-1.]), array([1.]), array([-1.]), array([-1.]), array([-1.]), array([1.]), array([-1.]), array([-1.]), array([-1.]), array([-1.]), array([-1.]), array([-1.]), array([-1.]), array([-1.]), array([1.]), array([-1.]), array([-1.]), array([-1.]), array([-1.]), array([1.]), array([1.]), array([-1.]), array([-1.]), array([-1.]), array([1.]), array([-1.]), array([1.]), array([-1.]), array([-1.]), array([-1.]), array([1.]), array([1.]), array([-1.]), array([-1.]), array([1.]), array([-1.]), array([-1.]), array([-1.]), array([-1.]), array([-1.]), array([1.]), array([1.]), array([1.]), array([-1.]), array([-1.]), array([-1.]), array([-1.]), array([1.]), array([1.]), array([-1.]), array([1.]), array([-1.]), array([-1.]), array([-1.]), array([1.]), array([-1.]), array([1.]), array([1.]), array([-1.]), array([1.]), array([1.]), array([-1.]), array([-1.]), array([-1.]), array([-1.]), array([-1.]), array([-1.]), array([-1.]), array([1.]), array([-1.]), array([-1.]), array([-1.]), array([-1.]), array([-1.]), array([-1.]), array([-1.]), array([1.]), array([-1.]), array([-1.]), array([-1.]), array([1.]), array([-1.]), array([-1.]), array([-1.]), array([1.]), array([-1.]), array([-1.]), array([-1.]), array([-1.]), array([-1.]), array([-1.]), array([-1.]), array([1.]), array([-1.]), array([-1.]), array([-1.]), array([-1.]), array([-1.]), array([-1.]), array([-1.]), array([-1.]), array([-1.]), array([1.]), array([-1.]), array([-1.]), array([-1.]), array([1.]), array([-1.]), array([-1.]), array([-1.]), array([-1.]), array([1.]), array([-1.]), array([-1.]), array([1.]), array([-1.]), array([-1.]), array([-1.]), array([-1.]), array([-1.]), array([-1.]), array([-1.]), array([-1.]), array([-1.]), array([1.]), array([-1.]), array([-1.]), array([-1.]), array([1.]), array([1.]), array([-1.]), array([1.]), array([1.]), array([-1.]), array([-1.]), array([-1.]), array([-1.]), array([1.]), array([-1.]), array([-1.]), array([1.]), array([-1.]), array([1.]), array([-1.]), array([-1.]), array([-1.]), array([-1.]), array([1.]), array([-1.]), array([-1.]), array([-1.]), array([-1.]), array([-1.]), array([-1.]), array([-1.]), array([-1.]), array([-1.]), array([-1.]), array([1.]), array([-1.]), array([-1.]), array([-1.]), array([-1.]), array([-1.]), array([-1.]), array([-1.]), array([-1.]), array([-1.]), array([-1.]), array([-1.]), array([-1.]), array([-1.]), array([-1.]), array([-1.]), array([-1.]), array([-1.]), array([-1.]), array([-1.]), array([1.]), array([-1.]), array([-1.]), array([1.]), array([-1.]), array([-1.]), array([1.]), array([1.]), array([-1.]), array([1.]), array([-1.]), array([-1.]), array([1.])]\n"
     ]
    }
   ],
   "source": [
    "y_pred = predict_labels(np.array(X_test), support_vectors, support_vector_labels, support_vector_alphas)\n",
    "print(y_pred)"
   ]
  },
  {
   "cell_type": "markdown",
   "metadata": {},
   "source": [
    "# Evaluation (20 points)"
   ]
  },
  {
   "cell_type": "markdown",
   "metadata": {},
   "source": [
    "Compute accuracy, balanced accuracy and plot confusion matrix of your trained model using ```Seaborn.heatmap()``` function. Use case of balanced accuracy is when dealing with imbalanced data, i.e. when one of the target classes appears a lot more than the other and it is defined by average of recall of classes. Confusion matrix is a $k\\times k$ (k is number of classes) matrix which cell ij is showing that number of data points labeld i which predicted j. For more detail of evaluation metrics you can see [here](https://neptune.ai/blog/balanced-accuracy).\n",
    "\n",
    "You may use ```scikit-learn``` library to compute these metrics."
   ]
  },
  {
   "cell_type": "code",
   "execution_count": 10,
   "metadata": {},
   "outputs": [
    {
     "name": "stdout",
     "output_type": "stream",
     "text": [
      "Accuracy:  0.8252788104089219\n",
      "Balanced Accuracy:  0.7639855133496167\n",
      "Confusion Matrix:\n",
      " [[348  35]\n",
      " [ 59  96]]\n"
     ]
    }
   ],
   "source": [
    "def evaluate(y_test, y_pred):\n",
    "    \"\"\"\n",
    "    input:\n",
    "        y_test: true labels\n",
    "        y_pred: predicted labels\n",
    "    output:\n",
    "        accuracy: accuracy of the model\n",
    "        balanced_accuracy: balanced accuracy of the model\n",
    "        confusion_matrix: confusion matrix of the model\n",
    "    \"\"\"\n",
    "    # TODO: Write your code here\n",
    "\n",
    "    accuracy = accuracy_score(y_test, y_pred)\n",
    "    balanced_accuracy = balanced_accuracy_score(y_test, y_pred)\n",
    "    confusion_mat = confusion_matrix(y_test, y_pred)\n",
    "\n",
    "    print(\"Accuracy: \", accuracy)\n",
    "    print(\"Balanced Accuracy: \", balanced_accuracy)\n",
    "    print(\"Confusion Matrix:\\n\", confusion_mat)\n",
    "    \n",
    "    return accuracy, balanced_accuracy, confusion_mat\n",
    "\n",
    "\n",
    "_, _, confusion_mat = evaluate(y_test, y_pred)"
   ]
  },
  {
   "cell_type": "code",
   "execution_count": 11,
   "metadata": {},
   "outputs": [
    {
     "data": {
      "text/plain": [
       "<Axes: >"
      ]
     },
     "execution_count": 11,
     "metadata": {},
     "output_type": "execute_result"
    },
    {
     "data": {
      "image/png": "[encoded data removed]",
      "text/plain": [
       "<Figure size 864x648 with 2 Axes>"
      ]
     },
     "metadata": {
      "needs_background": "light"
     },
     "output_type": "display_data"
    }
   ],
   "source": [
    "plt.figure(figsize=(12, 9))\n",
    "cm_matrix = pd.DataFrame(data=confusion_mat, columns=['Predict Negative:-1', 'Predict Positive:1'],\n",
    "                                 index=['Actual Negative:-1', 'Actual Positive:1'])\n",
    "\n",
    "sns.heatmap(cm_matrix, annot=True, fmt='d', cmap='mako')"
   ]
  },
  {
   "cell_type": "markdown",
   "metadata": {},
   "source": [
    "# Fine-tunning (40 points)"
   ]
  },
  {
   "cell_type": "markdown",
   "metadata": {},
   "source": [
    "like what you did before, implement Soft Margin SVM but now use rbf kernel. To determine rbf $\\gamma$ parameter use validation datas and find best(best by balanced accuracy) $\\gamma$ between 0.001 , 0.01, 1, 10, 100. Not that you can't use ```scikit-learn``` library here."
   ]
  },
  {
   "cell_type": "code",
   "execution_count": 12,
   "metadata": {},
   "outputs": [],
   "source": [
    "def rbf(x1, x2, gamma=1):\n",
    "    \"\"\"\n",
    "    input:\n",
    "        x1: first vector\n",
    "        x2: second vector\n",
    "        gamma: rbf kernel parameter with defalt value 1.\n",
    "    output:\n",
    "        ouput: computed rbf of two input vectors\n",
    "    \"\"\"\n",
    "    # TODO: Write your code here\n",
    "    output = np.exp(-np.sum((x1-x2) ** 2) / (2 * gamma**2))\n",
    "    return output\n",
    "#     output = np.exp(-gamma * np.dot((x1 - x2), (x1 - x2)))\n",
    "#     return output\n",
    "\n",
    "def soft_margin_svm(X, y, C, gamma=1):\n",
    "    \"\"\"\n",
    "    input:\n",
    "        X: training data\n",
    "        y: training labels\n",
    "        C: errors weight\n",
    "        gamma: rbf kernel parameter with defalt value 1.\n",
    "    output:\n",
    "        support_vectros: data points which are SVs of our model.\n",
    "        support_vector_labels: labels of SVs\n",
    "        support_vector_alphas: alpha coefficient of corresponding SVs \n",
    "    \"\"\"\n",
    "\n",
    "    n_samples, n_features = X.shape\n",
    "    \n",
    "    K = np.zeros((n_samples, n_samples))\n",
    "    \n",
    "    for i in range(n_samples):\n",
    "        for j in range(i, n_samples):\n",
    "            K[i, j] = rbf(X[i], X[j], gamma)\n",
    "            K[j, i] = K[i, j] \n",
    "\n",
    "    P = matrix(np.outer(y, y) * K)\n",
    "    q = matrix(-np.ones(n_samples))\n",
    "    G = matrix(np.vstack((-np.eye(n_samples), np.eye(n_samples))))\n",
    "    h = matrix(np.hstack((np.zeros(n_samples), np.ones(n_samples) * C)))\n",
    "    A = matrix(y, (1, n_samples), 'd')\n",
    "    b = matrix(0.0)\n",
    "\n",
    "    solution = solvers.qp(P, q, G, h, A, b)\n",
    "    alphas = np.array(solution['x']).flatten()\n",
    "    support_vector_indices = alphas > 1e-5\n",
    "    support_vectors = X[support_vector_indices]\n",
    "    support_vector_labels = y[support_vector_indices]\n",
    "    support_vector_alphas = alphas[support_vector_indices]\n",
    "    \n",
    "    return support_vectors, support_vector_labels, support_vector_alphas"
   ]
  },
  {
   "cell_type": "code",
   "execution_count": 13,
   "metadata": {},
   "outputs": [
    {
     "name": "stdout",
     "output_type": "stream",
     "text": [
      "gamma =  0.01\n",
      "     pcost       dcost       gap    pres   dres\n",
      " 0: -4.6331e+02 -2.1253e+03  2e+03  4e-13  5e-16\n",
      " 1: -4.6978e+02 -5.0577e+02  4e+01  4e-14  1e-16\n",
      " 2: -4.7552e+02 -4.7591e+02  4e-01  1e-13  7e-17\n",
      " 3: -4.7559e+02 -4.7559e+02  4e-03  9e-14  1e-16\n",
      " 4: -4.7559e+02 -4.7559e+02  4e-05  3e-13  2e-17\n",
      "Optimal solution found.\n",
      "gamma =  0.1\n",
      "     pcost       dcost       gap    pres   dres\n",
      " 0: -4.6331e+02 -2.1253e+03  2e+03  2e-13  3e-16\n",
      " 1: -4.6978e+02 -5.0577e+02  4e+01  7e-14  3e-16\n",
      " 2: -4.7552e+02 -4.7591e+02  4e-01  2e-13  4e-17\n",
      " 3: -4.7559e+02 -4.7559e+02  4e-03  3e-13  1e-16\n",
      " 4: -4.7559e+02 -4.7559e+02  4e-05  4e-13  7e-17\n",
      "Optimal solution found.\n",
      "gamma =  1\n",
      "     pcost       dcost       gap    pres   dres\n",
      " 0: -2.2807e+02 -2.3860e+03  1e+04  2e+00  2e-15\n",
      " 1: -1.9511e+02 -1.3394e+03  1e+03  1e-01  9e-16\n",
      " 2: -2.1236e+02 -4.1488e+02  2e+02  2e-02  1e-15\n",
      " 3: -2.3269e+02 -2.8889e+02  6e+01  3e-03  1e-15\n",
      " 4: -2.4128e+02 -2.5379e+02  1e+01  2e-04  9e-16\n",
      " 5: -2.4336e+02 -2.4664e+02  3e+00  2e-05  9e-16\n",
      " 6: -2.4396e+02 -2.4482e+02  9e-01  2e-06  9e-16\n",
      " 7: -2.4412e+02 -2.4439e+02  3e-01  1e-14  9e-16\n",
      " 8: -2.4419e+02 -2.4423e+02  4e-02  3e-15  9e-16\n",
      " 9: -2.4420e+02 -2.4420e+02  9e-04  9e-15  9e-16\n",
      "10: -2.4420e+02 -2.4420e+02  1e-05  1e-14  9e-16\n",
      "Optimal solution found.\n",
      "gamma =  10\n",
      "     pcost       dcost       gap    pres   dres\n",
      " 0: -6.2048e+02 -3.2025e+03  2e+04  3e+00  1e-14\n",
      " 1: -4.3213e+02 -2.0926e+03  2e+03  2e-01  1e-14\n",
      " 2: -4.5019e+02 -7.0525e+02  3e+02  2e-02  9e-15\n",
      " 3: -5.0506e+02 -6.0737e+02  1e+02  6e-03  9e-15\n",
      " 4: -5.2409e+02 -5.7948e+02  6e+01  3e-03  1e-14\n",
      " 5: -5.3432e+02 -5.6427e+02  3e+01  1e-03  9e-15\n",
      " 6: -5.3954e+02 -5.5681e+02  2e+01  7e-04  9e-15\n",
      " 7: -5.4297e+02 -5.5209e+02  9e+00  3e-04  9e-15\n",
      " 8: -5.4610e+02 -5.4792e+02  2e+00  4e-05  1e-14\n",
      " 9: -5.4679e+02 -5.4705e+02  3e-01  4e-06  1e-14\n",
      "10: -5.4690e+02 -5.4692e+02  1e-02  2e-07  1e-14\n",
      "11: -5.4691e+02 -5.4691e+02  3e-04  3e-09  1e-14\n",
      "Optimal solution found.\n",
      "gamma =  100\n",
      "     pcost       dcost       gap    pres   dres\n",
      " 0: -8.4606e+02 -3.0015e+03  1e+04  2e+00  2e-14\n",
      " 1: -6.2477e+02 -1.9350e+03  1e+03  2e-14  2e-14\n",
      " 2: -6.6964e+02 -8.4354e+02  2e+02  2e-14  1e-14\n",
      " 3: -7.0632e+02 -7.3538e+02  3e+01  2e-16  1e-14\n",
      " 4: -7.1791e+02 -7.2310e+02  5e+00  7e-15  1e-14\n",
      " 5: -7.2038e+02 -7.2131e+02  9e-01  1e-14  1e-14\n",
      " 6: -7.2075e+02 -7.2100e+02  2e-01  4e-15  2e-14\n",
      " 7: -7.2087e+02 -7.2090e+02  2e-02  2e-14  2e-14\n",
      " 8: -7.2089e+02 -7.2089e+02  5e-04  2e-14  2e-14\n",
      "Optimal solution found.\n",
      "best gamma: 100\n"
     ]
    }
   ],
   "source": [
    "gammas = [0.01, 0.1, 1, 10, 100]\n",
    "best_gamma = None\n",
    "best_support_vectors = None\n",
    "best_support_vector_labels = None\n",
    "best_support_vector_alphas = None\n",
    "\n",
    "best_balanced_accuracy = 0\n",
    "for gamma in gammas:\n",
    "    print(\"gamma = \", gamma)\n",
    "    support_vectors, support_vector_labels, support_vector_alphas = soft_margin_svm(X_train, y_train, C, gamma)\n",
    "    \n",
    "    y_pred = predict_labels(X_val, support_vectors, support_vector_labels, support_vector_alphas)\n",
    "    \n",
    "    balanced_accuracy = balanced_accuracy_score(y_val, y_pred)\n",
    "    \n",
    "    if balanced_accuracy > best_balanced_accuracy:\n",
    "        best_gamma = gamma\n",
    "        best_support_vectors = support_vectors\n",
    "        best_support_vector_labels = support_vector_labels\n",
    "        best_support_vector_alphas = support_vector_alphas\n",
    "        best_balanced_accuracy = balanced_accuracy\n",
    "\n",
    "print(\"best gamma:\",best_gamma)"
   ]
  },
  {
   "cell_type": "code",
   "execution_count": 14,
   "metadata": {},
   "outputs": [
    {
     "name": "stdout",
     "output_type": "stream",
     "text": [
      "Accuracy:  0.8085501858736059\n",
      "Balanced Accuracy:  0.7426345489766697\n",
      "Confusion Matrix:\n",
      " [[344  39]\n",
      " [ 64  91]]\n"
     ]
    }
   ],
   "source": [
    "y_pred = predict_labels(np.array(X_test), best_support_vectors, best_support_vector_labels, best_support_vector_alphas)\n",
    "_, _, confusion_mat = evaluate(y_test, y_pred)"
   ]
  },
  {
   "cell_type": "markdown",
   "metadata": {},
   "source": [
    "# Multiclass SVM (30 points + 50 points optional)"
   ]
  },
  {
   "cell_type": "markdown",
   "metadata": {},
   "source": [
    "Now we want implement Multiclass SVM. Use ```SVC``` function with rbf kernel from ```scikit-learn``` package on all train datas (all six classes) and choose best hyperparameters for $C$ and $\\gamma$ between 0.01, 0.1, 1, 10, 100. After that evaluate it with your function.\n",
    "\n",
    "Note that in this example we had enough data to split them in train and validation but in case that we don't have enough data, ```scikit-learn``` has a built-in fast library named ```GridSearchCV()``` which can help us in hyperparameter tunning with cross validation."
   ]
  },
  {
   "cell_type": "code",
   "execution_count": 15,
   "metadata": {
    "scrolled": false
   },
   "outputs": [
    {
     "name": "stdout",
     "output_type": "stream",
     "text": [
      "Best C : 10\n",
      "Best gamma : 0.1\n",
      "Accuracy:  0.8819142324425109\n",
      "Balanced Accuracy:  0.8689104585701625\n",
      "Confusion Matrix:\n",
      " [[345   1   5   1   3   0]\n",
      " [  0 182   0   1   3   3]\n",
      " [  3   2 305  25   1   6]\n",
      " [  1   1  23 106   4  20]\n",
      " [ 10   5   0   1 160   9]\n",
      " [  0   1   9  44   8 321]]\n"
     ]
    },
    {
     "data": {
      "text/plain": [
       "<Axes: >"
      ]
     },
     "execution_count": 15,
     "metadata": {},
     "output_type": "execute_result"
    },
    {
     "data": {
      "image/png": "[encoded data removed]",
      "text/plain": [
       "<Figure size 432x288 with 2 Axes>"
      ]
     },
     "metadata": {
      "needs_background": "light"
     },
     "output_type": "display_data"
    }
   ],
   "source": [
    "# Helped from GPT\n",
    "\n",
    "Cs = [0.01, 0.1, 1, 10, 100]\n",
    "gammas = [0.01, 0.1, 1, 10, 100]\n",
    "\n",
    "# loading data with all classes\n",
    "data = pd.read_csv('./Data/satimage.csv')\n",
    "X = data.drop('label', axis=1)\n",
    "y = data['label']\n",
    "\n",
    "X_train, X_temp, y_train, y_temp = train_test_split(X, y, test_size=0.4, random_state=42)\n",
    "X_val, X_test, y_val, y_test = train_test_split(X_temp, y_temp, test_size=0.625, random_state=42)\n",
    "\n",
    "scaler = StandardScaler()\n",
    "X_train = scaler.fit_transform(X_train)\n",
    "X_val = scaler.transform(X_val)\n",
    "X_test = scaler.transform(X_test)\n",
    "\n",
    "parameter_grid = {'C':Cs, 'gamma': gammas}\n",
    "svm_model = SVC(kernel='rbf')\n",
    "\n",
    "grid_search = GridSearchCV(estimator = svm_model, param_grid = parameter_grid, cv = 5, scoring ='balanced_accuracy')\n",
    "grid_search.fit(X_val, y_val)\n",
    "\n",
    "best_C = grid_search.best_params_['C']\n",
    "print(f\"Best C : {best_C}\")\n",
    "best_gamma = grid_search.best_params_['gamma']\n",
    "print(f\"Best gamma : {best_gamma}\")\n",
    "best_model = grid_search.best_estimator_\n",
    "\n",
    "\n",
    "y_pred = best_model.predict(X_test)\n",
    "_, _, confusion_mat = evaluate(y_test, y_pred)\n",
    "num_classes = 6\n",
    "cm_matrix = pd.DataFrame(data=confusion_mat, columns=['Predicted ' + str(i) for i in range(num_classes)],\n",
    "                                index=['Correct Class ' + str(i) for i in range(num_classes)])\n",
    "sns.heatmap(cm_matrix, annot=True, fmt='d', cmap='mako')"
   ]
  },
  {
   "cell_type": "markdown",
   "metadata": {},
   "source": [
    "Implement Multiclass SVM from scratch without using ready functions (optional)."
   ]
  },
  {
   "cell_type": "code",
   "execution_count": 16,
   "metadata": {
    "scrolled": false
   },
   "outputs": [
    {
     "name": "stdout",
     "output_type": "stream",
     "text": [
      "     pcost       dcost       gap    pres   dres\n",
      " 0:  1.0455e-10 -3.8610e+04  8e+04  1e-01  6e-17\n",
      " 1:  1.5228e-12 -7.0470e+02  1e+03  1e-03  1e-16\n",
      " 2:  1.4961e-14 -7.0477e+00  1e+01  1e-05  5e-16\n",
      " 3:  1.4957e-16 -7.0477e-02  1e-01  1e-07  3e-16\n",
      " 4:  1.4958e-18 -7.0477e-04  1e-03  1e-09  2e-15\n",
      " 5:  1.4958e-20 -7.0477e-06  1e-05  1e-11  2e-15\n",
      " 6:  1.4958e-22 -7.0477e-08  1e-07  1e-13  2e-15\n",
      " 7:  1.4958e-24 -7.0477e-10  1e-09  1e-15  4e-15\n",
      "Optimal solution found.\n",
      "     pcost       dcost       gap    pres   dres\n",
      " 0:  8.7168e+03 -9.3162e+04  1e+05  1e-11  9e-16\n",
      " 1:  1.6768e+03 -1.1757e+04  1e+04  9e-12  6e-16\n",
      " 2: -1.2438e+03 -2.8217e+03  2e+03  8e-12  2e-16\n",
      " 3: -1.4252e+03 -1.5154e+03  9e+01  6e-14  1e-16\n",
      " 4: -1.4264e+03 -1.4274e+03  1e+00  1e-13  5e-17\n",
      " 5: -1.4264e+03 -1.4264e+03  1e-02  4e-13  6e-17\n",
      " 6: -1.4264e+03 -1.4264e+03  1e-04  3e-13  6e-17\n",
      "Optimal solution found.\n",
      "     pcost       dcost       gap    pres   dres\n",
      " 0:  4.4790e+03 -7.2145e+04  8e+04  4e-11  2e-15\n",
      " 1:  1.5206e+03 -1.0689e+04  1e+04  1e-11  1e-15\n",
      " 2: -5.6813e+02 -1.8539e+03  1e+03  4e-12  7e-16\n",
      " 3: -7.3072e+02 -8.2202e+02  9e+01  2e-12  2e-16\n",
      " 4: -7.3292e+02 -7.3410e+02  1e+00  7e-13  3e-17\n",
      " 5: -7.3292e+02 -7.3294e+02  1e-02  6e-13  1e-16\n",
      " 6: -7.3292e+02 -7.3292e+02  1e-04  2e-13  8e-17\n",
      "Optimal solution found.\n",
      "     pcost       dcost       gap    pres   dres\n",
      " 0:  7.8089e+03 -9.0243e+04  1e+05  2e-11  5e-16\n",
      " 1:  1.7700e+03 -1.1816e+04  1e+04  2e-11  1e-15\n",
      " 2: -1.0887e+03 -2.6633e+03  2e+03  7e-12  4e-16\n",
      " 3: -1.2763e+03 -1.3713e+03  9e+01  2e-12  1e-16\n",
      " 4: -1.2778e+03 -1.2789e+03  1e+00  1e-12  5e-17\n",
      " 5: -1.2778e+03 -1.2778e+03  1e-02  4e-13  1e-16\n",
      " 6: -1.2778e+03 -1.2778e+03  1e-04  2e-12  1e-16\n",
      "Optimal solution found.\n",
      "     pcost       dcost       gap    pres   dres\n",
      " 0:  4.0592e+03 -6.9337e+04  7e+04  5e-11  9e-16\n",
      " 1:  1.4322e+03 -1.0418e+04  1e+04  3e-13  1e-15\n",
      " 2: -5.0762e+02 -1.7280e+03  1e+03  3e-12  3e-16\n",
      " 3: -6.6200e+02 -7.5007e+02  9e+01  2e-12  9e-17\n",
      " 4: -6.6423e+02 -6.6539e+02  1e+00  6e-14  3e-17\n",
      " 5: -6.6423e+02 -6.6424e+02  1e-02  3e-12  4e-17\n",
      " 6: -6.6423e+02 -6.6423e+02  1e-04  1e-12  5e-17\n",
      "Optimal solution found.\n",
      "     pcost       dcost       gap    pres   dres\n",
      " 0:  4.6987e+03 -7.3578e+04  8e+04  4e-11  2e-15\n",
      " 1:  1.5621e+03 -1.0819e+04  1e+04  1e-13  9e-16\n",
      " 2: -6.0025e+02 -1.9176e+03  1e+03  1e-11  7e-16\n",
      " 3: -7.6670e+02 -8.5938e+02  9e+01  1e-11  1e-16\n",
      " 4: -7.6888e+02 -7.7006e+02  1e+00  3e-12  8e-17\n",
      " 5: -7.6888e+02 -7.6889e+02  1e-02  2e-12  8e-17\n",
      " 6: -7.6888e+02 -7.6888e+02  1e-04  9e-13  2e-17\n",
      "Optimal solution found.\n",
      "Accuracy:  0.6892479801118707\n",
      "Balanced Accuracy:  0.7392201768848748\n",
      "Confusion Matrix:\n",
      " [[  0   0   0   0   0   0   0]\n",
      " [  0 348   0   4   1   2   0]\n",
      " [  2   1 177   1   3   5   0]\n",
      " [ 10   4   0 304  24   0   0]\n",
      " [ 17   2   3  20 111   2   0]\n",
      " [ 11   2   0   1   2 169   0]\n",
      " [329   0   0  10  36   8   0]]\n"
     ]
    },
    {
     "name": "stderr",
     "output_type": "stream",
     "text": [
      "C:\\Users\\Amir Reza 81\\anaconda3\\lib\\site-packages\\sklearn\\metrics\\_classification.py:2184: UserWarning: y_pred contains classes not in y_true\n",
      "  warnings.warn(\"y_pred contains classes not in y_true\")\n"
     ]
    },
    {
     "data": {
      "text/plain": [
       "<Axes: >"
      ]
     },
     "execution_count": 16,
     "metadata": {},
     "output_type": "execute_result"
    },
    {
     "data": {
      "image/png": "[encoded data removed]",
      "text/plain": [
       "<Figure size 432x288 with 2 Axes>"
      ]
     },
     "metadata": {
      "needs_background": "light"
     },
     "output_type": "display_data"
    }
   ],
   "source": [
    "# Helped from net and GPT\n",
    "# use One vs All architecture\n",
    "\n",
    "def predict_multi_class(x_test, classifiers):\n",
    "    num_classes = len(classifiers)\n",
    "    num_samples = len(x_test)\n",
    "    predictions = np.zeros((num_samples, num_classes))\n",
    "\n",
    "    for i, (support_vectors, support_vector_labels, support_vector_alphas) in enumerate(classifiers):\n",
    "        for j in range(num_samples):\n",
    "            prediction = 0\n",
    "            for alpha, labell, sv in zip(support_vector_alphas, support_vector_labels, support_vectors):\n",
    "                prediction += alpha * labell * rbf(x_test[j], sv, best_gamma)\n",
    "            predictions[j, i] = prediction\n",
    "\n",
    "    y_pred = np.argmax(predictions, axis=1)\n",
    "    return y_pred\n",
    "\n",
    "classifiers = []\n",
    "num_classes = 6\n",
    "for class_label in range(num_classes):\n",
    "    binary_labels = np.where(y_train == class_label, 1, -1)\n",
    "\n",
    "    support_vectors, support_vector_labels, support_vector_alphas = soft_margin_svm(X_train, binary_labels,\n",
    "                                                                                    best_C, best_gamma)\n",
    "    classifiers.append((support_vectors, support_vector_labels, support_vector_alphas))\n",
    "\n",
    "\n",
    "y_pred = predict_multi_class(X_test, classifiers)\n",
    "_, _, confusion_mat = evaluate(y_test, y_pred)\n",
    "\n",
    "cm_matrix = pd.DataFrame(data=confusion_mat)\n",
    "sns.heatmap(cm_matrix, annot=True, fmt='d', cmap='mako')"
   ]
  },
  {
   "cell_type": "markdown",
   "metadata": {},
   "source": [
    "# Different SVM Kernels (40 points)"
   ]
  },
  {
   "cell_type": "markdown",
   "metadata": {},
   "source": [
    "A kernel in SVM is like a tool that helps solve tricky problems. It lets us work in a space with many dimensions, making complex calculations easier. With kernels, we can deal with lots of dimensions, even an endless amount. Kernels are crucial for sorting data into groups and help spot patterns in the data we're looking at. They're especially good at tackling twisty problems with a straightforward approach.\n",
    "\n",
    "Sometimes, finding a straight line or flat surface to divide data isn't possible, especially as we explore more dimensions. That's where different types of SVM kernels come in handy. They transform twisty, complicated data into a simpler form that's easier to separate. In this explanation, we talk about 4 popular types of these kernels. Also in following cells you can use any package.\n",
    "\n",
    "<img src=\"./kernel.jpg\" alt=\"Types of Kernel Functions\"  align=center class=\"saturate\">"
   ]
  },
  {
   "cell_type": "markdown",
   "metadata": {},
   "source": [
    "### Linear Kernel"
   ]
  },
  {
   "cell_type": "markdown",
   "metadata": {},
   "source": [
    "This is the simplest kind of kernel, typically working in one dimension. It works best when dealing with a lot of features. Linear kernels are quicker than other types.\n",
    "\n",
    "**Formula:**\n",
    "\n",
    "$$F(x, x_j) = sum(x, x_j)$$\n",
    "\n",
    "Now Implement svc classifier using a linear kernel. Get the prediction and evaluate it by function which you implemented before. Also plot confusion matrix by `Seaborn`."
   ]
  },
  {
   "cell_type": "code",
   "execution_count": 17,
   "metadata": {},
   "outputs": [
    {
     "name": "stdout",
     "output_type": "stream",
     "text": [
      "Accuracy:  0.872591671845867\n",
      "Balanced Accuracy:  0.8344319384555986\n",
      "Confusion Matrix:\n",
      " [[351   0   1   0   3   0]\n",
      " [  1 173   1   0  14   0]\n",
      " [  3   0 322  15   1   1]\n",
      " [  4   1  37  72   3  38]\n",
      " [  5   7   0   2 153  18]\n",
      " [  0   0  11  27  12 333]]\n"
     ]
    },
    {
     "data": {
      "image/png": "[encoded data removed]",
      "text/plain": [
       "<Figure size 864x576 with 2 Axes>"
      ]
     },
     "metadata": {
      "needs_background": "light"
     },
     "output_type": "display_data"
    }
   ],
   "source": [
    "svc_linear = SVC(kernel='linear')\n",
    "svc_linear.fit(X_train, y_train)\n",
    "\n",
    "y_pred_linear = svc_linear.predict(X_test)\n",
    "\n",
    "accuracy_linear, balanced_accuracy_linear, confusion_mat_linear = evaluate(y_test, y_pred_linear)\n",
    "\n",
    "plt.figure(figsize=(12, 8))\n",
    "sns.heatmap(confusion_mat_linear, annot=True, cmap='mako', fmt='g')\n",
    "plt.xlabel('Predicted labels')\n",
    "plt.ylabel('True labels')\n",
    "plt.title('Confusion Matrix - Linear Kernel SVM')\n",
    "plt.show()"
   ]
  },
  {
   "cell_type": "markdown",
   "metadata": {},
   "source": [
    "### Gaussian RBF kernel"
   ]
  },
  {
   "cell_type": "markdown",
   "metadata": {},
   "source": [
    "This kernel is a favorite choice in SVM, especially for data that doesn't line up straight. It's great for sorting data when you don't know much about it beforehand.\n",
    "\n",
    "**Formula:**\n",
    "\n",
    "$$F(x, x_j) = \\exp{(-\\gamma ||x - xj||^2)}$$\n",
    "\n",
    "Now, configure the SVC classifier with a sigmoid kernel. Get the prediction and evaluate it by function which you implemented before. Also plot confusion matrix as previous part. "
   ]
  },
  {
   "cell_type": "code",
   "execution_count": 18,
   "metadata": {},
   "outputs": [
    {
     "name": "stdout",
     "output_type": "stream",
     "text": [
      "Accuracy:  0.8912367930391547\n",
      "Balanced Accuracy:  0.8678617390048845\n",
      "Confusion Matrix:\n",
      " [[351   1   2   0   1   0]\n",
      " [  0 181   0   1   6   1]\n",
      " [  3   1 325   7   1   5]\n",
      " [  3   1  37  90   2  22]\n",
      " [  3   2   1   1 164  14]\n",
      " [  0   1  11  41   7 323]]\n"
     ]
    },
    {
     "data": {
      "image/png": "[encoded data removed]",
      "text/plain": [
       "<Figure size 864x576 with 2 Axes>"
      ]
     },
     "metadata": {
      "needs_background": "light"
     },
     "output_type": "display_data"
    }
   ],
   "source": [
    "svc_rbf = SVC(kernel='rbf')\n",
    "svc_rbf.fit(X_train, y_train)\n",
    "y_pred_rbf = svc_rbf.predict(X_test)\n",
    "\n",
    "accuracy_rbf, balanced_accuracy_rbf, confusion_mat_rbf = evaluate(y_test, y_pred_rbf)\n",
    "plt.figure(figsize=(12, 8))\n",
    "sns.heatmap(confusion_mat_rbf, annot=True, cmap='mako', fmt='g')\n",
    "plt.xlabel('Predicted labels')\n",
    "plt.ylabel('True labels')\n",
    "plt.title('Confusion Matrix - RBF Kernel SVM')\n",
    "plt.show()"
   ]
  },
  {
   "cell_type": "markdown",
   "metadata": {},
   "source": [
    "### Polynomial Kernel"
   ]
  },
  {
   "cell_type": "markdown",
   "metadata": {},
   "source": [
    "This is a broader version of the linear kernel. It's not as popular because it's not as quick or precise.\n",
    "\n",
    "**Formula:**\n",
    "\n",
    "$$F(x, x_j) = (x.x_j+1)^d$$\n",
    "\n",
    "Now, set up the SVC classifier using a *polynomial* kernel. Get the prediction and evaluate it by function which you implemented before. Also plot confusion matrix as previous parts."
   ]
  },
  {
   "cell_type": "code",
   "execution_count": 19,
   "metadata": {},
   "outputs": [
    {
     "name": "stdout",
     "output_type": "stream",
     "text": [
      "Accuracy:  0.8477315102548166\n",
      "Balanced Accuracy:  0.8191602351764184\n",
      "Confusion Matrix:\n",
      " [[353   0   1   0   1   0]\n",
      " [  3 175   1   3   5   2]\n",
      " [  5   0 310  21   0   6]\n",
      " [ 11   0  30  93   0  21]\n",
      " [ 25   2   0  10 128  20]\n",
      " [  2   1   4  68   3 305]]\n"
     ]
    },
    {
     "data": {
      "image/png": "[encoded data removed]",
      "text/plain": [
       "<Figure size 864x576 with 2 Axes>"
      ]
     },
     "metadata": {
      "needs_background": "light"
     },
     "output_type": "display_data"
    }
   ],
   "source": [
    "svc_poly = SVC(kernel='poly')\n",
    "svc_poly.fit(X_train, y_train)\n",
    "y_pred_poly = svc_poly.predict(X_test)\n",
    "\n",
    "accuracy_poly, balanced_accuracy_poly, confusion_mat_poly = evaluate(y_test, y_pred_poly)\n",
    "plt.figure(figsize=(12, 8))\n",
    "sns.heatmap(confusion_mat_poly, annot=True, cmap='mako', fmt='g')\n",
    "plt.xlabel('Predicted labels')\n",
    "plt.ylabel('True labels')\n",
    "plt.title('Confusion Matrix - Polynomial Kernel SVM')\n",
    "plt.show()"
   ]
  },
  {
   "cell_type": "markdown",
   "metadata": {},
   "source": [
    "### Sigmoid Kernel"
   ]
  },
  {
   "cell_type": "markdown",
   "metadata": {},
   "source": [
    "This is mainly chosen for use with neural networks. The kernel function acts like the activation function in a two-layer perceptron neural network model, helping to activate the neurons.\n",
    "\n",
    "**Formula:**\n",
    "\n",
    "$$F(x, x_j) = \\tanh(α x a y + c)$$\n",
    "\n",
    "Now, configure the SVC classifier with a sigmoid kernel. Get the prediction and evaluate it by function which you implemented before. Also plot confusion matrix as previous parts. "
   ]
  },
  {
   "cell_type": "code",
   "execution_count": 20,
   "metadata": {},
   "outputs": [
    {
     "name": "stdout",
     "output_type": "stream",
     "text": [
      "Accuracy:  0.723430702299565\n",
      "Balanced Accuracy:  0.678944902894234\n",
      "Confusion Matrix:\n",
      " [[293   5  16   0  41   0]\n",
      " [ 25 156   0   2   6   0]\n",
      " [  2   0 306  30   3   1]\n",
      " [  4   1  39  50  16  45]\n",
      " [ 21  28   6  27  96   7]\n",
      " [  0   1  11  53  55 263]]\n"
     ]
    },
    {
     "data": {
      "image/png": "[encoded data removed]",
      "text/plain": [
       "<Figure size 864x576 with 2 Axes>"
      ]
     },
     "metadata": {
      "needs_background": "light"
     },
     "output_type": "display_data"
    }
   ],
   "source": [
    "svc_sigmoid = SVC(kernel='sigmoid')\n",
    "svc_sigmoid.fit(X_train, y_train)\n",
    "y_pred_sigmoid = svc_sigmoid.predict(X_test)\n",
    "\n",
    "accuracy_sigmoid, balanced_accuracy_sigmoid, confusion_mat_sigmoid = evaluate(y_test, y_pred_sigmoid)\n",
    "plt.figure(figsize=(12, 8))\n",
    "sns.heatmap(confusion_mat_sigmoid, annot=True, cmap='mako', fmt='g')\n",
    "plt.xlabel('Predicted labels')\n",
    "plt.ylabel('True labels')\n",
    "plt.title('Confusion Matrix - Sigmoid Kernel SVM')\n",
    "plt.show()"
   ]
  },
  {
   "cell_type": "markdown",
   "metadata": {},
   "source": [
    "Compare these four kernel functions with each other. What are the main advantages and disadvantages of each one? "
   ]
  },
  {
   "cell_type": "markdown",
   "metadata": {},
   "source": [
    "`TODO: Linear kernels are commended for simplicity and computational efficiency, particularly effective for linearly separable data, but they struggle with complex patterns and non-linear relationships. Gaussian RBF kernels excel in handling non-linearly separable data by mapping features to high-dimensional spaces but require careful tuning of parameters like gamma to prevent overfitting and can be computationally expensive. Polynomial kernels offer flexibility in capturing non-linear relationships but demand parameter tuning and are prone to overfitting with high-degree polynomials.\n",
    "\n",
    "Sigmoid kernels, while capable of capturing non-linear relationships, are less commonly used due to challenges in parameter tuning and less understanding of their distribution. Additionally, the texts highlight the importance of considering factors like computational efficiency, data distribution understanding, and sensitivity to parameter choices when selecting an appropriate kernel for a given machine learning task.`\n",
    "\n",
    "```\n",
    "1. Linear Kernel:\n",
    "   - Avantages:\n",
    "       .Easy to understand and implement.\n",
    "       .Computationally less intensive than other kernels.\n",
    "       .Works well when data exhibits linear relationships.\n",
    "   - Disadvantages:\n",
    "       .Limited Complexity\n",
    "       .Performs poorly with non-linearly separable data.\n",
    "\n",
    "2. Gaussian RBF Kernel:\n",
    "   - Avantages:\n",
    "       .Can handle non-linearly separable data effectively.\n",
    "       .Capable of capturing non-linear relationships by mapping features to high-dimensional spaces.\n",
    "       .Offers flexibility in the decision boundary, focusing more on individual data points.\n",
    "   - Disadvantages:\n",
    "       .Computational Expense\n",
    "       .Overfitting\n",
    "       \n",
    "3. Polynomial Kernel:\n",
    "   - Avantages:\n",
    "       .Flexibility\n",
    "       .Implicitly includes combinations of features up to a certain degree, providing a thorough analysis of feature interactions.\n",
    "   - Disadvantages:\n",
    "       .Computational Intensity\n",
    "       .Higher-degree polynomials can lead to overfitting, especially if the degree parameter is too high.\n",
    "       \n",
    "4. Sigmoid Kernel:\n",
    "   - Avantages:\n",
    "       .Resembles the behavior of neurons in neural networks, beneficial for certain types of problems.\n",
    "       .Can be used as a proxy for neural networks in SVMs, providing a balance between linear and non-linear properties.\n",
    "   - Disadvantages:\n",
    "       .Finding the right parameters can be challenging, leading to optimization problems.\n",
    "       .Less Commonly Used\n",
    "```"
   ]
  }
 ],
 "metadata": {
  "kernelspec": {
   "display_name": "Python 3 (ipykernel)",
   "language": "python",
   "name": "python3"
  },
  "language_info": {
   "codemirror_mode": {
    "name": "ipython",
    "version": 3
   },
   "file_extension": ".py",
   "mimetype": "text/x-python",
   "name": "python",
   "nbconvert_exporter": "python",
   "pygments_lexer": "ipython3",
   "version": "3.9.7"
  }
 },
 "nbformat": 4,
 "nbformat_minor": 2
}
