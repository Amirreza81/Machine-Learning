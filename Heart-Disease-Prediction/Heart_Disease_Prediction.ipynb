{
 "cells": [
  {
   "cell_type": "markdown",
   "metadata": {},
   "source": [
    "<font>\n",
    "    <h1 style=\"text-align: center\">\n",
    "        AmirReza Azari <br>\n",
    "        99101087\n",
    "    </h1>\n",
    "</font>"
   ]
  },
  {
   "cell_type": "markdown",
   "metadata": {
    "id": "8QU5zmW1lBAi"
   },
   "source": [
    "In this notebook, we are looking for the diagnosis of heart disease among patients using the [heart disease dataset](https://www.kaggle.com/johnsmith88/heart-disease-dataset). First, read the information about the different features, then answer the questions in each section using the attached data."
   ]
  },
  {
   "cell_type": "markdown",
   "metadata": {
    "id": "utNwgYmlKvfm"
   },
   "source": [
    "# Data"
   ]
  },
  {
   "cell_type": "markdown",
   "metadata": {
    "id": "bjntS4nxH4Hs"
   },
   "source": [
    "## Importing Libraries"
   ]
  },
  {
   "cell_type": "markdown",
   "metadata": {
    "id": "ycgOZilIJ-IO"
   },
   "source": [
    "In this notebook, you cannot use scikit learn and other libraries, except for those imported below."
   ]
  },
  {
   "cell_type": "code",
   "execution_count": 1,
   "metadata": {
    "id": "RA04oziCHqpP"
   },
   "outputs": [],
   "source": [
    "import pandas as pd\n",
    "import numpy as np\n",
    "import matplotlib.pyplot as plt\n",
    "import seaborn as sns"
   ]
  },
  {
   "cell_type": "markdown",
   "metadata": {
    "id": "TNo6F7XEH7p3"
   },
   "source": [
    "## Load Dataset"
   ]
  },
  {
   "cell_type": "markdown",
   "metadata": {
    "id": "Q1KtMuwCmomz"
   },
   "source": [
    "Load dataset csv file into a data frame."
   ]
  },
  {
   "cell_type": "code",
   "execution_count": 2,
   "metadata": {
    "id": "m7Z3egeyH-g9"
   },
   "outputs": [
    {
     "data": {
      "text/html": [
       "<div>\n",
       "<style scoped>\n",
       "    .dataframe tbody tr th:only-of-type {\n",
       "        vertical-align: middle;\n",
       "    }\n",
       "\n",
       "    .dataframe tbody tr th {\n",
       "        vertical-align: top;\n",
       "    }\n",
       "\n",
       "    .dataframe thead th {\n",
       "        text-align: right;\n",
       "    }\n",
       "</style>\n",
       "<table border=\"1\" class=\"dataframe\">\n",
       "  <thead>\n",
       "    <tr style=\"text-align: right;\">\n",
       "      <th></th>\n",
       "      <th>age</th>\n",
       "      <th>sex</th>\n",
       "      <th>cp</th>\n",
       "      <th>trestbps</th>\n",
       "      <th>chol</th>\n",
       "      <th>fbs</th>\n",
       "      <th>restecg</th>\n",
       "      <th>thalach</th>\n",
       "      <th>exang</th>\n",
       "      <th>oldpeak</th>\n",
       "      <th>slope</th>\n",
       "      <th>ca</th>\n",
       "      <th>thal</th>\n",
       "      <th>target</th>\n",
       "    </tr>\n",
       "  </thead>\n",
       "  <tbody>\n",
       "    <tr>\n",
       "      <th>0</th>\n",
       "      <td>52</td>\n",
       "      <td>1</td>\n",
       "      <td>0</td>\n",
       "      <td>125</td>\n",
       "      <td>212</td>\n",
       "      <td>0</td>\n",
       "      <td>1</td>\n",
       "      <td>168</td>\n",
       "      <td>0</td>\n",
       "      <td>1.0</td>\n",
       "      <td>2</td>\n",
       "      <td>2</td>\n",
       "      <td>3</td>\n",
       "      <td>0</td>\n",
       "    </tr>\n",
       "    <tr>\n",
       "      <th>1</th>\n",
       "      <td>53</td>\n",
       "      <td>1</td>\n",
       "      <td>0</td>\n",
       "      <td>140</td>\n",
       "      <td>203</td>\n",
       "      <td>1</td>\n",
       "      <td>0</td>\n",
       "      <td>155</td>\n",
       "      <td>1</td>\n",
       "      <td>3.1</td>\n",
       "      <td>0</td>\n",
       "      <td>0</td>\n",
       "      <td>3</td>\n",
       "      <td>0</td>\n",
       "    </tr>\n",
       "    <tr>\n",
       "      <th>2</th>\n",
       "      <td>70</td>\n",
       "      <td>1</td>\n",
       "      <td>0</td>\n",
       "      <td>145</td>\n",
       "      <td>174</td>\n",
       "      <td>0</td>\n",
       "      <td>1</td>\n",
       "      <td>125</td>\n",
       "      <td>1</td>\n",
       "      <td>2.6</td>\n",
       "      <td>0</td>\n",
       "      <td>0</td>\n",
       "      <td>3</td>\n",
       "      <td>0</td>\n",
       "    </tr>\n",
       "    <tr>\n",
       "      <th>3</th>\n",
       "      <td>61</td>\n",
       "      <td>1</td>\n",
       "      <td>0</td>\n",
       "      <td>148</td>\n",
       "      <td>203</td>\n",
       "      <td>0</td>\n",
       "      <td>1</td>\n",
       "      <td>161</td>\n",
       "      <td>0</td>\n",
       "      <td>0.0</td>\n",
       "      <td>2</td>\n",
       "      <td>1</td>\n",
       "      <td>3</td>\n",
       "      <td>0</td>\n",
       "    </tr>\n",
       "    <tr>\n",
       "      <th>4</th>\n",
       "      <td>62</td>\n",
       "      <td>0</td>\n",
       "      <td>0</td>\n",
       "      <td>138</td>\n",
       "      <td>294</td>\n",
       "      <td>1</td>\n",
       "      <td>1</td>\n",
       "      <td>106</td>\n",
       "      <td>0</td>\n",
       "      <td>1.9</td>\n",
       "      <td>1</td>\n",
       "      <td>3</td>\n",
       "      <td>2</td>\n",
       "      <td>0</td>\n",
       "    </tr>\n",
       "  </tbody>\n",
       "</table>\n",
       "</div>"
      ],
      "text/plain": [
       "   age  sex  cp  trestbps  chol  fbs  restecg  thalach  exang  oldpeak  slope  \\\n",
       "0   52    1   0       125   212    0        1      168      0      1.0      2   \n",
       "1   53    1   0       140   203    1        0      155      1      3.1      0   \n",
       "2   70    1   0       145   174    0        1      125      1      2.6      0   \n",
       "3   61    1   0       148   203    0        1      161      0      0.0      2   \n",
       "4   62    0   0       138   294    1        1      106      0      1.9      1   \n",
       "\n",
       "   ca  thal  target  \n",
       "0   2     3       0  \n",
       "1   0     3       0  \n",
       "2   0     3       0  \n",
       "3   1     3       0  \n",
       "4   3     2       0  "
      ]
     },
     "execution_count": 2,
     "metadata": {},
     "output_type": "execute_result"
    }
   ],
   "source": [
    "df = pd.read_csv(\"heart.csv\")\n",
    "df.head()"
   ]
  },
  {
   "cell_type": "code",
   "execution_count": 3,
   "metadata": {},
   "outputs": [
    {
     "data": {
      "text/html": [
       "<div>\n",
       "<style scoped>\n",
       "    .dataframe tbody tr th:only-of-type {\n",
       "        vertical-align: middle;\n",
       "    }\n",
       "\n",
       "    .dataframe tbody tr th {\n",
       "        vertical-align: top;\n",
       "    }\n",
       "\n",
       "    .dataframe thead th {\n",
       "        text-align: right;\n",
       "    }\n",
       "</style>\n",
       "<table border=\"1\" class=\"dataframe\">\n",
       "  <thead>\n",
       "    <tr style=\"text-align: right;\">\n",
       "      <th></th>\n",
       "      <th>age</th>\n",
       "      <th>sex</th>\n",
       "      <th>cp</th>\n",
       "      <th>trestbps</th>\n",
       "      <th>chol</th>\n",
       "      <th>fbs</th>\n",
       "      <th>restecg</th>\n",
       "      <th>thalach</th>\n",
       "      <th>exang</th>\n",
       "      <th>oldpeak</th>\n",
       "      <th>slope</th>\n",
       "      <th>ca</th>\n",
       "      <th>thal</th>\n",
       "      <th>target</th>\n",
       "    </tr>\n",
       "  </thead>\n",
       "  <tbody>\n",
       "    <tr>\n",
       "      <th>1020</th>\n",
       "      <td>59</td>\n",
       "      <td>1</td>\n",
       "      <td>1</td>\n",
       "      <td>140</td>\n",
       "      <td>221</td>\n",
       "      <td>0</td>\n",
       "      <td>1</td>\n",
       "      <td>164</td>\n",
       "      <td>1</td>\n",
       "      <td>0.0</td>\n",
       "      <td>2</td>\n",
       "      <td>0</td>\n",
       "      <td>2</td>\n",
       "      <td>1</td>\n",
       "    </tr>\n",
       "    <tr>\n",
       "      <th>1021</th>\n",
       "      <td>60</td>\n",
       "      <td>1</td>\n",
       "      <td>0</td>\n",
       "      <td>125</td>\n",
       "      <td>258</td>\n",
       "      <td>0</td>\n",
       "      <td>0</td>\n",
       "      <td>141</td>\n",
       "      <td>1</td>\n",
       "      <td>2.8</td>\n",
       "      <td>1</td>\n",
       "      <td>1</td>\n",
       "      <td>3</td>\n",
       "      <td>0</td>\n",
       "    </tr>\n",
       "    <tr>\n",
       "      <th>1022</th>\n",
       "      <td>47</td>\n",
       "      <td>1</td>\n",
       "      <td>0</td>\n",
       "      <td>110</td>\n",
       "      <td>275</td>\n",
       "      <td>0</td>\n",
       "      <td>0</td>\n",
       "      <td>118</td>\n",
       "      <td>1</td>\n",
       "      <td>1.0</td>\n",
       "      <td>1</td>\n",
       "      <td>1</td>\n",
       "      <td>2</td>\n",
       "      <td>0</td>\n",
       "    </tr>\n",
       "    <tr>\n",
       "      <th>1023</th>\n",
       "      <td>50</td>\n",
       "      <td>0</td>\n",
       "      <td>0</td>\n",
       "      <td>110</td>\n",
       "      <td>254</td>\n",
       "      <td>0</td>\n",
       "      <td>0</td>\n",
       "      <td>159</td>\n",
       "      <td>0</td>\n",
       "      <td>0.0</td>\n",
       "      <td>2</td>\n",
       "      <td>0</td>\n",
       "      <td>2</td>\n",
       "      <td>1</td>\n",
       "    </tr>\n",
       "    <tr>\n",
       "      <th>1024</th>\n",
       "      <td>54</td>\n",
       "      <td>1</td>\n",
       "      <td>0</td>\n",
       "      <td>120</td>\n",
       "      <td>188</td>\n",
       "      <td>0</td>\n",
       "      <td>1</td>\n",
       "      <td>113</td>\n",
       "      <td>0</td>\n",
       "      <td>1.4</td>\n",
       "      <td>1</td>\n",
       "      <td>1</td>\n",
       "      <td>3</td>\n",
       "      <td>0</td>\n",
       "    </tr>\n",
       "  </tbody>\n",
       "</table>\n",
       "</div>"
      ],
      "text/plain": [
       "      age  sex  cp  trestbps  chol  fbs  restecg  thalach  exang  oldpeak  \\\n",
       "1020   59    1   1       140   221    0        1      164      1      0.0   \n",
       "1021   60    1   0       125   258    0        0      141      1      2.8   \n",
       "1022   47    1   0       110   275    0        0      118      1      1.0   \n",
       "1023   50    0   0       110   254    0        0      159      0      0.0   \n",
       "1024   54    1   0       120   188    0        1      113      0      1.4   \n",
       "\n",
       "      slope  ca  thal  target  \n",
       "1020      2   0     2       1  \n",
       "1021      1   1     3       0  \n",
       "1022      1   1     2       0  \n",
       "1023      2   0     2       1  \n",
       "1024      1   1     3       0  "
      ]
     },
     "execution_count": 3,
     "metadata": {},
     "output_type": "execute_result"
    }
   ],
   "source": [
    "df.tail()"
   ]
  },
  {
   "cell_type": "markdown",
   "metadata": {
    "id": "phw5_4uEIgyY"
   },
   "source": [
    "## EDA"
   ]
  },
  {
   "cell_type": "markdown",
   "metadata": {
    "id": "NkxL1k5Onuvj"
   },
   "source": [
    "In statistics, exploratory data analysis (EDA) is an approach to analyzing data sets to summarize their main characteristics, often using statistical graphics and other data visualization methods. In this section, you should analyze the data. You can use the functions provided by the Pandas library. You can use analysis such as null checking of features, number of features and samples, and type of features. But don't stop there and search for it.\n"
   ]
  },
  {
   "cell_type": "code",
   "execution_count": 4,
   "metadata": {
    "id": "-2qsSen8X1qv"
   },
   "outputs": [
    {
     "name": "stdout",
     "output_type": "stream",
     "text": [
      "Number of features are:  14\n",
      "Number of samples  are:  1025\n"
     ]
    }
   ],
   "source": [
    "features = df.shape[1]\n",
    "samples = df.shape[0]\n",
    "print(\"Number of features are: \", df.shape[1])\n",
    "print(\"Number of samples  are: \", df.shape[0])"
   ]
  },
  {
   "cell_type": "code",
   "execution_count": 5,
   "metadata": {},
   "outputs": [
    {
     "name": "stdout",
     "output_type": "stream",
     "text": [
      "<class 'pandas.core.frame.DataFrame'>\n",
      "RangeIndex: 1025 entries, 0 to 1024\n",
      "Data columns (total 14 columns):\n",
      " #   Column    Non-Null Count  Dtype  \n",
      "---  ------    --------------  -----  \n",
      " 0   age       1025 non-null   int64  \n",
      " 1   sex       1025 non-null   int64  \n",
      " 2   cp        1025 non-null   int64  \n",
      " 3   trestbps  1025 non-null   int64  \n",
      " 4   chol      1025 non-null   int64  \n",
      " 5   fbs       1025 non-null   int64  \n",
      " 6   restecg   1025 non-null   int64  \n",
      " 7   thalach   1025 non-null   int64  \n",
      " 8   exang     1025 non-null   int64  \n",
      " 9   oldpeak   1025 non-null   float64\n",
      " 10  slope     1025 non-null   int64  \n",
      " 11  ca        1025 non-null   int64  \n",
      " 12  thal      1025 non-null   int64  \n",
      " 13  target    1025 non-null   int64  \n",
      "dtypes: float64(1), int64(13)\n",
      "memory usage: 112.2 KB\n"
     ]
    }
   ],
   "source": [
    "df.info()"
   ]
  },
  {
   "cell_type": "code",
   "execution_count": 6,
   "metadata": {},
   "outputs": [
    {
     "data": {
      "text/html": [
       "<div>\n",
       "<style scoped>\n",
       "    .dataframe tbody tr th:only-of-type {\n",
       "        vertical-align: middle;\n",
       "    }\n",
       "\n",
       "    .dataframe tbody tr th {\n",
       "        vertical-align: top;\n",
       "    }\n",
       "\n",
       "    .dataframe thead th {\n",
       "        text-align: right;\n",
       "    }\n",
       "</style>\n",
       "<table border=\"1\" class=\"dataframe\">\n",
       "  <thead>\n",
       "    <tr style=\"text-align: right;\">\n",
       "      <th></th>\n",
       "      <th>count</th>\n",
       "      <th>mean</th>\n",
       "      <th>std</th>\n",
       "      <th>min</th>\n",
       "      <th>25%</th>\n",
       "      <th>50%</th>\n",
       "      <th>75%</th>\n",
       "      <th>max</th>\n",
       "    </tr>\n",
       "  </thead>\n",
       "  <tbody>\n",
       "    <tr>\n",
       "      <th>age</th>\n",
       "      <td>1025.0</td>\n",
       "      <td>54.434146</td>\n",
       "      <td>9.072290</td>\n",
       "      <td>29.0</td>\n",
       "      <td>48.0</td>\n",
       "      <td>56.0</td>\n",
       "      <td>61.0</td>\n",
       "      <td>77.0</td>\n",
       "    </tr>\n",
       "    <tr>\n",
       "      <th>sex</th>\n",
       "      <td>1025.0</td>\n",
       "      <td>0.695610</td>\n",
       "      <td>0.460373</td>\n",
       "      <td>0.0</td>\n",
       "      <td>0.0</td>\n",
       "      <td>1.0</td>\n",
       "      <td>1.0</td>\n",
       "      <td>1.0</td>\n",
       "    </tr>\n",
       "    <tr>\n",
       "      <th>cp</th>\n",
       "      <td>1025.0</td>\n",
       "      <td>0.942439</td>\n",
       "      <td>1.029641</td>\n",
       "      <td>0.0</td>\n",
       "      <td>0.0</td>\n",
       "      <td>1.0</td>\n",
       "      <td>2.0</td>\n",
       "      <td>3.0</td>\n",
       "    </tr>\n",
       "    <tr>\n",
       "      <th>trestbps</th>\n",
       "      <td>1025.0</td>\n",
       "      <td>131.611707</td>\n",
       "      <td>17.516718</td>\n",
       "      <td>94.0</td>\n",
       "      <td>120.0</td>\n",
       "      <td>130.0</td>\n",
       "      <td>140.0</td>\n",
       "      <td>200.0</td>\n",
       "    </tr>\n",
       "    <tr>\n",
       "      <th>chol</th>\n",
       "      <td>1025.0</td>\n",
       "      <td>246.000000</td>\n",
       "      <td>51.592510</td>\n",
       "      <td>126.0</td>\n",
       "      <td>211.0</td>\n",
       "      <td>240.0</td>\n",
       "      <td>275.0</td>\n",
       "      <td>564.0</td>\n",
       "    </tr>\n",
       "    <tr>\n",
       "      <th>fbs</th>\n",
       "      <td>1025.0</td>\n",
       "      <td>0.149268</td>\n",
       "      <td>0.356527</td>\n",
       "      <td>0.0</td>\n",
       "      <td>0.0</td>\n",
       "      <td>0.0</td>\n",
       "      <td>0.0</td>\n",
       "      <td>1.0</td>\n",
       "    </tr>\n",
       "    <tr>\n",
       "      <th>restecg</th>\n",
       "      <td>1025.0</td>\n",
       "      <td>0.529756</td>\n",
       "      <td>0.527878</td>\n",
       "      <td>0.0</td>\n",
       "      <td>0.0</td>\n",
       "      <td>1.0</td>\n",
       "      <td>1.0</td>\n",
       "      <td>2.0</td>\n",
       "    </tr>\n",
       "    <tr>\n",
       "      <th>thalach</th>\n",
       "      <td>1025.0</td>\n",
       "      <td>149.114146</td>\n",
       "      <td>23.005724</td>\n",
       "      <td>71.0</td>\n",
       "      <td>132.0</td>\n",
       "      <td>152.0</td>\n",
       "      <td>166.0</td>\n",
       "      <td>202.0</td>\n",
       "    </tr>\n",
       "    <tr>\n",
       "      <th>exang</th>\n",
       "      <td>1025.0</td>\n",
       "      <td>0.336585</td>\n",
       "      <td>0.472772</td>\n",
       "      <td>0.0</td>\n",
       "      <td>0.0</td>\n",
       "      <td>0.0</td>\n",
       "      <td>1.0</td>\n",
       "      <td>1.0</td>\n",
       "    </tr>\n",
       "    <tr>\n",
       "      <th>oldpeak</th>\n",
       "      <td>1025.0</td>\n",
       "      <td>1.071512</td>\n",
       "      <td>1.175053</td>\n",
       "      <td>0.0</td>\n",
       "      <td>0.0</td>\n",
       "      <td>0.8</td>\n",
       "      <td>1.8</td>\n",
       "      <td>6.2</td>\n",
       "    </tr>\n",
       "    <tr>\n",
       "      <th>slope</th>\n",
       "      <td>1025.0</td>\n",
       "      <td>1.385366</td>\n",
       "      <td>0.617755</td>\n",
       "      <td>0.0</td>\n",
       "      <td>1.0</td>\n",
       "      <td>1.0</td>\n",
       "      <td>2.0</td>\n",
       "      <td>2.0</td>\n",
       "    </tr>\n",
       "    <tr>\n",
       "      <th>ca</th>\n",
       "      <td>1025.0</td>\n",
       "      <td>0.754146</td>\n",
       "      <td>1.030798</td>\n",
       "      <td>0.0</td>\n",
       "      <td>0.0</td>\n",
       "      <td>0.0</td>\n",
       "      <td>1.0</td>\n",
       "      <td>4.0</td>\n",
       "    </tr>\n",
       "    <tr>\n",
       "      <th>thal</th>\n",
       "      <td>1025.0</td>\n",
       "      <td>2.323902</td>\n",
       "      <td>0.620660</td>\n",
       "      <td>0.0</td>\n",
       "      <td>2.0</td>\n",
       "      <td>2.0</td>\n",
       "      <td>3.0</td>\n",
       "      <td>3.0</td>\n",
       "    </tr>\n",
       "    <tr>\n",
       "      <th>target</th>\n",
       "      <td>1025.0</td>\n",
       "      <td>0.513171</td>\n",
       "      <td>0.500070</td>\n",
       "      <td>0.0</td>\n",
       "      <td>0.0</td>\n",
       "      <td>1.0</td>\n",
       "      <td>1.0</td>\n",
       "      <td>1.0</td>\n",
       "    </tr>\n",
       "  </tbody>\n",
       "</table>\n",
       "</div>"
      ],
      "text/plain": [
       "           count        mean        std    min    25%    50%    75%    max\n",
       "age       1025.0   54.434146   9.072290   29.0   48.0   56.0   61.0   77.0\n",
       "sex       1025.0    0.695610   0.460373    0.0    0.0    1.0    1.0    1.0\n",
       "cp        1025.0    0.942439   1.029641    0.0    0.0    1.0    2.0    3.0\n",
       "trestbps  1025.0  131.611707  17.516718   94.0  120.0  130.0  140.0  200.0\n",
       "chol      1025.0  246.000000  51.592510  126.0  211.0  240.0  275.0  564.0\n",
       "fbs       1025.0    0.149268   0.356527    0.0    0.0    0.0    0.0    1.0\n",
       "restecg   1025.0    0.529756   0.527878    0.0    0.0    1.0    1.0    2.0\n",
       "thalach   1025.0  149.114146  23.005724   71.0  132.0  152.0  166.0  202.0\n",
       "exang     1025.0    0.336585   0.472772    0.0    0.0    0.0    1.0    1.0\n",
       "oldpeak   1025.0    1.071512   1.175053    0.0    0.0    0.8    1.8    6.2\n",
       "slope     1025.0    1.385366   0.617755    0.0    1.0    1.0    2.0    2.0\n",
       "ca        1025.0    0.754146   1.030798    0.0    0.0    0.0    1.0    4.0\n",
       "thal      1025.0    2.323902   0.620660    0.0    2.0    2.0    3.0    3.0\n",
       "target    1025.0    0.513171   0.500070    0.0    0.0    1.0    1.0    1.0"
      ]
     },
     "execution_count": 6,
     "metadata": {},
     "output_type": "execute_result"
    }
   ],
   "source": [
    "df.describe().T"
   ]
  },
  {
   "cell_type": "code",
   "execution_count": 7,
   "metadata": {},
   "outputs": [
    {
     "data": {
      "text/plain": [
       "age          41\n",
       "sex           2\n",
       "cp            4\n",
       "trestbps     49\n",
       "chol        152\n",
       "fbs           2\n",
       "restecg       3\n",
       "thalach      91\n",
       "exang         2\n",
       "oldpeak      40\n",
       "slope         3\n",
       "ca            5\n",
       "thal          4\n",
       "target        2\n",
       "dtype: int64"
      ]
     },
     "execution_count": 7,
     "metadata": {},
     "output_type": "execute_result"
    }
   ],
   "source": [
    "df.nunique()"
   ]
  },
  {
   "cell_type": "code",
   "execution_count": 8,
   "metadata": {},
   "outputs": [
    {
     "data": {
      "text/plain": [
       "58    68\n",
       "57    57\n",
       "54    53\n",
       "59    46\n",
       "52    43\n",
       "51    39\n",
       "56    39\n",
       "62    37\n",
       "60    37\n",
       "44    36\n",
       "64    34\n",
       "41    32\n",
       "63    32\n",
       "67    31\n",
       "61    31\n",
       "55    30\n",
       "65    27\n",
       "43    26\n",
       "42    26\n",
       "53    26\n",
       "66    25\n",
       "45    25\n",
       "48    23\n",
       "46    23\n",
       "50    21\n",
       "47    18\n",
       "49    17\n",
       "35    15\n",
       "39    14\n",
       "70    14\n",
       "68    12\n",
       "38    12\n",
       "71    11\n",
       "40    11\n",
       "69     9\n",
       "37     6\n",
       "34     6\n",
       "29     4\n",
       "76     3\n",
       "77     3\n",
       "74     3\n",
       "Name: age, dtype: int64"
      ]
     },
     "execution_count": 8,
     "metadata": {},
     "output_type": "execute_result"
    }
   ],
   "source": [
    "df.age.value_counts()"
   ]
  },
  {
   "cell_type": "code",
   "execution_count": 9,
   "metadata": {},
   "outputs": [
    {
     "data": {
      "text/plain": [
       "1    713\n",
       "0    312\n",
       "Name: sex, dtype: int64"
      ]
     },
     "execution_count": 9,
     "metadata": {},
     "output_type": "execute_result"
    }
   ],
   "source": [
    "df.sex.value_counts()"
   ]
  },
  {
   "cell_type": "code",
   "execution_count": 10,
   "metadata": {},
   "outputs": [
    {
     "data": {
      "text/plain": [
       "0    497\n",
       "2    284\n",
       "1    167\n",
       "3     77\n",
       "Name: cp, dtype: int64"
      ]
     },
     "execution_count": 10,
     "metadata": {},
     "output_type": "execute_result"
    }
   ],
   "source": [
    "df.cp.value_counts()"
   ]
  },
  {
   "cell_type": "code",
   "execution_count": 11,
   "metadata": {},
   "outputs": [
    {
     "data": {
      "text/plain": [
       "0    578\n",
       "1    226\n",
       "2    134\n",
       "3     69\n",
       "4     18\n",
       "Name: ca, dtype: int64"
      ]
     },
     "execution_count": 11,
     "metadata": {},
     "output_type": "execute_result"
    }
   ],
   "source": [
    "df.ca.value_counts()"
   ]
  },
  {
   "cell_type": "code",
   "execution_count": 12,
   "metadata": {},
   "outputs": [
    {
     "data": {
      "text/plain": [
       "1    526\n",
       "0    499\n",
       "Name: target, dtype: int64"
      ]
     },
     "execution_count": 12,
     "metadata": {},
     "output_type": "execute_result"
    }
   ],
   "source": [
    "df.target.value_counts()"
   ]
  },
  {
   "cell_type": "code",
   "execution_count": 13,
   "metadata": {},
   "outputs": [
    {
     "data": {
      "text/html": [
       "<div>\n",
       "<style scoped>\n",
       "    .dataframe tbody tr th:only-of-type {\n",
       "        vertical-align: middle;\n",
       "    }\n",
       "\n",
       "    .dataframe tbody tr th {\n",
       "        vertical-align: top;\n",
       "    }\n",
       "\n",
       "    .dataframe thead th {\n",
       "        text-align: right;\n",
       "    }\n",
       "</style>\n",
       "<table border=\"1\" class=\"dataframe\">\n",
       "  <thead>\n",
       "    <tr style=\"text-align: right;\">\n",
       "      <th></th>\n",
       "      <th>age</th>\n",
       "      <th>sex</th>\n",
       "      <th>cp</th>\n",
       "      <th>trestbps</th>\n",
       "      <th>chol</th>\n",
       "      <th>fbs</th>\n",
       "      <th>restecg</th>\n",
       "      <th>thalach</th>\n",
       "      <th>exang</th>\n",
       "      <th>oldpeak</th>\n",
       "      <th>slope</th>\n",
       "      <th>ca</th>\n",
       "      <th>thal</th>\n",
       "      <th>target</th>\n",
       "    </tr>\n",
       "  </thead>\n",
       "  <tbody>\n",
       "    <tr>\n",
       "      <th>0</th>\n",
       "      <td>False</td>\n",
       "      <td>False</td>\n",
       "      <td>False</td>\n",
       "      <td>False</td>\n",
       "      <td>False</td>\n",
       "      <td>False</td>\n",
       "      <td>False</td>\n",
       "      <td>False</td>\n",
       "      <td>False</td>\n",
       "      <td>False</td>\n",
       "      <td>False</td>\n",
       "      <td>False</td>\n",
       "      <td>False</td>\n",
       "      <td>False</td>\n",
       "    </tr>\n",
       "    <tr>\n",
       "      <th>1</th>\n",
       "      <td>False</td>\n",
       "      <td>False</td>\n",
       "      <td>False</td>\n",
       "      <td>False</td>\n",
       "      <td>False</td>\n",
       "      <td>False</td>\n",
       "      <td>False</td>\n",
       "      <td>False</td>\n",
       "      <td>False</td>\n",
       "      <td>False</td>\n",
       "      <td>False</td>\n",
       "      <td>False</td>\n",
       "      <td>False</td>\n",
       "      <td>False</td>\n",
       "    </tr>\n",
       "    <tr>\n",
       "      <th>2</th>\n",
       "      <td>False</td>\n",
       "      <td>False</td>\n",
       "      <td>False</td>\n",
       "      <td>False</td>\n",
       "      <td>False</td>\n",
       "      <td>False</td>\n",
       "      <td>False</td>\n",
       "      <td>False</td>\n",
       "      <td>False</td>\n",
       "      <td>False</td>\n",
       "      <td>False</td>\n",
       "      <td>False</td>\n",
       "      <td>False</td>\n",
       "      <td>False</td>\n",
       "    </tr>\n",
       "    <tr>\n",
       "      <th>3</th>\n",
       "      <td>False</td>\n",
       "      <td>False</td>\n",
       "      <td>False</td>\n",
       "      <td>False</td>\n",
       "      <td>False</td>\n",
       "      <td>False</td>\n",
       "      <td>False</td>\n",
       "      <td>False</td>\n",
       "      <td>False</td>\n",
       "      <td>False</td>\n",
       "      <td>False</td>\n",
       "      <td>False</td>\n",
       "      <td>False</td>\n",
       "      <td>False</td>\n",
       "    </tr>\n",
       "    <tr>\n",
       "      <th>4</th>\n",
       "      <td>False</td>\n",
       "      <td>False</td>\n",
       "      <td>False</td>\n",
       "      <td>False</td>\n",
       "      <td>False</td>\n",
       "      <td>False</td>\n",
       "      <td>False</td>\n",
       "      <td>False</td>\n",
       "      <td>False</td>\n",
       "      <td>False</td>\n",
       "      <td>False</td>\n",
       "      <td>False</td>\n",
       "      <td>False</td>\n",
       "      <td>False</td>\n",
       "    </tr>\n",
       "    <tr>\n",
       "      <th>...</th>\n",
       "      <td>...</td>\n",
       "      <td>...</td>\n",
       "      <td>...</td>\n",
       "      <td>...</td>\n",
       "      <td>...</td>\n",
       "      <td>...</td>\n",
       "      <td>...</td>\n",
       "      <td>...</td>\n",
       "      <td>...</td>\n",
       "      <td>...</td>\n",
       "      <td>...</td>\n",
       "      <td>...</td>\n",
       "      <td>...</td>\n",
       "      <td>...</td>\n",
       "    </tr>\n",
       "    <tr>\n",
       "      <th>1020</th>\n",
       "      <td>False</td>\n",
       "      <td>False</td>\n",
       "      <td>False</td>\n",
       "      <td>False</td>\n",
       "      <td>False</td>\n",
       "      <td>False</td>\n",
       "      <td>False</td>\n",
       "      <td>False</td>\n",
       "      <td>False</td>\n",
       "      <td>False</td>\n",
       "      <td>False</td>\n",
       "      <td>False</td>\n",
       "      <td>False</td>\n",
       "      <td>False</td>\n",
       "    </tr>\n",
       "    <tr>\n",
       "      <th>1021</th>\n",
       "      <td>False</td>\n",
       "      <td>False</td>\n",
       "      <td>False</td>\n",
       "      <td>False</td>\n",
       "      <td>False</td>\n",
       "      <td>False</td>\n",
       "      <td>False</td>\n",
       "      <td>False</td>\n",
       "      <td>False</td>\n",
       "      <td>False</td>\n",
       "      <td>False</td>\n",
       "      <td>False</td>\n",
       "      <td>False</td>\n",
       "      <td>False</td>\n",
       "    </tr>\n",
       "    <tr>\n",
       "      <th>1022</th>\n",
       "      <td>False</td>\n",
       "      <td>False</td>\n",
       "      <td>False</td>\n",
       "      <td>False</td>\n",
       "      <td>False</td>\n",
       "      <td>False</td>\n",
       "      <td>False</td>\n",
       "      <td>False</td>\n",
       "      <td>False</td>\n",
       "      <td>False</td>\n",
       "      <td>False</td>\n",
       "      <td>False</td>\n",
       "      <td>False</td>\n",
       "      <td>False</td>\n",
       "    </tr>\n",
       "    <tr>\n",
       "      <th>1023</th>\n",
       "      <td>False</td>\n",
       "      <td>False</td>\n",
       "      <td>False</td>\n",
       "      <td>False</td>\n",
       "      <td>False</td>\n",
       "      <td>False</td>\n",
       "      <td>False</td>\n",
       "      <td>False</td>\n",
       "      <td>False</td>\n",
       "      <td>False</td>\n",
       "      <td>False</td>\n",
       "      <td>False</td>\n",
       "      <td>False</td>\n",
       "      <td>False</td>\n",
       "    </tr>\n",
       "    <tr>\n",
       "      <th>1024</th>\n",
       "      <td>False</td>\n",
       "      <td>False</td>\n",
       "      <td>False</td>\n",
       "      <td>False</td>\n",
       "      <td>False</td>\n",
       "      <td>False</td>\n",
       "      <td>False</td>\n",
       "      <td>False</td>\n",
       "      <td>False</td>\n",
       "      <td>False</td>\n",
       "      <td>False</td>\n",
       "      <td>False</td>\n",
       "      <td>False</td>\n",
       "      <td>False</td>\n",
       "    </tr>\n",
       "  </tbody>\n",
       "</table>\n",
       "<p>1025 rows × 14 columns</p>\n",
       "</div>"
      ],
      "text/plain": [
       "        age    sex     cp  trestbps   chol    fbs  restecg  thalach  exang  \\\n",
       "0     False  False  False     False  False  False    False    False  False   \n",
       "1     False  False  False     False  False  False    False    False  False   \n",
       "2     False  False  False     False  False  False    False    False  False   \n",
       "3     False  False  False     False  False  False    False    False  False   \n",
       "4     False  False  False     False  False  False    False    False  False   \n",
       "...     ...    ...    ...       ...    ...    ...      ...      ...    ...   \n",
       "1020  False  False  False     False  False  False    False    False  False   \n",
       "1021  False  False  False     False  False  False    False    False  False   \n",
       "1022  False  False  False     False  False  False    False    False  False   \n",
       "1023  False  False  False     False  False  False    False    False  False   \n",
       "1024  False  False  False     False  False  False    False    False  False   \n",
       "\n",
       "      oldpeak  slope     ca   thal  target  \n",
       "0       False  False  False  False   False  \n",
       "1       False  False  False  False   False  \n",
       "2       False  False  False  False   False  \n",
       "3       False  False  False  False   False  \n",
       "4       False  False  False  False   False  \n",
       "...       ...    ...    ...    ...     ...  \n",
       "1020    False  False  False  False   False  \n",
       "1021    False  False  False  False   False  \n",
       "1022    False  False  False  False   False  \n",
       "1023    False  False  False  False   False  \n",
       "1024    False  False  False  False   False  \n",
       "\n",
       "[1025 rows x 14 columns]"
      ]
     },
     "execution_count": 13,
     "metadata": {},
     "output_type": "execute_result"
    }
   ],
   "source": [
    "df.isnull()"
   ]
  },
  {
   "cell_type": "code",
   "execution_count": 14,
   "metadata": {},
   "outputs": [
    {
     "data": {
      "text/plain": [
       "age         0\n",
       "sex         0\n",
       "cp          0\n",
       "trestbps    0\n",
       "chol        0\n",
       "fbs         0\n",
       "restecg     0\n",
       "thalach     0\n",
       "exang       0\n",
       "oldpeak     0\n",
       "slope       0\n",
       "ca          0\n",
       "thal        0\n",
       "target      0\n",
       "dtype: int64"
      ]
     },
     "execution_count": 14,
     "metadata": {},
     "output_type": "execute_result"
    }
   ],
   "source": [
    "df.isnull().sum()"
   ]
  },
  {
   "cell_type": "code",
   "execution_count": 15,
   "metadata": {
    "scrolled": false
   },
   "outputs": [
    {
     "name": "stdout",
     "output_type": "stream",
     "text": [
      "age\n"
     ]
    },
    {
     "data": {
      "image/png": "[encoded data removed]",
      "text/plain": [
       "<Figure size 1080x288 with 2 Axes>"
      ]
     },
     "metadata": {
      "needs_background": "light"
     },
     "output_type": "display_data"
    },
    {
     "name": "stdout",
     "output_type": "stream",
     "text": [
      "sex\n"
     ]
    },
    {
     "data": {
      "image/png": "[encoded data removed]",
      "text/plain": [
       "<Figure size 1080x288 with 2 Axes>"
      ]
     },
     "metadata": {
      "needs_background": "light"
     },
     "output_type": "display_data"
    },
    {
     "name": "stdout",
     "output_type": "stream",
     "text": [
      "cp\n"
     ]
    },
    {
     "data": {
      "image/png": "[encoded data removed]",
      "text/plain": [
       "<Figure size 1080x288 with 2 Axes>"
      ]
     },
     "metadata": {
      "needs_background": "light"
     },
     "output_type": "display_data"
    },
    {
     "name": "stdout",
     "output_type": "stream",
     "text": [
      "trestbps\n"
     ]
    },
    {
     "data": {
      "image/png": "[encoded data removed]",
      "text/plain": [
       "<Figure size 1080x288 with 2 Axes>"
      ]
     },
     "metadata": {
      "needs_background": "light"
     },
     "output_type": "display_data"
    },
    {
     "name": "stdout",
     "output_type": "stream",
     "text": [
      "chol\n"
     ]
    },
    {
     "data": {
      "image/png": "[encoded data removed]",
      "text/plain": [
       "<Figure size 1080x288 with 2 Axes>"
      ]
     },
     "metadata": {
      "needs_background": "light"
     },
     "output_type": "display_data"
    },
    {
     "name": "stdout",
     "output_type": "stream",
     "text": [
      "fbs\n"
     ]
    },
    {
     "data": {
      "image/png": "[encoded data removed]",
      "text/plain": [
       "<Figure size 1080x288 with 2 Axes>"
      ]
     },
     "metadata": {
      "needs_background": "light"
     },
     "output_type": "display_data"
    },
    {
     "name": "stdout",
     "output_type": "stream",
     "text": [
      "restecg\n"
     ]
    },
    {
     "data": {
      "image/png": "[encoded data removed]",
      "text/plain": [
       "<Figure size 1080x288 with 2 Axes>"
      ]
     },
     "metadata": {
      "needs_background": "light"
     },
     "output_type": "display_data"
    },
    {
     "name": "stdout",
     "output_type": "stream",
     "text": [
      "thalach\n"
     ]
    },
    {
     "data": {
      "image/png": "[encoded data removed]",
      "text/plain": [
       "<Figure size 1080x288 with 2 Axes>"
      ]
     },
     "metadata": {
      "needs_background": "light"
     },
     "output_type": "display_data"
    },
    {
     "name": "stdout",
     "output_type": "stream",
     "text": [
      "exang\n"
     ]
    },
    {
     "data": {
      "image/png": "[encoded data removed]",
      "text/plain": [
       "<Figure size 1080x288 with 2 Axes>"
      ]
     },
     "metadata": {
      "needs_background": "light"
     },
     "output_type": "display_data"
    },
    {
     "name": "stdout",
     "output_type": "stream",
     "text": [
      "oldpeak\n"
     ]
    },
    {
     "data": {
      "image/png": "[encoded data removed]",
      "text/plain": [
       "<Figure size 1080x288 with 2 Axes>"
      ]
     },
     "metadata": {
      "needs_background": "light"
     },
     "output_type": "display_data"
    },
    {
     "name": "stdout",
     "output_type": "stream",
     "text": [
      "slope\n"
     ]
    },
    {
     "data": {
      "image/png": "[encoded data removed]",
      "text/plain": [
       "<Figure size 1080x288 with 2 Axes>"
      ]
     },
     "metadata": {
      "needs_background": "light"
     },
     "output_type": "display_data"
    },
    {
     "name": "stdout",
     "output_type": "stream",
     "text": [
      "ca\n"
     ]
    },
    {
     "data": {
      "image/png": "[encoded data removed]",
      "text/plain": [
       "<Figure size 1080x288 with 2 Axes>"
      ]
     },
     "metadata": {
      "needs_background": "light"
     },
     "output_type": "display_data"
    },
    {
     "name": "stdout",
     "output_type": "stream",
     "text": [
      "thal\n"
     ]
    },
    {
     "data": {
      "image/png": "[encoded data removed]",
      "text/plain": [
       "<Figure size 1080x288 with 2 Axes>"
      ]
     },
     "metadata": {
      "needs_background": "light"
     },
     "output_type": "display_data"
    },
    {
     "name": "stdout",
     "output_type": "stream",
     "text": [
      "target\n"
     ]
    },
    {
     "data": {
      "image/png": "[encoded data removed]",
      "text/plain": [
       "<Figure size 1080x288 with 2 Axes>"
      ]
     },
     "metadata": {
      "needs_background": "light"
     },
     "output_type": "display_data"
    }
   ],
   "source": [
    "cols = df.select_dtypes(include=np.number).columns.tolist()\n",
    "colors = [\"#F39C12\", \"#1ABC9C\", \"#BB8FCE\", \"#E74C3C\", \"#707B7C\", \"#7CB342\", \"#880E4F\", \"#8D6E63\", \"#99FF66\", \"#FF9966\", \"#2471A3\", \"#C0392B\", \"#FF33CC\", \"#27AE60\"]\n",
    "color_index = 0\n",
    "for col in cols:\n",
    "    print(col)\n",
    "    plt.figure(figsize = (15, 4))\n",
    "    plt.subplot(1, 2, 1)\n",
    "    df[col].hist(grid=False, color=colors[color_index])\n",
    "    plt.ylabel('count')\n",
    "    plt.subplot(1, 2, 2)\n",
    "    sns.boxplot(x=df[col], color=colors[color_index])\n",
    "    color_index += 1\n",
    "    plt.show()"
   ]
  },
  {
   "cell_type": "code",
   "execution_count": 16,
   "metadata": {},
   "outputs": [
    {
     "data": {
      "text/plain": [
       "[<matplotlib.lines.Line2D at 0x24f70d615e0>]"
      ]
     },
     "execution_count": 16,
     "metadata": {},
     "output_type": "execute_result"
    },
    {
     "data": {
      "image/png": "[encoded data removed]",
      "text/plain": [
       "<Figure size 432x288 with 1 Axes>"
      ]
     },
     "metadata": {
      "needs_background": "light"
     },
     "output_type": "display_data"
    }
   ],
   "source": [
    "plt.plot(df.thalach, color=\"SeaGreen\")"
   ]
  },
  {
   "cell_type": "code",
   "execution_count": 17,
   "metadata": {},
   "outputs": [
    {
     "data": {
      "text/plain": [
       "<Axes: >"
      ]
     },
     "execution_count": 17,
     "metadata": {},
     "output_type": "execute_result"
    },
    {
     "data": {
      "image/png": "[encoded data removed]",
      "text/plain": [
       "<Figure size 1440x1080 with 2 Axes>"
      ]
     },
     "metadata": {
      "needs_background": "light"
     },
     "output_type": "display_data"
    }
   ],
   "source": [
    "plt.figure(figsize=(20, 15))\n",
    "sns.heatmap(df.corr(), annot=True, square=True, fmt='0.2f')"
   ]
  },
  {
   "cell_type": "markdown",
   "metadata": {
    "id": "NOo1N_ZaKHPg"
   },
   "source": [
    "## Analysis of Features"
   ]
  },
  {
   "cell_type": "markdown",
   "metadata": {
    "id": "1fnTddu9sTll"
   },
   "source": [
    "As you have probably noticed, in the dataset that you checked, some features are discrete and the rest are continuous. The following code specifies continuous and discrete features for you. **Note**: In the cells below, `df` is the same dataframe that you loaded in the previous section. You can change its name according to your code."
   ]
  },
  {
   "cell_type": "code",
   "execution_count": 18,
   "metadata": {
    "colab": {
     "base_uri": "https://localhost:8080/"
    },
    "id": "RIcPajwSJj11",
    "outputId": "d9551a1e-e668-4d00-8dce-87c48bb62673"
   },
   "outputs": [
    {
     "name": "stdout",
     "output_type": "stream",
     "text": [
      "There are 14 features found in the data\n"
     ]
    }
   ],
   "source": [
    "feature_list = [feature for feature in df.columns]\n",
    "print(\"There are\",len(feature_list),\"features found in the data\")"
   ]
  },
  {
   "cell_type": "code",
   "execution_count": 19,
   "metadata": {
    "colab": {
     "base_uri": "https://localhost:8080/"
    },
    "id": "o3n2gCAoJmdr",
    "outputId": "65132134-22aa-49bb-8d40-384f016f09ab"
   },
   "outputs": [
    {
     "name": "stdout",
     "output_type": "stream",
     "text": [
      "Discrete Variables Count: 9\n",
      "Discrete features are  ['sex', 'cp', 'fbs', 'restecg', 'exang', 'slope', 'ca', 'thal', 'target']\n",
      "Continuous Variables Count: 5\n",
      "Continuous features are  ['age', 'trestbps', 'chol', 'thalach', 'oldpeak']\n"
     ]
    }
   ],
   "source": [
    "#Print Discrete Feature Data\n",
    "discrete_feature=[feature for feature in feature_list if len(df[feature].unique())<25]\n",
    "print(\"Discrete Variables Count: {}\".format(len(discrete_feature)))\n",
    "print(\"Discrete features are \",discrete_feature)\n",
    "\n",
    "#Print Continuous Feature Data\n",
    "cont_feature=[feature for feature in feature_list if len(df[feature].unique())>25]\n",
    "print(\"Continuous Variables Count: {}\".format(len(cont_feature)))\n",
    "print(\"Continuous features are \",cont_feature)"
   ]
  },
  {
   "cell_type": "markdown",
   "metadata": {
    "id": "zygi7E6ekk4q"
   },
   "source": [
    "# Perceptron"
   ]
  },
  {
   "cell_type": "markdown",
   "metadata": {
    "id": "js3fx5A2lnR6"
   },
   "source": [
    "### Stochastic Gradient Descent\n",
    "\n",
    "We will implement the perceptron algorithm in python 3 and numpy. The perceptron will learn using the stochastic gradient descent algorithm (SGD). Gradient Descent minimizes a function by following the gradients of the cost function.\n",
    "\n",
    "### Calculating the Error\n",
    "\n",
    "To calculate the error of a prediction we first need to define the objective function of the perceptron.\n",
    "\n",
    "#### Hinge Loss Function\n",
    "\n",
    "To do this, we need to define the loss function, to calculate the prediction error. We will use hinge loss for our perceptron:\n",
    "\n",
    "$$c(x, y, f(x)) = (1 - y * f(x))_+$$\n",
    "\n",
    "$c$ is the loss function, $x$ the sample, $y$ is the true label, $f(x)$ the predicted label."
   ]
  },
  {
   "cell_type": "markdown",
   "metadata": {
    "id": "XQRK4oiglp2z"
   },
   "source": [
    "This means the following:\n",
    "$$\n",
    "c(x, y, f(x))=\n",
    "\\begin{cases}\n",
    "    0,& \\text{if } y * f(x)\\geq 1\\\\\n",
    "    1-y*f(x),              & \\text{else}\n",
    "\\end{cases}\n",
    "$$\n",
    "\n",
    "So consider, if y and f(x) are signed values $(+1,-1)$:\n",
    "\n",
    "<ul>\n",
    "    <li>the loss is 0, if $y*f(x)$ are positive, respective both values have the same sign.</li>\n",
    "    <li>loss is $1-y*f(x)$ if $y*f(x)$ is negative</li>\n",
    "</ul>\n",
    "\n",
    "#### Objective Function\n",
    "\n",
    "As we defined the loss function, we can now define the objective function for the perceptron:\n",
    "\n",
    "$$l_i(w) = \\big(-y_i \\langle x_i,w \\rangle\\big)_+$$\n",
    "\n",
    "We can write this without the dot product with a sum sign:\n",
    "\n",
    "$$l_i(w) = (-y_i \\sum_{i=1}^n x_iw)_+$$\n",
    "\n",
    "So the sample $x_i$ is misclassified, if $y_i \\langle x_i,w \\rangle \\leq 0$. The general goal is, to find the global minima of this function, respectively find a parameter $w$, where the error is zero.\n",
    "\n",
    "#### Derive the Objective Function\n",
    "\n",
    "To do this we need the gradients of the objective function. The gradient of a function $f$ is the vector of its partial derivatives. The gradient can be calculated by the partially derivative of the objective function.\n",
    "\n",
    "$$ \\nabla l_i(w) = -y_i x_i $$\n",
    "\n",
    "\n",
    "This means, if we have a misclassified sample $x_i$, respectively $ y_i \\langle x_i,w \\rangle \\leq 0 $, update the weight vector\n",
    "$w$ by moving it in the direction of the misclassified sample.\n",
    "\n",
    "\n",
    "$$w = w + y_i x_i$$\n",
    "\n",
    "With this update rule in mind, we can start writing our perceptron algorithm in python."
   ]
  },
  {
   "cell_type": "markdown",
   "metadata": {
    "id": "_eiYih0TmZhr"
   },
   "source": [
    "## Model"
   ]
  },
  {
   "cell_type": "markdown",
   "metadata": {
    "id": "i_91Dsdlmwvr"
   },
   "source": [
    "\n",
    "Finally we can code our SGD algorithm using our update rule. To keep it simple, we will linearly loop over the sample set. For larger data sets it makes sence, to randomly pick a sample during each iteration in the for-loop."
   ]
  },
  {
   "cell_type": "code",
   "execution_count": 20,
   "metadata": {
    "id": "dpCynLlEmxQY"
   },
   "outputs": [],
   "source": [
    "def perceptron_sgd(X, Y):\n",
    "    '''\n",
    "    # TODO: implement the below\n",
    "\n",
    "    Initialize the weight vector for the perceptron with zeros\n",
    "    Set the learning rate\n",
    "    Set the number of epochs\n",
    "    Iterate n times over the whole dataset.\n",
    "    Iterate over each sample in the dataset\n",
    "    Misclassification condition y_i * (x_i . w) <= 0\n",
    "    Update rule for the weights w = w + y_i * x_i including the learning rate\n",
    "\n",
    "    '''\n",
    "    w = np.zeros(X.shape[1])\n",
    "    learning_rate = 0.1\n",
    "    epochs = 130\n",
    "\n",
    "    for epoch in range(epochs):\n",
    "        for idx, x in enumerate(X):\n",
    "            if (Y[idx] * np.dot(X[idx], w)) <= 0:\n",
    "                w = w + learning_rate * X[idx] * Y[idx]\n",
    "\n",
    "    return w"
   ]
  },
  {
   "cell_type": "markdown",
   "metadata": {
    "id": "1tIY7wrXm5FZ"
   },
   "source": [
    "### Let the Perceptron learn!\n",
    "\n",
    "Next we can execute our code to train a classifier model. To see the learning progress of the perceptron, we add a plotting feature to our algorithm, counting the total error in each epoch."
   ]
  },
  {
   "cell_type": "code",
   "execution_count": 21,
   "metadata": {
    "id": "MJFiM-IBm9xV"
   },
   "outputs": [],
   "source": [
    "def perceptron_sgd_plot(X, Y):\n",
    "    '''\n",
    "    TODO: train perceptron and plot the total loss in each epoch. You may not use the above perceptron_sgd(X, Y) function.\n",
    "\n",
    "    :param X: data samples\n",
    "    :param Y: data labels\n",
    "    :return: weight vector as a numpy array\n",
    "    '''\n",
    "\n",
    "    w = np.zeros(X.shape[1])\n",
    "    learning_rate = 0.1\n",
    "    epochs = 130\n",
    "    errors = []\n",
    "\n",
    "    for epoch in range(epochs):\n",
    "        count = 0\n",
    "        for idx, x in enumerate(X):\n",
    "            if (Y[idx] * np.dot(X[idx], w)) <= 0:\n",
    "                count += (np.dot(X[idx], w) * Y[idx])\n",
    "                w = w + learning_rate * X[idx] * Y[idx]\n",
    "        errors.append(count * -1)\n",
    "    \n",
    "    plt.figure(figsize = (15, 4))\n",
    "    plt.plot(errors)\n",
    "    plt.xlabel('Epoch')\n",
    "    plt.ylabel('Total Loss')\n",
    "\n",
    "    return w"
   ]
  },
  {
   "cell_type": "code",
   "execution_count": 22,
   "metadata": {
    "id": "hG3b6rbvp_T0",
    "scrolled": true
   },
   "outputs": [
    {
     "data": {
      "text/plain": [
       "array([0, 0, 0, ..., 0, 1, 0], dtype=int64)"
      ]
     },
     "execution_count": 22,
     "metadata": {},
     "output_type": "execute_result"
    }
   ],
   "source": [
    "df = pd.read_csv(\"heart.csv\")\n",
    "X = df[['sex', 'cp', 'fbs', 'restecg', 'exang', 'slope', 'ca', 'thal', 'age', 'trestbps', 'chol', 'thalach', 'oldpeak']].to_numpy()\n",
    "y = df.loc[:, \"target\"].to_numpy()\n",
    "y"
   ]
  },
  {
   "cell_type": "code",
   "execution_count": 23,
   "metadata": {},
   "outputs": [
    {
     "data": {
      "text/plain": [
       "array([-1, -1, -1, ..., -1,  1, -1], dtype=int64)"
      ]
     },
     "execution_count": 23,
     "metadata": {},
     "output_type": "execute_result"
    }
   ],
   "source": [
    "for i in range(len(y)):\n",
    "    if y[i] == 0:\n",
    "        y[i] = -1\n",
    "y"
   ]
  },
  {
   "cell_type": "code",
   "execution_count": 24,
   "metadata": {
    "id": "z0kQs1yip0Qm"
   },
   "outputs": [
    {
     "data": {
      "text/plain": [
       "array([[  1. ,   0. ,   0. , ..., 168. ,   1. ,  -1. ],\n",
       "       [  1. ,   0. ,   1. , ..., 155. ,   3.1,  -1. ],\n",
       "       [  1. ,   0. ,   0. , ..., 125. ,   2.6,  -1. ],\n",
       "       ...,\n",
       "       [  1. ,   0. ,   0. , ..., 118. ,   1. ,  -1. ],\n",
       "       [  0. ,   0. ,   0. , ..., 159. ,   0. ,  -1. ],\n",
       "       [  1. ,   0. ,   0. , ..., 113. ,   1.4,  -1. ]])"
      ]
     },
     "execution_count": 24,
     "metadata": {},
     "output_type": "execute_result"
    }
   ],
   "source": [
    "# TODO: Add a bias term -1 into the dataset. This is needed for the SGD to work.\n",
    "bias_column = np.full((X.shape[0], 1), -1)\n",
    "X = np.concatenate((X, bias_column), axis=1)\n",
    "X"
   ]
  },
  {
   "cell_type": "code",
   "execution_count": 25,
   "metadata": {
    "id": "yz313F2ep3St"
   },
   "outputs": [],
   "source": [
    "# TODO: Split the data to train and test with a 0.2 ratio\n",
    "train_count = int(X.shape[0] * 0.8)\n",
    "X_train, X_val, y_train, y_val = X[:train_count], X[train_count:], y[:train_count], y[train_count:]"
   ]
  },
  {
   "cell_type": "code",
   "execution_count": 26,
   "metadata": {
    "id": "vza_Q_Gim_cf"
   },
   "outputs": [
    {
     "data": {
      "image/png": "[encoded data removed]",
      "text/plain": [
       "<Figure size 1080x288 with 1 Axes>"
      ]
     },
     "metadata": {
      "needs_background": "light"
     },
     "output_type": "display_data"
    }
   ],
   "source": [
    "w = perceptron_sgd_plot(X_train,y_train)"
   ]
  },
  {
   "cell_type": "markdown",
   "metadata": {
    "id": "GoPThTyLnd0N"
   },
   "source": [
    "### Accuracy"
   ]
  },
  {
   "cell_type": "markdown",
   "metadata": {
    "id": "ARKTa6f2n4v0"
   },
   "source": [
    "\n",
    "Implement the `accuracy_score` function by considering the predictions and true labels."
   ]
  },
  {
   "cell_type": "code",
   "execution_count": 27,
   "metadata": {
    "id": "lkHOtSEYnePG"
   },
   "outputs": [],
   "source": [
    "def accuracy_score(y_true, y_pred):\n",
    "    corrects = np.sum(y_true == y_pred)\n",
    "    return corrects / len(y_true)"
   ]
  },
  {
   "cell_type": "markdown",
   "metadata": {
    "id": "9sE-fMyLn9b9"
   },
   "source": [
    "Get the accuracy of your model using the function you implemented."
   ]
  },
  {
   "cell_type": "code",
   "execution_count": 28,
   "metadata": {
    "id": "DEvjAMiUn9t_"
   },
   "outputs": [
    {
     "data": {
      "text/plain": [
       "74.14634146341463"
      ]
     },
     "execution_count": 28,
     "metadata": {},
     "output_type": "execute_result"
    }
   ],
   "source": [
    "predictions = np.sign(np.dot(X_val, w))\n",
    "accuracy_score(y_val, predictions) * 100"
   ]
  },
  {
   "cell_type": "markdown",
   "metadata": {
    "id": "54V2QMyQoAQr"
   },
   "source": [
    "### Confusion Matrix"
   ]
  },
  {
   "cell_type": "markdown",
   "metadata": {
    "id": "f5cheWvWnjVR"
   },
   "source": [
    "Implement the `confusion_matrix` function to generate the confusion matrix by receiving the predicted labels, the real labels and the labels themselves."
   ]
  },
  {
   "cell_type": "code",
   "execution_count": 29,
   "metadata": {
    "id": "Kv6PgYmgoGtJ"
   },
   "outputs": [],
   "source": [
    "def confusion_matrix(real, predicted):\n",
    "    matrix = np.array([[0, 0], [0, 0]])\n",
    "    count1 = 0\n",
    "    count2 = 0\n",
    "    count3 = 0\n",
    "    count4 = 0\n",
    "    for i in range(len(real)):\n",
    "        if real[i] == 1 and predicted[i] == 1:\n",
    "            matrix[1][1] += 1\n",
    "            count1 += 1\n",
    "        elif real[i] == -1 and predicted[i] == -1:\n",
    "            matrix[0][0] += 1\n",
    "            count4 += 1\n",
    "        elif real[i] == 1 and predicted[i] == -1:\n",
    "            matrix[1][0] += 1\n",
    "            count2 += 1\n",
    "        elif real[i] == -1 and predicted[i] == 1:\n",
    "            matrix[0][1] += 1\n",
    "            count3 += 1\n",
    "\n",
    "    print(\"TP: \", count1)\n",
    "    print(\"FN: \", count2)\n",
    "    print(\"FP: \", count3)\n",
    "    print(\"TN: \", count4)\n",
    "    return matrix"
   ]
  },
  {
   "cell_type": "markdown",
   "metadata": {
    "id": "JhtEA4xRoKMx"
   },
   "source": [
    "Implement the following function to plot the confusion matrix obtained from the previous part."
   ]
  },
  {
   "cell_type": "code",
   "execution_count": 30,
   "metadata": {
    "id": "1zBnY2ALoNY5"
   },
   "outputs": [],
   "source": [
    "def plot_confusion_matrix(matrix, labels):\n",
    "    plt.figure(figsize=(12, 10))\n",
    "    sns.heatmap(matrix, annot=True, fmt='d', cmap='Greens', xticklabels=labels, yticklabels=labels)\n",
    "    plt.xlabel('Predicted', color=\"lightBlue\")\n",
    "    plt.ylabel('Real', color=\"lightBlue\")\n",
    "    plt.title('Confusion Matrix', color=\"lightBlue\")\n",
    "    plt.show()"
   ]
  },
  {
   "cell_type": "markdown",
   "metadata": {
    "id": "CQhj0HS8odjN"
   },
   "source": [
    "Now plot the confusion matrix for your model:"
   ]
  },
  {
   "cell_type": "code",
   "execution_count": 31,
   "metadata": {
    "id": "KNswewkkodPS"
   },
   "outputs": [
    {
     "name": "stdout",
     "output_type": "stream",
     "text": [
      "TP:  70\n",
      "FN:  29\n",
      "FP:  24\n",
      "TN:  82\n"
     ]
    },
    {
     "data": {
      "image/png": "[encoded data removed]",
      "text/plain": [
       "<Figure size 864x720 with 2 Axes>"
      ]
     },
     "metadata": {
      "needs_background": "light"
     },
     "output_type": "display_data"
    }
   ],
   "source": [
    "labels = [-1, 1]\n",
    "cm = confusion_matrix(y_val, predictions)\n",
    "plot_confusion_matrix(cm, labels)"
   ]
  },
  {
   "cell_type": "markdown",
   "metadata": {
    "id": "0u9hzezSo48b"
   },
   "source": [
    "### F1 Score"
   ]
  },
  {
   "cell_type": "markdown",
   "metadata": {
    "id": "LV2lhF-xo7tG"
   },
   "source": [
    "Implement the following functions to calculate precision, recall and [F1 score](https://en.wikipedia.org/wiki/F-score) using confusion matrix. Then calculate all three metrics for your model."
   ]
  },
  {
   "cell_type": "code",
   "execution_count": 32,
   "metadata": {
    "id": "5H5x1seOo7-m"
   },
   "outputs": [
    {
     "data": {
      "text/plain": [
       "0.7070707070707071"
      ]
     },
     "execution_count": 32,
     "metadata": {},
     "output_type": "execute_result"
    }
   ],
   "source": [
    "def recall_score(cm):\n",
    "    return cm[1][1] / (cm[1][1] + cm[1][0])\n",
    "\n",
    "recall = recall_score(cm)\n",
    "recall"
   ]
  },
  {
   "cell_type": "code",
   "execution_count": 33,
   "metadata": {
    "id": "1-jnEGfXo-CO"
   },
   "outputs": [
    {
     "data": {
      "text/plain": [
       "0.7446808510638298"
      ]
     },
     "execution_count": 33,
     "metadata": {},
     "output_type": "execute_result"
    }
   ],
   "source": [
    "def precision_score(cm):\n",
    "    return cm[1][1] / (cm[1][1] + cm[0][1])\n",
    "\n",
    "precision = precision_score(cm)\n",
    "precision"
   ]
  },
  {
   "cell_type": "code",
   "execution_count": 34,
   "metadata": {
    "id": "elp_Y21uo_11"
   },
   "outputs": [
    {
     "data": {
      "text/plain": [
       "0.7253886010362693"
      ]
     },
     "execution_count": 34,
     "metadata": {},
     "output_type": "execute_result"
    }
   ],
   "source": [
    "def f1_score(cm):\n",
    "    recall = cm[1][1] / (cm[1][1] + cm[1][0])\n",
    "    precision = cm[1][1] / (cm[1][1] + cm[0][1])\n",
    "    return (2 * recall * precision)/(precision + recall)\n",
    "\n",
    "f1_score(cm)"
   ]
  },
  {
   "cell_type": "markdown",
   "metadata": {
    "id": "GSMb1HLNL5BB"
   },
   "source": [
    "# Naive Bayes"
   ]
  },
  {
   "cell_type": "markdown",
   "metadata": {
    "id": "BRS6sygsLV-G"
   },
   "source": [
    "## Model"
   ]
  },
  {
   "cell_type": "markdown",
   "metadata": {
    "id": "xdyNTg7Is-Z1"
   },
   "source": [
    "To predict the target column we want to use a Naive Bayes classifier. In this section, you must implement the functions of the `MixedDataNB` class. Assume continuous features follow a normal distribution. **Hint**: You need to train a Naive Bayes model that implements the likelihood function for categorical and continuous values in two different ways. Search for Gaussian NB and Multinomial NB. **Note**: Please feel free to modify the following class and its functions."
   ]
  },
  {
   "cell_type": "code",
   "execution_count": 35,
   "metadata": {
    "id": "7EnbOik9KW9f"
   },
   "outputs": [],
   "source": [
    "class MixedDataNB:\n",
    "    # Help a little from gpt and https://github.com/The-Swapster/NaiveBayes\n",
    "    def __init__(self):\n",
    "        self.prior = None\n",
    "        self.countsss = None\n",
    "        self.category = {}\n",
    "        self.samples = None\n",
    "        self.features = None\n",
    "        self.mean_data = {}\n",
    "        self.var_data = {}\n",
    "\n",
    "    def fit(self, X, y):\n",
    "        self.samples = X.shape[0]\n",
    "        self.features = X.shape[1]\n",
    "        number_of_samps = X.shape[0]\n",
    "        number_of_feats = X.shape[1]\n",
    "\n",
    "        # self.countsss = np.zeros(n_classes)\n",
    "        # for i, c in enumerate(self.classes):\n",
    "        #     self.countsss[i] = np.sum(y == c) / n_samples\n",
    "\n",
    "        self.types_of_cla = np.unique(y)\n",
    "        nums_cla = len(self.types_of_cla)\n",
    "        self.prior = np.zeros(nums_cla)\n",
    "        self.countsss = np.zeros(nums_cla)\n",
    "        alll = np.all(np.array(X, dtype=float) == X, axis=0)\n",
    "        cont_features = np.argmax(alll)\n",
    "\n",
    "        for i, classessse in enumerate(self.types_of_cla):\n",
    "            self.samples = X.shape[0]\n",
    "            self.features = X.shape[1]\n",
    "            X_help = X[y == classessse]\n",
    "            self.prior[i] = len(X_help) / number_of_samps\n",
    "            self.countsss[i] = len(X_help)\n",
    "\n",
    "            continuous_features = X_help[:, :cont_features]\n",
    "\n",
    "            self.category[classessse] = {}\n",
    "            categorical_features = X_help[:, cont_features:]\n",
    "            for feat in range(cont_features, number_of_feats):\n",
    "                feature_values, counts = np.unique(categorical_features[:, feat - cont_features],\n",
    "                                                   return_counts=True)\n",
    "                self.category[classessse][feat] = dict(zip(feature_values, counts / len(X_help)))\n",
    "\n",
    "            # for i in range(len(X)):\n",
    "            #     if y[i] == 1:\n",
    "            #         for j in range(self.numberOfFeature):\n",
    "            #             self.var_1[j] += ((X[i][j + 8] - self.miu_1[j]) ** 2) / self.count_1\n",
    "            self.mean_data[classessse] = np.mean(continuous_features, axis=0)\n",
    "            self.var_data[classessse] = np.var(continuous_features, axis=0)\n",
    "\n",
    "    def predict(self, X):\n",
    "        self.samples = X.shape[0]\n",
    "        self.features = X.shape[1]\n",
    "        n_samples, n_features = X.shape\n",
    "        utilss = np.zeros((n_samples, len(self.types_of_cla)))\n",
    "\n",
    "        for i, cla in enumerate(self.types_of_cla):\n",
    "            cont = len(self.mean_data[cla])\n",
    "            likelihood1 = np.zeros(X.shape[0])\n",
    "            #     likelihood1 = np.sum(np.log(self._pdf(i, j, x[j])) for j in range(len(x)))\n",
    "            for i in range(cont):\n",
    "                likelihood1 += -0.5 * np.log(2 * np.pi * self.var_data[cla][i]) - 0.5 * (\n",
    "                        (X[:, i] - self.mean_data[cla][i]) ** 2 / self.var_data[cla][i])\n",
    "\n",
    "            cont = len(self.mean_data[cla])\n",
    "            n_features = X.shape[1]\n",
    "            likelihood2 = np.zeros(X.shape[0])\n",
    "            for j in range(cont, n_features):\n",
    "                likelihood2 += np.log([self.category[cla][j].get(x, 1e-6) for x in X[:, j]])\n",
    "            # for i, c in enumerate(self.classes):\n",
    "            #     prior = np.log(self.class_probabilities[i])\n",
    "            #     likelihood = np.sum(np.log(self._pdf(i, j, x[j])) for j in range(len(x)))\n",
    "            #     posterior = prior + likelihood\n",
    "            #     posteriors.append(posterior)\n",
    "            utilss[:, i] = np.log(self.prior[i]) + likelihood1 + likelihood2\n",
    "\n",
    "        return self.types_of_cla[np.argmax(utilss, axis=1)]\n"
   ]
  },
  {
   "cell_type": "markdown",
   "metadata": {
    "id": "RCcNBC_AOddW"
   },
   "source": [
    "## Train and Validation"
   ]
  },
  {
   "cell_type": "markdown",
   "metadata": {
    "id": "6KjeHMceOJTE"
   },
   "source": [
    "\n",
    "### Data splitting"
   ]
  },
  {
   "cell_type": "markdown",
   "metadata": {
    "id": "0ljWeBvFv65G"
   },
   "source": [
    "Split the training and validation data. Separate 20% of the data for validation."
   ]
  },
  {
   "cell_type": "code",
   "execution_count": 36,
   "metadata": {
    "id": "do-NG_s2bvql"
   },
   "outputs": [],
   "source": [
    "#np.random.shuffle(X)\n",
    "X = df[['sex', 'cp', 'fbs', 'restecg', 'exang', 'slope', 'ca', 'thal', 'age', 'trestbps', 'chol', 'thalach', 'oldpeak']].to_numpy()\n",
    "y = df.loc[:, \"target\"].to_numpy()\n",
    "y = np.array([1 if i == 1 else -1 for i in y])\n",
    "train_count = int(X.shape[0] * 0.8)\n",
    "X_train, X_val, y_train, y_val = X[:train_count], X[train_count:], y[:train_count], y[train_count:]"
   ]
  },
  {
   "cell_type": "markdown",
   "metadata": {
    "id": "7HbVGE0BwFoZ"
   },
   "source": [
    "### Model training"
   ]
  },
  {
   "cell_type": "code",
   "execution_count": 37,
   "metadata": {
    "id": "3uHjoYgQb5ed"
   },
   "outputs": [],
   "source": [
    "model = MixedDataNB()\n",
    "model.fit(X_train, y_train)"
   ]
  },
  {
   "cell_type": "markdown",
   "metadata": {
    "id": "vfHEirlXwyeb"
   },
   "source": [
    "### Make predictions"
   ]
  },
  {
   "cell_type": "code",
   "execution_count": 38,
   "metadata": {
    "id": "PuN_GWEhwwUN"
   },
   "outputs": [],
   "source": [
    "predictions = model.predict(X_val)"
   ]
  },
  {
   "cell_type": "markdown",
   "metadata": {
    "id": "AiVuMqFNw2rS"
   },
   "source": [
    "### Accuracy"
   ]
  },
  {
   "cell_type": "markdown",
   "metadata": {
    "id": "zOsIA_F9xf3u"
   },
   "source": [
    "Get the accuracy of your model using the function you implemented."
   ]
  },
  {
   "cell_type": "code",
   "execution_count": 39,
   "metadata": {
    "id": "Q5auaGaCiZ2I"
   },
   "outputs": [
    {
     "name": "stdout",
     "output_type": "stream",
     "text": [
      "0.8878048780487805\n"
     ]
    }
   ],
   "source": [
    "print(accuracy_score(y_val, predictions))"
   ]
  },
  {
   "cell_type": "markdown",
   "metadata": {
    "id": "0BmtJ-iqQhN_"
   },
   "source": [
    "### Confusion Matrix"
   ]
  },
  {
   "cell_type": "markdown",
   "metadata": {
    "id": "lvj1QkeP3XPk"
   },
   "source": [
    "Now, using the functions you wrote, plot the confusion matrix for the model you trained."
   ]
  },
  {
   "cell_type": "code",
   "execution_count": 40,
   "metadata": {
    "id": "-nN1RNVopf-_"
   },
   "outputs": [
    {
     "name": "stdout",
     "output_type": "stream",
     "text": [
      "TP:  88\n",
      "FN:  11\n",
      "FP:  12\n",
      "TN:  94\n"
     ]
    },
    {
     "data": {
      "image/png": "[encoded data removed]",
      "text/plain": [
       "<Figure size 864x720 with 2 Axes>"
      ]
     },
     "metadata": {
      "needs_background": "light"
     },
     "output_type": "display_data"
    }
   ],
   "source": [
    "cm = confusion_matrix(y_val, predictions)\n",
    "plot_confusion_matrix(cm, labels)"
   ]
  },
  {
   "cell_type": "markdown",
   "metadata": {
    "id": "3Snbk3FeQyph"
   },
   "source": [
    "### F1 Score"
   ]
  },
  {
   "cell_type": "markdown",
   "metadata": {
    "id": "EGMYWaiT3rqc"
   },
   "source": [
    "Using your implemented functions in the previous section, calculate precision, recall and F1 score using confusion matrix. Then calculate all three metrics for your model."
   ]
  },
  {
   "cell_type": "code",
   "execution_count": 41,
   "metadata": {
    "id": "ElFj7NblojAf"
   },
   "outputs": [
    {
     "name": "stdout",
     "output_type": "stream",
     "text": [
      "0.8888888888888888\n"
     ]
    }
   ],
   "source": [
    "print(recall_score(cm))"
   ]
  },
  {
   "cell_type": "code",
   "execution_count": 42,
   "metadata": {
    "id": "MySaWgxwojsw"
   },
   "outputs": [
    {
     "name": "stdout",
     "output_type": "stream",
     "text": [
      "0.88\n"
     ]
    }
   ],
   "source": [
    "print(precision_score(cm))"
   ]
  },
  {
   "cell_type": "code",
   "execution_count": 43,
   "metadata": {
    "id": "p_Sx4kv8ojz2"
   },
   "outputs": [
    {
     "name": "stdout",
     "output_type": "stream",
     "text": [
      "0.8844221105527638\n"
     ]
    }
   ],
   "source": [
    "print(f1_score(cm))"
   ]
  },
  {
   "cell_type": "markdown",
   "metadata": {
    "id": "dEbb0kriPDu2"
   },
   "source": [
    "### Heatmap"
   ]
  },
  {
   "cell_type": "markdown",
   "metadata": {
    "id": "46_IPabaxvVL"
   },
   "source": [
    "By ploting the heatmap obtained for chol and oldpeak features from your model, compare the usefulness of these two features.\n"
   ]
  },
  {
   "cell_type": "code",
   "execution_count": 44,
   "metadata": {
    "id": "F9x7emkB6Uzn",
    "scrolled": false
   },
   "outputs": [
    {
     "data": {
      "image/png": "[encoded data removed]",
      "text/plain": [
       "<Figure size 864x720 with 2 Axes>"
      ]
     },
     "metadata": {
      "needs_background": "light"
     },
     "output_type": "display_data"
    },
    {
     "data": {
      "image/png": "[encoded data removed]",
      "text/plain": [
       "<Figure size 864x720 with 2 Axes>"
      ]
     },
     "metadata": {
      "needs_background": "light"
     },
     "output_type": "display_data"
    },
    {
     "data": {
      "image/png": "[encoded data removed]",
      "text/plain": [
       "<Figure size 864x720 with 2 Axes>"
      ]
     },
     "metadata": {
      "needs_background": "light"
     },
     "output_type": "display_data"
    },
    {
     "data": {
      "image/png": "[encoded data removed]",
      "text/plain": [
       "<Figure size 864x720 with 2 Axes>"
      ]
     },
     "metadata": {
      "needs_background": "light"
     },
     "output_type": "display_data"
    }
   ],
   "source": [
    "# First:\n",
    "# Help from GPT\n",
    "df1 = pd.DataFrame({'Real': y_val, 'Predicted': predictions, 'chol': X_val[:, 0], 'oldpeak': X_val[:, 1]})\n",
    "df2 = df1[df1['Real'] == df1['Predicted']]\n",
    "heatmap = df2.groupby(['chol', 'oldpeak']).size().unstack(fill_value=0)\n",
    "plt.figure(figsize=(12, 10))\n",
    "sns.heatmap(heatmap, annot=True, cmap='Greens')\n",
    "plt.show()\n",
    "# Second:\n",
    "datas = df[['target' , 'oldpeak' , 'chol']]\n",
    "correlation_matrix = datas.corr()\n",
    "plt.figure(figsize=(12, 10))\n",
    "heatmap = sns.heatmap(correlation_matrix, annot=True, cmap=\"PiYG\")\n",
    "plt.show()\n",
    "# Third:\n",
    "columns = ['chol', 'oldpeak']\n",
    "correlation_matrix = df[columns].corr()\n",
    "plt.figure(figsize=(12, 10))\n",
    "sns.heatmap(correlation_matrix, annot=True, cmap='Blues')\n",
    "plt.show()\n",
    "# Fourth:\n",
    "predictions = model.predict(X)\n",
    "df3 = pd.DataFrame({'Predicted': predictions, 'chol': X[:, 10], 'oldpeak': X[:, 12]})\n",
    "df_correct = df3[df3['Predicted'] == y]\n",
    "heatmap = df_correct.groupby(['chol', 'oldpeak']).size().unstack(fill_value=0)\n",
    "plt.figure(figsize=(12, 10))\n",
    "sns.heatmap(heatmap, annot=True, cmap='Greens')\n",
    "plt.show()"
   ]
  },
  {
   "cell_type": "markdown",
   "metadata": {
    "id": "N5E-qQQv2TgC"
   },
   "source": [
    "Train your model once by removing the chol feature and once by removing the oldpeak feature and calculate its accuracy. Compare the obtained results with the previous part."
   ]
  },
  {
   "cell_type": "markdown",
   "metadata": {
    "id": "1lKo-l15nI5E"
   },
   "source": [
    "Remove Chol and test model"
   ]
  },
  {
   "cell_type": "code",
   "execution_count": 45,
   "metadata": {
    "id": "Gb21jrDZjy2m"
   },
   "outputs": [
    {
     "name": "stdout",
     "output_type": "stream",
     "text": [
      "Accuracy:  87.805 \n",
      "\n",
      "TP:  85\n",
      "FN:  14\n",
      "FP:  11\n",
      "TN:  95\n",
      "\n",
      "recall:  0.8586\n",
      "precision:  0.8854\n",
      "f1_scores:  0.8718\n"
     ]
    }
   ],
   "source": [
    "# print(X)\n",
    "idx = feature_list.index('chol')\n",
    "new_X = np.delete(X, idx, 1)\n",
    "# print(new_X)\n",
    "train_count = int(new_X.shape[0] * 0.8)\n",
    "X_train, X_val, y_train, y_val = new_X[:train_count], new_X[train_count:], y[:train_count], y[train_count:]\n",
    "\n",
    "model2 = MixedDataNB()\n",
    "model2.fit(X_train, y_train)\n",
    "predictions = model2.predict(X_val)\n",
    "\n",
    "print(\"Accuracy: \", round(accuracy_score(y_val, predictions) * 100, 3),\"\\n\")\n",
    "cm = confusion_matrix(y_val, predictions)\n",
    "print(\"\\nrecall: \", round(recall_score(cm), 4))\n",
    "print(\"precision: \", round(precision_score(cm), 4))\n",
    "print(\"f1_scores: \", round(f1_score(cm), 4))"
   ]
  },
  {
   "cell_type": "markdown",
   "metadata": {
    "id": "1tb_XKwsnLYq"
   },
   "source": [
    "Remove oldpeak and test model"
   ]
  },
  {
   "cell_type": "code",
   "execution_count": 46,
   "metadata": {
    "id": "9IdEjL1GmDA3"
   },
   "outputs": [
    {
     "name": "stdout",
     "output_type": "stream",
     "text": [
      "Accuracy:  86.829 \n",
      "\n",
      "TP:  85\n",
      "FN:  14\n",
      "FP:  13\n",
      "TN:  93\n",
      "\n",
      "recall:  0.8586\n",
      "precision:  0.8673\n",
      "f1_scores:  0.8629\n"
     ]
    }
   ],
   "source": [
    "# print(X)\n",
    "idx = feature_list.index('oldpeak')\n",
    "new_X = np.delete(X, idx, 1)\n",
    "# print(new_X)\n",
    "train_count = int(new_X.shape[0] * 0.8)\n",
    "X_train, X_val, y_train, y_val = new_X[:train_count], new_X[train_count:], y[:train_count], y[train_count:]\n",
    "\n",
    "model2 = MixedDataNB()\n",
    "model2.fit(X_train, y_train)\n",
    "predictions = model2.predict(X_val)\n",
    "\n",
    "print(\"Accuracy: \", round(accuracy_score(y_val, predictions) * 100, 3),\"\\n\")\n",
    "cm = confusion_matrix(y_val, predictions)\n",
    "print(\"\\nrecall: \", round(recall_score(cm), 4))\n",
    "print(\"precision: \", round(precision_score(cm), 4))\n",
    "print(\"f1_scores: \", round(f1_score(cm), 4))"
   ]
  },
  {
   "cell_type": "markdown",
   "metadata": {
    "id": "c9kuak-Wchp8"
   },
   "source": [
    "Comparison"
   ]
  },
  {
   "cell_type": "markdown",
   "metadata": {
    "id": "tuVe6m8zcjb5"
   },
   "source": [
    "**Answer:**\n",
    "<font dir=\"rtl\" color=\"Salmon\">\n",
    "    <br>\n",
    "     همانطور که مشخص است از لحاظ دقت، با حذف هردو مقداری کم شده است اما این مقدار تغییر برای oldpeak\n",
    "    بیشتر بوده است.\n",
    "    <br>\n",
    "    اما به طور کلی هر دو تاثیر کمی داشته اند.\n",
    "</font>"
   ]
  },
  {
   "cell_type": "markdown",
   "metadata": {
    "id": "RYDwVLDqkoXc"
   },
   "source": [
    "# Comparison"
   ]
  },
  {
   "cell_type": "markdown",
   "metadata": {
    "id": "PFGNM7y2krbl"
   },
   "source": [
    "Which model did better: the perceptron or the Naive Bayes model? What factors do you think influenced the difference in their performance?"
   ]
  },
  {
   "cell_type": "markdown",
   "metadata": {
    "id": "Gof1rS14kuOG"
   },
   "source": [
    "### Answer:\n",
    "<font dir=\"rtl\" color=\"Salmon\">\n",
    "    <br>\n",
    "    دقت برای perceptron حدود 74 درصد و برای Naive Bayes حدود 88 درصد بوده است. بنابراین Naive Bayes عملکرد بهتری داشته است.<br>\n",
    "    لازم بود که فضای فرضیه پیچیده تری داشته باشیم و برای همین با پیچده تر کردن فضای فرضیه و استفاده از مدل\n",
    "    Naive Bayes\n",
    "   دیدیم ک دقت زیاد شد.\n",
    "    <br>\n",
    "    همچنین به کمک کوررلیشن دیدیم ک داده ها تقریبا و relativly مستقل هستند که این با منطق و عملکرد Naive Bayes بیشتر همخوانی دارد ولی بایاس بیشتری برای Perceptron ایجاد میکند\n",
    "    که باعث شد دقت کمتری داشته باشد.\n",
    "    <br>\n",
    "    دلیل دیگر این بود که 2 دسته داده داشتیم و طبیعتا Naive Bayes بهتر عمل می‌نماید.\n",
    "</font>"
   ]
  },
  {
   "cell_type": "markdown",
   "metadata": {
    "id": "q0Ogh-b03oUx"
   },
   "source": [
    "# Imbalanced Data"
   ]
  },
  {
   "cell_type": "markdown",
   "metadata": {
    "id": "mAgBI2ug4pYo"
   },
   "source": [
    "By using the model you designed and the functions you implemented, train your model on the three imbalanced data sets provided to you and calculate accuracy, recall, precision, and F1 score metrics for it each time. The confusion matrix should also be plotted each time. Finally, analyze based on the obtained results which accuracy and F1 score metrics are most appropriate for evaluating the model in imbalanced datasets. **Note:** In order to prevent code duplication, you are free to define functions and only use them with different datasets."
   ]
  },
  {
   "cell_type": "markdown",
   "metadata": {
    "id": "Wp4n9e5HaOVx"
   },
   "source": [
    "## First dataset"
   ]
  },
  {
   "cell_type": "markdown",
   "metadata": {
    "id": "J6PrUxRcS-Gx"
   },
   "source": [
    "### Load data"
   ]
  },
  {
   "cell_type": "code",
   "execution_count": 47,
   "metadata": {
    "id": "Eiupha6eTf8c"
   },
   "outputs": [],
   "source": [
    "df = pd.read_csv(\"Imbalanced_Datasets/1.csv\")"
   ]
  },
  {
   "cell_type": "markdown",
   "metadata": {
    "id": "uXddb_7dUG5u"
   },
   "source": [
    "### Find the distribution\n"
   ]
  },
  {
   "cell_type": "markdown",
   "metadata": {
    "id": "oFfEYF3LUm7e"
   },
   "source": [
    "Find the number of samples from each target label."
   ]
  },
  {
   "cell_type": "code",
   "execution_count": 48,
   "metadata": {
    "id": "UWKeH1VmUpB4"
   },
   "outputs": [
    {
     "data": {
      "text/plain": [
       "0    499\n",
       "1    226\n",
       "Name: target, dtype: int64"
      ]
     },
     "execution_count": 48,
     "metadata": {},
     "output_type": "execute_result"
    }
   ],
   "source": [
    "df['target'].value_counts()"
   ]
  },
  {
   "cell_type": "code",
   "execution_count": 49,
   "metadata": {},
   "outputs": [
    {
     "data": {
      "text/html": [
       "<div>\n",
       "<style scoped>\n",
       "    .dataframe tbody tr th:only-of-type {\n",
       "        vertical-align: middle;\n",
       "    }\n",
       "\n",
       "    .dataframe tbody tr th {\n",
       "        vertical-align: top;\n",
       "    }\n",
       "\n",
       "    .dataframe thead th {\n",
       "        text-align: right;\n",
       "    }\n",
       "</style>\n",
       "<table border=\"1\" class=\"dataframe\">\n",
       "  <thead>\n",
       "    <tr style=\"text-align: right;\">\n",
       "      <th></th>\n",
       "      <th>age</th>\n",
       "      <th>sex</th>\n",
       "      <th>cp</th>\n",
       "      <th>trestbps</th>\n",
       "      <th>chol</th>\n",
       "      <th>fbs</th>\n",
       "      <th>restecg</th>\n",
       "      <th>thalach</th>\n",
       "      <th>exang</th>\n",
       "      <th>oldpeak</th>\n",
       "      <th>slope</th>\n",
       "      <th>ca</th>\n",
       "      <th>thal</th>\n",
       "      <th>target</th>\n",
       "    </tr>\n",
       "  </thead>\n",
       "  <tbody>\n",
       "    <tr>\n",
       "      <th>0</th>\n",
       "      <td>52</td>\n",
       "      <td>1</td>\n",
       "      <td>0</td>\n",
       "      <td>125</td>\n",
       "      <td>212</td>\n",
       "      <td>0</td>\n",
       "      <td>1</td>\n",
       "      <td>168</td>\n",
       "      <td>0</td>\n",
       "      <td>1.0</td>\n",
       "      <td>2</td>\n",
       "      <td>2</td>\n",
       "      <td>3</td>\n",
       "      <td>0</td>\n",
       "    </tr>\n",
       "    <tr>\n",
       "      <th>1</th>\n",
       "      <td>53</td>\n",
       "      <td>1</td>\n",
       "      <td>0</td>\n",
       "      <td>140</td>\n",
       "      <td>203</td>\n",
       "      <td>1</td>\n",
       "      <td>0</td>\n",
       "      <td>155</td>\n",
       "      <td>1</td>\n",
       "      <td>3.1</td>\n",
       "      <td>0</td>\n",
       "      <td>0</td>\n",
       "      <td>3</td>\n",
       "      <td>0</td>\n",
       "    </tr>\n",
       "    <tr>\n",
       "      <th>2</th>\n",
       "      <td>70</td>\n",
       "      <td>1</td>\n",
       "      <td>0</td>\n",
       "      <td>145</td>\n",
       "      <td>174</td>\n",
       "      <td>0</td>\n",
       "      <td>1</td>\n",
       "      <td>125</td>\n",
       "      <td>1</td>\n",
       "      <td>2.6</td>\n",
       "      <td>0</td>\n",
       "      <td>0</td>\n",
       "      <td>3</td>\n",
       "      <td>0</td>\n",
       "    </tr>\n",
       "    <tr>\n",
       "      <th>3</th>\n",
       "      <td>61</td>\n",
       "      <td>1</td>\n",
       "      <td>0</td>\n",
       "      <td>148</td>\n",
       "      <td>203</td>\n",
       "      <td>0</td>\n",
       "      <td>1</td>\n",
       "      <td>161</td>\n",
       "      <td>0</td>\n",
       "      <td>0.0</td>\n",
       "      <td>2</td>\n",
       "      <td>1</td>\n",
       "      <td>3</td>\n",
       "      <td>0</td>\n",
       "    </tr>\n",
       "    <tr>\n",
       "      <th>4</th>\n",
       "      <td>62</td>\n",
       "      <td>0</td>\n",
       "      <td>0</td>\n",
       "      <td>138</td>\n",
       "      <td>294</td>\n",
       "      <td>1</td>\n",
       "      <td>1</td>\n",
       "      <td>106</td>\n",
       "      <td>0</td>\n",
       "      <td>1.9</td>\n",
       "      <td>1</td>\n",
       "      <td>3</td>\n",
       "      <td>2</td>\n",
       "      <td>0</td>\n",
       "    </tr>\n",
       "  </tbody>\n",
       "</table>\n",
       "</div>"
      ],
      "text/plain": [
       "   age  sex  cp  trestbps  chol  fbs  restecg  thalach  exang  oldpeak  slope  \\\n",
       "0   52    1   0       125   212    0        1      168      0      1.0      2   \n",
       "1   53    1   0       140   203    1        0      155      1      3.1      0   \n",
       "2   70    1   0       145   174    0        1      125      1      2.6      0   \n",
       "3   61    1   0       148   203    0        1      161      0      0.0      2   \n",
       "4   62    0   0       138   294    1        1      106      0      1.9      1   \n",
       "\n",
       "   ca  thal  target  \n",
       "0   2     3       0  \n",
       "1   0     3       0  \n",
       "2   0     3       0  \n",
       "3   1     3       0  \n",
       "4   3     2       0  "
      ]
     },
     "execution_count": 49,
     "metadata": {},
     "output_type": "execute_result"
    }
   ],
   "source": [
    "df.head()"
   ]
  },
  {
   "cell_type": "markdown",
   "metadata": {
    "id": "mcHFkGt6UCzM"
   },
   "source": [
    "### Split data"
   ]
  },
  {
   "cell_type": "code",
   "execution_count": 50,
   "metadata": {
    "id": "DRodEXYEUE5K"
   },
   "outputs": [],
   "source": [
    "X = df[['sex', 'cp', 'fbs', 'restecg', 'exang', 'slope', 'ca', 'thal', 'age', 'trestbps', 'chol', 'thalach', 'oldpeak']].to_numpy()\n",
    "y = df.loc[:, \"target\"].to_numpy()\n",
    "y = np.array([1 if i == 1 else -1 for i in y])\n",
    "train_count = int(X.shape[0] * 0.8)\n",
    "X_train, X_val, y_train, y_val = X[:train_count], X[train_count:], y[:train_count], y[train_count:]"
   ]
  },
  {
   "cell_type": "markdown",
   "metadata": {
    "id": "OVPEziogTMqP"
   },
   "source": [
    "### Train model and make predictions"
   ]
  },
  {
   "cell_type": "code",
   "execution_count": 51,
   "metadata": {
    "id": "UGX1KttKTgPz"
   },
   "outputs": [],
   "source": [
    "model.fit(X_train, y_train)\n",
    "predictions = model.predict(X_val)"
   ]
  },
  {
   "cell_type": "markdown",
   "metadata": {
    "id": "5QS80Z9fTSJH"
   },
   "source": [
    "### Plot confusion matrix"
   ]
  },
  {
   "cell_type": "code",
   "execution_count": 52,
   "metadata": {
    "id": "72m9_9HvTgn7"
   },
   "outputs": [
    {
     "name": "stdout",
     "output_type": "stream",
     "text": [
      "TP:  37\n",
      "FN:  6\n",
      "FP:  5\n",
      "TN:  97\n"
     ]
    },
    {
     "data": {
      "image/png": "[encoded data removed]",
      "text/plain": [
       "<Figure size 864x720 with 2 Axes>"
      ]
     },
     "metadata": {
      "needs_background": "light"
     },
     "output_type": "display_data"
    }
   ],
   "source": [
    "cm = confusion_matrix(y_val, predictions)\n",
    "plot_confusion_matrix(cm, labels)"
   ]
  },
  {
   "cell_type": "markdown",
   "metadata": {
    "id": "MBQxSo1oTZkB"
   },
   "source": [
    "### Calculate metrics"
   ]
  },
  {
   "cell_type": "code",
   "execution_count": 53,
   "metadata": {
    "id": "U6vQI8fItr3y"
   },
   "outputs": [
    {
     "name": "stdout",
     "output_type": "stream",
     "text": [
      "Accuracy:  92.414 \n",
      "\n",
      "recall:  0.8605\n",
      "precision:  0.881\n",
      "f1_scores:  0.8706\n"
     ]
    }
   ],
   "source": [
    "print(\"Accuracy: \", round(accuracy_score(y_val, predictions) * 100, 3),\"\\n\")\n",
    "print(\"recall: \", round(recall_score(cm), 4))\n",
    "print(\"precision: \", round(precision_score(cm), 4))\n",
    "print(\"f1_scores: \", round(f1_score(cm), 4))"
   ]
  },
  {
   "cell_type": "markdown",
   "metadata": {
    "id": "CM968e-qah0g"
   },
   "source": [
    "## Second dataset"
   ]
  },
  {
   "cell_type": "markdown",
   "metadata": {
    "id": "i5EY_UPRah0n"
   },
   "source": [
    "### Load data"
   ]
  },
  {
   "cell_type": "code",
   "execution_count": 54,
   "metadata": {
    "id": "WCJt4rb8ah0n"
   },
   "outputs": [],
   "source": [
    "df = pd.read_csv(\"Imbalanced_Datasets/2.csv\")"
   ]
  },
  {
   "cell_type": "markdown",
   "metadata": {
    "id": "WT-pidZNah0n"
   },
   "source": [
    "### Find the distribution\n"
   ]
  },
  {
   "cell_type": "markdown",
   "metadata": {
    "id": "TvMMX9Paah0n"
   },
   "source": [
    "Find the number of samples from each target label."
   ]
  },
  {
   "cell_type": "code",
   "execution_count": 55,
   "metadata": {
    "id": "B_zQTT3nah0n"
   },
   "outputs": [
    {
     "data": {
      "text/plain": [
       "0    499\n",
       "1    126\n",
       "Name: target, dtype: int64"
      ]
     },
     "execution_count": 55,
     "metadata": {},
     "output_type": "execute_result"
    }
   ],
   "source": [
    "df['target'].value_counts()"
   ]
  },
  {
   "cell_type": "markdown",
   "metadata": {
    "id": "UtAGBCz5ah0n"
   },
   "source": [
    "### Split data"
   ]
  },
  {
   "cell_type": "code",
   "execution_count": 56,
   "metadata": {
    "id": "oWSWhuqkah0n"
   },
   "outputs": [],
   "source": [
    "X = df[['sex', 'cp', 'fbs', 'restecg', 'exang', 'slope', 'ca', 'thal', 'age', 'trestbps', 'chol', 'thalach']].to_numpy()\n",
    "y = df.loc[:, \"target\"].to_numpy()\n",
    "y = np.array([1 if i == 1 else -1 for i in y])\n",
    "train_count = int(X.shape[0] * 0.8)\n",
    "X_train, X_val, y_train, y_val = X[:train_count], X[train_count:], y[:train_count], y[train_count:]"
   ]
  },
  {
   "cell_type": "markdown",
   "metadata": {
    "id": "UgU9C0lcah0n"
   },
   "source": [
    "### Train model and make predictions"
   ]
  },
  {
   "cell_type": "code",
   "execution_count": 57,
   "metadata": {
    "id": "R_0U_L9Rah0n"
   },
   "outputs": [],
   "source": [
    "model.fit(X_train, y_train)\n",
    "predictions = model.predict(X_val)"
   ]
  },
  {
   "cell_type": "markdown",
   "metadata": {
    "id": "_L6TQSzHah0n"
   },
   "source": [
    "### Plot confusion matrix"
   ]
  },
  {
   "cell_type": "code",
   "execution_count": 58,
   "metadata": {
    "id": "MYBVkHo4ah0n"
   },
   "outputs": [
    {
     "name": "stdout",
     "output_type": "stream",
     "text": [
      "TP:  20\n",
      "FN:  8\n",
      "FP:  4\n",
      "TN:  93\n"
     ]
    },
    {
     "data": {
      "image/png": "[encoded data removed]",
      "text/plain": [
       "<Figure size 864x720 with 2 Axes>"
      ]
     },
     "metadata": {
      "needs_background": "light"
     },
     "output_type": "display_data"
    }
   ],
   "source": [
    "cm = confusion_matrix(y_val, predictions)\n",
    "plot_confusion_matrix(cm, labels)"
   ]
  },
  {
   "cell_type": "markdown",
   "metadata": {
    "id": "c0XAiLBUah0o"
   },
   "source": [
    "### Calculate metrics"
   ]
  },
  {
   "cell_type": "code",
   "execution_count": 59,
   "metadata": {
    "id": "riRcbrlqah0o"
   },
   "outputs": [
    {
     "name": "stdout",
     "output_type": "stream",
     "text": [
      "Accuracy:  90.4 \n",
      "\n",
      "recall:  0.7143\n",
      "precision:  0.8333\n",
      "f1_scores:  0.7692\n"
     ]
    }
   ],
   "source": [
    "print(\"Accuracy: \", round(accuracy_score(y_val, predictions) * 100, 3),\"\\n\")\n",
    "print(\"recall: \", round(recall_score(cm), 4))\n",
    "print(\"precision: \", round(precision_score(cm), 4))\n",
    "print(\"f1_scores: \", round(f1_score(cm), 4))"
   ]
  },
  {
   "cell_type": "markdown",
   "metadata": {
    "id": "ZNu2VoZsak76"
   },
   "source": [
    "## Third dataset"
   ]
  },
  {
   "cell_type": "markdown",
   "metadata": {
    "id": "nXzFkXaLak8B"
   },
   "source": [
    "### Load data"
   ]
  },
  {
   "cell_type": "code",
   "execution_count": 60,
   "metadata": {
    "id": "HfD4l1G6ak8B"
   },
   "outputs": [],
   "source": [
    "df = pd.read_csv(\"Imbalanced_Datasets/3.csv\")"
   ]
  },
  {
   "cell_type": "markdown",
   "metadata": {
    "id": "tRg7HDJ-ak8B"
   },
   "source": [
    "### Find the distribution\n"
   ]
  },
  {
   "cell_type": "markdown",
   "metadata": {
    "id": "Lji-2CRSak8B"
   },
   "source": [
    "Find the number of samples from each target label."
   ]
  },
  {
   "cell_type": "code",
   "execution_count": 61,
   "metadata": {
    "id": "impG1HQFak8B"
   },
   "outputs": [
    {
     "data": {
      "text/plain": [
       "0    499\n",
       "1     26\n",
       "Name: target, dtype: int64"
      ]
     },
     "execution_count": 61,
     "metadata": {},
     "output_type": "execute_result"
    }
   ],
   "source": [
    "df['target'].value_counts()"
   ]
  },
  {
   "cell_type": "markdown",
   "metadata": {
    "id": "3pe45UaBak8C"
   },
   "source": [
    "### Split data"
   ]
  },
  {
   "cell_type": "code",
   "execution_count": 62,
   "metadata": {
    "id": "ze3YZgfmak8C"
   },
   "outputs": [],
   "source": [
    "X = df[['sex', 'cp', 'fbs', 'restecg', 'exang', 'slope', 'ca', 'thal', 'age', 'trestbps', 'chol', 'thalach']].to_numpy()\n",
    "y = df.loc[:, \"target\"].to_numpy()\n",
    "y = np.array([1 if i == 1 else -1 for i in y])\n",
    "train_count = int(X.shape[0] * 0.8)\n",
    "X_train, X_val, y_train, y_val = X[:train_count], X[train_count:], y[:train_count], y[train_count:]"
   ]
  },
  {
   "cell_type": "markdown",
   "metadata": {
    "id": "N64rNbxmak8C"
   },
   "source": [
    "### Train model and make predictions"
   ]
  },
  {
   "cell_type": "code",
   "execution_count": 63,
   "metadata": {
    "id": "gvA0wDxYak8C"
   },
   "outputs": [],
   "source": [
    "model.fit(X_train, y_train)\n",
    "predictions = model.predict(X_val)"
   ]
  },
  {
   "cell_type": "markdown",
   "metadata": {
    "id": "r4kXMUclak8C"
   },
   "source": [
    "### Plot confusion matrix"
   ]
  },
  {
   "cell_type": "code",
   "execution_count": 64,
   "metadata": {
    "id": "ZEaCqPgrak8C"
   },
   "outputs": [
    {
     "name": "stdout",
     "output_type": "stream",
     "text": [
      "TP:  0\n",
      "FN:  3\n",
      "FP:  0\n",
      "TN:  102\n"
     ]
    },
    {
     "data": {
      "image/png": "[encoded data removed]",
      "text/plain": [
       "<Figure size 864x720 with 2 Axes>"
      ]
     },
     "metadata": {
      "needs_background": "light"
     },
     "output_type": "display_data"
    }
   ],
   "source": [
    "cm = confusion_matrix(y_val, predictions)\n",
    "plot_confusion_matrix(cm, labels)"
   ]
  },
  {
   "cell_type": "markdown",
   "metadata": {
    "id": "EFjScq2yak8D"
   },
   "source": [
    "### Calculate metrics"
   ]
  },
  {
   "cell_type": "code",
   "execution_count": 65,
   "metadata": {
    "id": "x8GSV1_5ak8D"
   },
   "outputs": [
    {
     "name": "stdout",
     "output_type": "stream",
     "text": [
      "Accuracy:  97.143 \n",
      "\n",
      "recall:  0.0\n",
      "precision:  nan\n",
      "f1_scores:  nan\n"
     ]
    },
    {
     "name": "stderr",
     "output_type": "stream",
     "text": [
      "C:\\Users\\AMIRRE~1\\AppData\\Local\\Temp/ipykernel_4272/1178440399.py:2: RuntimeWarning: invalid value encountered in long_scalars\n",
      "  return cm[1][1] / (cm[1][1] + cm[0][1])\n",
      "C:\\Users\\AMIRRE~1\\AppData\\Local\\Temp/ipykernel_4272/1232598744.py:3: RuntimeWarning: invalid value encountered in long_scalars\n",
      "  precision = cm[1][1] / (cm[1][1] + cm[0][1])\n"
     ]
    }
   ],
   "source": [
    "print(\"Accuracy: \", round(accuracy_score(y_val, predictions) * 100, 3),\"\\n\")\n",
    "print(\"recall: \", round(recall_score(cm), 4))\n",
    "print(\"precision: \", round(precision_score(cm), 4))\n",
    "print(\"f1_scores: \", round(f1_score(cm), 4))"
   ]
  },
  {
   "cell_type": "markdown",
   "metadata": {
    "id": "5NDXj0qEZ3u_"
   },
   "source": [
    "## Comparison"
   ]
  },
  {
   "cell_type": "markdown",
   "metadata": {
    "id": "HvHYNnEEZ5to"
   },
   "source": [
    "Based on the obtained results which accuracy and F1 score metrics are most appropriate for evaluating the model in imbalanced datasets?"
   ]
  },
  {
   "cell_type": "markdown",
   "metadata": {
    "id": "LqGtCJLtaKhN"
   },
   "source": [
    "**Answer:**\n",
    "<font dir=\"rtl\" color=\"Salmon\">\n",
    "    <br>\n",
    "     به دلیل اینکه منظور سوال را به طور درست متوجه نشده‌ام، یکبار جواب‌های 3تا دیتاست را مقایسه می‌کنم و بار دیگر تفاوت میان f1_scores و accuracy\n",
    "</font>"
   ]
  },
  {
   "cell_type": "markdown",
   "metadata": {},
   "source": [
    "<font dir=\"rtl\" color=\"SeaGreen\">\n",
    "    <br>\n",
    "    در دیتاست آخر، به دلیل کم بودن اطلاعات و مقدار زیاد imbalanced بودن آن، طبیعتا به نتیجه قابل توجه و درستی نرسیده‌‍ایم\n",
    "    .<br>\n",
    "    دیتاست اول و دوم بهتر عمل کرده‌اند اما با توجه به مقادیر f1_scores می‌توان گفت دیتاست اول به دلیل داشتن سمپل بیشتر، عملکرد بهتری داشته است.\n",
    "    <br>\n",
    "    \n",
    "</font>"
   ]
  },
  {
   "cell_type": "markdown",
   "metadata": {},
   "source": [
    "<font dir=\"rtl\" color=\"LightBlue\">\n",
    "    <br>\n",
    "     در اینجا به تفاوت میان f1_scores و accuracy می‌پردازیم.\n",
    "    :<br>\n",
    "    به طور کلی، مقدار f1_scores مخصوصا برای توزیع کلاس نامتعادل مفیدتر و قابل اعتناتر می‌باشد.<br>\n",
    "    accuracy \n",
    " ممکن است مناسب ترین متریک برای ارزیابی عملکرد مدل نباشد. زیرا که یک طبقه بندی کننده می تواند با پیش بینی کلاس اکثریت برای همه نمونه ها، به دقت بالایی برسد ، که لزوما نشان دهنده توانایی آن در طبقه بندی صحیح نمونه های کلاس اقلیت نیست.\n",
    "    به مثال زیر توجه فرمایید:\n",
    "    <br>\n",
    "</font>\n",
    "<font dir=\"ltr\" color=\"LightBlue\">\n",
    "    Imagine we have a classification model for detecting a specific disease, where only 10% of the population actually has the disease and the rest are healthy.\n",
    "\n",
    "If we have a very simple model that classifies everyone as healthy, our accuracy will be very high (around 90%) because most of the data is healthy. However, this model is not useful at all since it fails to detect any cases of the disease, so its F1 score will be very low.\n",
    "\n",
    "On the other hand, if we have a more sophisticated model that is powerful enough to detect many cases of the disease, but may misclassify some healthy individuals as diseased, it might have slightly lower accuracy (say 75%), but its F1 score will be much higher because it detects more cases of the disease and also correctly identifies a large number of healthy individuals.\n",
    "\n",
    "Therefore, the F1 score helps us evaluate a model's performance better in situations where classes are imbalanced and helps us consider how well precision and recall are balanced. In cases where precision and recall have equal importance, accuracy as a general metric may be sufficient.\n",
    "</font>  "
   ]
  }
 ],
 "metadata": {
  "colab": {
   "collapsed_sections": [
    "utNwgYmlKvfm",
    "bjntS4nxH4Hs",
    "TNo6F7XEH7p3",
    "phw5_4uEIgyY",
    "NOo1N_ZaKHPg",
    "js3fx5A2lnR6",
    "GoPThTyLnd0N",
    "54V2QMyQoAQr",
    "0u9hzezSo48b",
    "RYDwVLDqkoXc",
    "q0Ogh-b03oUx"
   ],
   "provenance": []
  },
  "kernelspec": {
   "display_name": "Python 3 (ipykernel)",
   "language": "python",
   "name": "python3"
  },
  "language_info": {
   "codemirror_mode": {
    "name": "ipython",
    "version": 3
   },
   "file_extension": ".py",
   "mimetype": "text/x-python",
   "name": "python",
   "nbconvert_exporter": "python",
   "pygments_lexer": "ipython3",
   "version": "3.9.7"
  }
 },
 "nbformat": 4,
 "nbformat_minor": 1
}
